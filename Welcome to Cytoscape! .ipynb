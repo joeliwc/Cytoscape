{
 "cells": [
  {
   "cell_type": "code",
   "execution_count": 1,
   "metadata": {
    "scrolled": true
   },
   "outputs": [
    {
     "data": {
      "text/html": [
       "<script>var py = Jupyter.notebook.kernel</script>"
      ],
      "text/plain": [
       "<IPython.core.display.HTML object>"
      ]
     },
     "metadata": {},
     "output_type": "display_data"
    },
    {
     "data": {
      "text/html": [
       "<style>\n",
       "div.output_subarea {\n",
       "    padding: 0;\n",
       "}\n",
       "div.run_this_cell{\n",
       "    padding: 0;\n",
       "}\n",
       "</style>"
      ],
      "text/plain": [
       "<IPython.core.display.HTML object>"
      ]
     },
     "metadata": {},
     "output_type": "display_data"
    },
    {
     "data": {
      "text/html": [
       "<style>\n",
       "*{margin:0; padding:0;} html, body,              .container{margin:0;!important padding:0;!important}              .container { width:100% !important;}\n",
       "</style>"
      ],
      "text/plain": [
       "<IPython.core.display.HTML object>"
      ]
     },
     "metadata": {},
     "output_type": "display_data"
    },
    {
     "data": {
      "text/html": [
       "<style>\n",
       "div.text_cell.rendered { /* Customize text cells */\n",
       "    font-size:1.1em;\n",
       "    line-height:1.4em;\n",
       "}\n",
       "</style>"
      ],
      "text/plain": [
       "<IPython.core.display.HTML object>"
      ]
     },
     "metadata": {},
     "output_type": "display_data"
    },
    {
     "data": {
      "text/html": [
       "<style>\n",
       "#notebook-container {\n",
       "    box-shadow: 0px 0px 0px 0px rgba(87, 87, 87, 0.2);\n",
       "}\n",
       "div#notebook {\n",
       "    background-color: White;\n",
       "}\n",
       ".end_space {\n",
       "    background-color: White;\n",
       "}\n",
       "</style>"
      ],
      "text/plain": [
       "<IPython.core.display.HTML object>"
      ]
     },
     "metadata": {},
     "output_type": "display_data"
    },
    {
     "data": {
      "text/html": [
       "<style>\n",
       ".input_prompt {\n",
       "    margin:0;\n",
       "    padding:0;\n",
       "    min-width: 0ex;\n",
       "    font-size:.7em;\n",
       "}\n",
       ".prompt {\n",
       "    min-width: 2vw;\n",
       "}\n",
       "div.input_prompt bdi {\n",
       "    display: none;\n",
       "}\n",
       "div.input_prompt i {\n",
       "    font-size: 2em;\n",
       "    opacity: 0.7;\n",
       "}\n",
       "\n",
       "div.output_subarea { /* Makes html output width larger */\n",
       "    max-width: 100%\n",
       "}\n",
       "</style>"
      ],
      "text/plain": [
       "<IPython.core.display.HTML object>"
      ]
     },
     "metadata": {},
     "output_type": "display_data"
    },
    {
     "data": {
      "application/javascript": [
       "\n",
       "// Movement between Cells\n",
       "Jupyter.keyboard_manager.command_shortcuts.add_shortcut('-', 'jupyter-notebook:select-previous-cell');\n",
       "Jupyter.keyboard_manager.command_shortcuts.add_shortcut('=', 'jupyter-notebook:select-next-cell');\n",
       "Jupyter.keyboard_manager.command_shortcuts.add_shortcut('shift--', 'jupyter-notebook:extend-selection-above');\n",
       "Jupyter.keyboard_manager.command_shortcuts.add_shortcut('shift-=', 'jupyter-notebook:extend-selection-below');\n",
       "Jupyter.keyboard_manager.command_shortcuts.add_shortcut('alt--', 'jupyter-notebook:move-selection-up');\n",
       "Jupyter.keyboard_manager.command_shortcuts.add_shortcut('alt-=', 'jupyter-notebook:move-selection-down');\n",
       "\n",
       "// Controls Collapssing\n",
       "Jupyter.keyboard_manager.command_shortcuts.add_shortcut(']', 'collapsible_headings:uncollapse_heading');\n",
       "Jupyter.keyboard_manager.command_shortcuts.add_shortcut('[', 'collapsible_headings:collapse_heading');\n",
       "Jupyter.keyboard_manager.command_shortcuts.add_shortcut('shift-]', 'collapsible_headings:uncollapse_all_headings');\n",
       "Jupyter.keyboard_manager.command_shortcuts.add_shortcut('shift-[', 'collapsible_headings:collapse_all_headings');\n",
       "\n",
       "// SKETCHY ONE // Entre command mode\n",
       "Jupyter.keyboard_manager.edit_shortcuts.add_shortcut('shift-backspace', 'jupyter-notebook:enter-command-mode');\n"
      ],
      "text/plain": [
       "<IPython.core.display.Javascript object>"
      ]
     },
     "metadata": {},
     "output_type": "display_data"
    },
    {
     "data": {
      "text/html": [
       "<style>\n",
       "body {\n",
       "    -webkit-overflow-scrolling: touch;\n",
       "}\n",
       "</style>"
      ],
      "text/plain": [
       "<IPython.core.display.HTML object>"
      ]
     },
     "metadata": {},
     "output_type": "display_data"
    },
    {
     "data": {
      "text/html": [
       "<style>\n",
       "div.run_this_cell i {\n",
       "    font-size: 2em;\n",
       "    opacity: 0.7;\n",
       "}\n",
       "</style>"
      ],
      "text/plain": [
       "<IPython.core.display.HTML object>"
      ]
     },
     "metadata": {},
     "output_type": "display_data"
    }
   ],
   "source": [
    "%run \"~/Apps/Setup_Notebook/default.ipynb\""
   ]
  },
  {
   "cell_type": "markdown",
   "metadata": {},
   "source": [
    "<img class=\"img-responsive\" width=\"30%\" src=\"http://www.cytoscape.org/images/cytoscape3_logo.png\" alt=\"logo\">"
   ]
  },
  {
   "cell_type": "markdown",
   "metadata": {},
   "source": [
    "<font size=\"6\"> Cytoscape in Jupyter!</font>"
   ]
  },
  {
   "cell_type": "markdown",
   "metadata": {},
   "source": [
    "<font size = 4>We're about to release cytoscape inside of Ideker Online, a new cloud computing environment for the lab.</font>\n",
    "\n",
    "You can try out the new cytoscape below. There's also a [video tutorial!](https://www.youtube.com/watch?v=tq_6dRcDME4) We're launching Ideker Online next week. If you'd like to try it out, enter your email below:"
   ]
  },
  {
   "cell_type": "code",
   "execution_count": 2,
   "metadata": {},
   "outputs": [
    {
     "data": {
      "text/html": [
       "\n",
       "<div class=\"row\"><div class=\"col-xs-12 col-md-offset-3 col-md-6\">\n",
       "<div class=\"embed-responsive embed-responsive-16by9\">\n",
       "  <iframe class=\"embed-responsive-item\" \n",
       "  src='https://www.youtube.com/embed/p34OR7IVZiE'></iframe></div>\n",
       "</div></div>\n"
      ],
      "text/plain": [
       "<IPython.core.display.HTML object>"
      ]
     },
     "execution_count": 2,
     "metadata": {},
     "output_type": "execute_result"
    }
   ],
   "source": [
    "HTML(\"\"\"\n",
    "<div class=\"row\"><div class=\"col-xs-12 col-md-offset-3 col-md-6\">\n",
    "<div class=\"embed-responsive embed-responsive-16by9\">\n",
    "  <iframe class=\"embed-responsive-item\" \n",
    "  src='https://www.youtube.com/embed/p34OR7IVZiE'></iframe></div>\n",
    "</div></div>\n",
    "\"\"\")"
   ]
  },
  {
   "cell_type": "markdown",
   "metadata": {
    "collapsed": true
   },
   "source": [
    "# Try the New Cytoscape"
   ]
  },
  {
   "cell_type": "markdown",
   "metadata": {},
   "source": [
    "* <font color=\"orange\">**Cytoscape**</font> is a [jupyter](http://jupyter.org/index.html) based framework to view graphical networks, *no coding knowledge required*.\n",
    "* The entire platform is cloud based so you don't need to download anything, just login and start.\n",
    "* Furthermore, sharing scientific results is a breeze. When you're done with this notebook, you can instantly make it public to everyone."
   ]
  },
  {
   "cell_type": "code",
   "execution_count": 72,
   "metadata": {},
   "outputs": [
    {
     "data": {
      "text/html": [
       "<script>var py = Jupyter.notebook.kernel</script>"
      ],
      "text/plain": [
       "<IPython.core.display.HTML object>"
      ]
     },
     "metadata": {},
     "output_type": "display_data"
    },
    {
     "data": {
      "text/html": [
       "<style>\n",
       "div.output_subarea {\n",
       "    padding: 0;\n",
       "}\n",
       "div.run_this_cell{\n",
       "    padding: 0;\n",
       "}\n",
       "</style>"
      ],
      "text/plain": [
       "<IPython.core.display.HTML object>"
      ]
     },
     "metadata": {},
     "output_type": "display_data"
    },
    {
     "data": {
      "text/html": [
       "<style>\n",
       "*{margin:0; padding:0;} html, body,              .container{margin:0;!important padding:0;!important}              .container { width:100% !important;}\n",
       "</style>"
      ],
      "text/plain": [
       "<IPython.core.display.HTML object>"
      ]
     },
     "metadata": {},
     "output_type": "display_data"
    },
    {
     "data": {
      "text/html": [
       "<style>\n",
       "div.text_cell.rendered { /* Customize text cells */\n",
       "    font-size:1.1em;\n",
       "    line-height:1.4em;\n",
       "}\n",
       "</style>"
      ],
      "text/plain": [
       "<IPython.core.display.HTML object>"
      ]
     },
     "metadata": {},
     "output_type": "display_data"
    },
    {
     "data": {
      "text/html": [
       "<style>\n",
       "#notebook-container {\n",
       "    box-shadow: 0px 0px 0px 0px rgba(87, 87, 87, 0.2);\n",
       "}\n",
       "div#notebook {\n",
       "    background-color: White;\n",
       "}\n",
       ".end_space {\n",
       "    background-color: White;\n",
       "}\n",
       "</style>"
      ],
      "text/plain": [
       "<IPython.core.display.HTML object>"
      ]
     },
     "metadata": {},
     "output_type": "display_data"
    },
    {
     "data": {
      "text/html": [
       "<style>\n",
       ".input_prompt {\n",
       "    margin:0;\n",
       "    padding:0;\n",
       "    min-width: 0ex;\n",
       "    font-size:.7em;\n",
       "}\n",
       ".prompt {\n",
       "    min-width: 2vw;\n",
       "}\n",
       "div.input_prompt bdi {\n",
       "    display: none;\n",
       "}\n",
       "div.input_prompt i {\n",
       "    font-size: 2em;\n",
       "    opacity: 0.7;\n",
       "}\n",
       "\n",
       "div.output_subarea { /* Makes html output width larger */\n",
       "    max-width: 100%\n",
       "}\n",
       "</style>"
      ],
      "text/plain": [
       "<IPython.core.display.HTML object>"
      ]
     },
     "metadata": {},
     "output_type": "display_data"
    },
    {
     "data": {
      "application/javascript": [
       "\n",
       "// Movement between Cells\n",
       "Jupyter.keyboard_manager.command_shortcuts.add_shortcut('-', 'jupyter-notebook:select-previous-cell');\n",
       "Jupyter.keyboard_manager.command_shortcuts.add_shortcut('=', 'jupyter-notebook:select-next-cell');\n",
       "Jupyter.keyboard_manager.command_shortcuts.add_shortcut('shift--', 'jupyter-notebook:extend-selection-above');\n",
       "Jupyter.keyboard_manager.command_shortcuts.add_shortcut('shift-=', 'jupyter-notebook:extend-selection-below');\n",
       "Jupyter.keyboard_manager.command_shortcuts.add_shortcut('alt--', 'jupyter-notebook:move-selection-up');\n",
       "Jupyter.keyboard_manager.command_shortcuts.add_shortcut('alt-=', 'jupyter-notebook:move-selection-down');\n",
       "\n",
       "// Controls Collapssing\n",
       "Jupyter.keyboard_manager.command_shortcuts.add_shortcut(']', 'collapsible_headings:uncollapse_heading');\n",
       "Jupyter.keyboard_manager.command_shortcuts.add_shortcut('[', 'collapsible_headings:collapse_heading');\n",
       "Jupyter.keyboard_manager.command_shortcuts.add_shortcut('shift-]', 'collapsible_headings:uncollapse_all_headings');\n",
       "Jupyter.keyboard_manager.command_shortcuts.add_shortcut('shift-[', 'collapsible_headings:collapse_all_headings');\n",
       "\n",
       "// SKETCHY ONE // Entre command mode\n",
       "Jupyter.keyboard_manager.edit_shortcuts.add_shortcut('shift-backspace', 'jupyter-notebook:enter-command-mode');\n"
      ],
      "text/plain": [
       "<IPython.core.display.Javascript object>"
      ]
     },
     "metadata": {},
     "output_type": "display_data"
    },
    {
     "data": {
      "text/html": [
       "<style>\n",
       "body {\n",
       "    -webkit-overflow-scrolling: touch;\n",
       "}\n",
       "</style>"
      ],
      "text/plain": [
       "<IPython.core.display.HTML object>"
      ]
     },
     "metadata": {},
     "output_type": "display_data"
    },
    {
     "data": {
      "text/html": [
       "<style>\n",
       "div.run_this_cell i {\n",
       "    font-size: 2em;\n",
       "    opacity: 0.7;\n",
       "}\n",
       "</style>"
      ],
      "text/plain": [
       "<IPython.core.display.HTML object>"
      ]
     },
     "metadata": {},
     "output_type": "display_data"
    },
    {
     "data": {
      "text/html": [
       "<style>\n",
       "#table_body tr td {\n",
       "    padding: 2px;\n",
       "}\n",
       "#table_body tr td input{\n",
       "    height: 100%;\n",
       "    width: 100%;\n",
       "    border: 0px;\n",
       "    text-align: center;\n",
       "}\n",
       "</style>"
      ],
      "text/plain": [
       "<IPython.core.display.HTML object>"
      ]
     },
     "metadata": {},
     "output_type": "display_data"
    }
   ],
   "source": [
    "%run Embed.ipynb"
   ]
  },
  {
   "cell_type": "code",
   "execution_count": 73,
   "metadata": {
    "cell_style": "split"
   },
   "outputs": [
    {
     "data": {
      "application/vnd.jupyter.widget-view+json": {
       "model_id": "82383de541ee423588aa2d2241f5e030",
       "version_major": 2,
       "version_minor": 0
      },
      "text/plain": [
       "VBox(children=(VBox(children=(HBox(children=(Text(value='', continuous_update=False, description='Search :'), …"
      ]
     },
     "metadata": {},
     "output_type": "display_data"
    },
    {
     "data": {
      "application/javascript": [
       "\n",
       "    for(var i=0; i < cy.io.selection.length; i++ ){\n",
       "        var ele = cy.io.selection[i]\n",
       "        cy.io.style.change( ele, [\"background-color\",\"line-color\"], ['#020202','#020202']  )\n",
       "    }\n",
       "    "
      ],
      "text/plain": [
       "<IPython.core.display.Javascript object>"
      ]
     },
     "metadata": {},
     "output_type": "display_data"
    },
    {
     "data": {
      "application/javascript": [
       "\n",
       "    for(var i=0; i < cy.io.selection.length; i++ ){\n",
       "        var ele = cy.io.selection[i]\n",
       "        cy.io.style.change( ele, [\"background-color\",\"line-color\"], ['#101010','#101010']  )\n",
       "    }\n",
       "    "
      ],
      "text/plain": [
       "<IPython.core.display.Javascript object>"
      ]
     },
     "metadata": {},
     "output_type": "display_data"
    },
    {
     "data": {
      "application/javascript": [
       "\n",
       "    for(var i=0; i < cy.io.selection.length; i++ ){\n",
       "        var ele = cy.io.selection[i]\n",
       "        cy.io.style.change( ele, [\"background-color\",\"line-color\"], ['#2f2f2f','#2f2f2f']  )\n",
       "    }\n",
       "    "
      ],
      "text/plain": [
       "<IPython.core.display.Javascript object>"
      ]
     },
     "metadata": {},
     "output_type": "display_data"
    },
    {
     "data": {
      "application/javascript": [
       "\n",
       "    for(var i=0; i < cy.io.selection.length; i++ ){\n",
       "        var ele = cy.io.selection[i]\n",
       "        cy.io.style.change( ele, [\"background-color\",\"line-color\"], ['#393939','#393939']  )\n",
       "    }\n",
       "    "
      ],
      "text/plain": [
       "<IPython.core.display.Javascript object>"
      ]
     },
     "metadata": {},
     "output_type": "display_data"
    },
    {
     "data": {
      "application/javascript": [
       "\n",
       "    for(var i=0; i < cy.io.selection.length; i++ ){\n",
       "        var ele = cy.io.selection[i]\n",
       "        cy.io.style.change( ele, [\"background-color\",\"line-color\"], ['#7c7c7c','#7c7c7c']  )\n",
       "    }\n",
       "    "
      ],
      "text/plain": [
       "<IPython.core.display.Javascript object>"
      ]
     },
     "metadata": {},
     "output_type": "display_data"
    },
    {
     "data": {
      "application/javascript": [
       "\n",
       "    for(var i=0; i < cy.io.selection.length; i++ ){\n",
       "        var ele = cy.io.selection[i]\n",
       "        cy.io.style.change( ele, [\"background-color\",\"line-color\"], ['#bebebe','#bebebe']  )\n",
       "    }\n",
       "    "
      ],
      "text/plain": [
       "<IPython.core.display.Javascript object>"
      ]
     },
     "metadata": {},
     "output_type": "display_data"
    },
    {
     "data": {
      "application/javascript": [
       "\n",
       "    for(var i=0; i < cy.io.selection.length; i++ ){\n",
       "        var ele = cy.io.selection[i]\n",
       "        cy.io.style.change( ele, [\"background-color\",\"line-color\"], ['#c8c8c8','#c8c8c8']  )\n",
       "    }\n",
       "    "
      ],
      "text/plain": [
       "<IPython.core.display.Javascript object>"
      ]
     },
     "metadata": {},
     "output_type": "display_data"
    },
    {
     "data": {
      "application/javascript": [
       "\n",
       "    for(var i=0; i < cy.io.selection.length; i++ ){\n",
       "        var ele = cy.io.selection[i]\n",
       "        cy.io.style.change( ele, [\"background-color\",\"line-color\"], ['#dadada','#dadada']  )\n",
       "    }\n",
       "    "
      ],
      "text/plain": [
       "<IPython.core.display.Javascript object>"
      ]
     },
     "metadata": {},
     "output_type": "display_data"
    },
    {
     "data": {
      "application/javascript": [
       "\n",
       "    for(var i=0; i < cy.io.selection.length; i++ ){\n",
       "        var ele = cy.io.selection[i]\n",
       "        cy.io.style.change( ele, [\"background-color\",\"line-color\"], ['#dddddd','#dddddd']  )\n",
       "    }\n",
       "    "
      ],
      "text/plain": [
       "<IPython.core.display.Javascript object>"
      ]
     },
     "metadata": {},
     "output_type": "display_data"
    },
    {
     "data": {
      "application/javascript": [
       "\n",
       "    for(var i=0; i < cy.io.selection.length; i++ ){\n",
       "        var ele = cy.io.selection[i]\n",
       "        cy.io.style.change( ele, [\"background-color\",\"line-color\"], ['#f5f5f5','#f5f5f5']  )\n",
       "    }\n",
       "    "
      ],
      "text/plain": [
       "<IPython.core.display.Javascript object>"
      ]
     },
     "metadata": {},
     "output_type": "display_data"
    },
    {
     "data": {
      "application/javascript": [
       "\n",
       "    for(var i=0; i < cy.io.selection.length; i++ ){\n",
       "        var ele = cy.io.selection[i]\n",
       "        cy.io.style.change( ele, [\"background-color\",\"line-color\"], ['#f7f7f7','#f7f7f7']  )\n",
       "    }\n",
       "    "
      ],
      "text/plain": [
       "<IPython.core.display.Javascript object>"
      ]
     },
     "metadata": {},
     "output_type": "display_data"
    },
    {
     "data": {
      "application/javascript": [
       "\n",
       "    for(var i=0; i < cy.io.selection.length; i++ ){\n",
       "        var ele = cy.io.selection[i]\n",
       "        cy.io.style.change( ele, [\"background-color\",\"line-color\"], ['#f8f8f8','#f8f8f8']  )\n",
       "    }\n",
       "    "
      ],
      "text/plain": [
       "<IPython.core.display.Javascript object>"
      ]
     },
     "metadata": {},
     "output_type": "display_data"
    },
    {
     "data": {
      "application/javascript": [
       "\n",
       "    for(var i=0; i < cy.io.selection.length; i++ ){\n",
       "        var ele = cy.io.selection[i]\n",
       "        cy.io.style.change( ele, [\"background-color\",\"line-color\"], ['#f9f9f9','#f9f9f9']  )\n",
       "    }\n",
       "    "
      ],
      "text/plain": [
       "<IPython.core.display.Javascript object>"
      ]
     },
     "metadata": {},
     "output_type": "display_data"
    },
    {
     "data": {
      "application/javascript": [
       "\n",
       "    for(var i=0; i < cy.io.selection.length; i++ ){\n",
       "        var ele = cy.io.selection[i]\n",
       "        cy.io.style.change( ele, [\"background-color\",\"line-color\"], ['#fafafa','#fafafa']  )\n",
       "    }\n",
       "    "
      ],
      "text/plain": [
       "<IPython.core.display.Javascript object>"
      ]
     },
     "metadata": {},
     "output_type": "display_data"
    },
    {
     "data": {
      "application/javascript": [
       "\n",
       "    for(var i=0; i < cy.io.selection.length; i++ ){\n",
       "        var ele = cy.io.selection[i]\n",
       "        cy.io.style.change( ele, [\"background-color\",\"line-color\"], ['#fbfbfb','#fbfbfb']  )\n",
       "    }\n",
       "    "
      ],
      "text/plain": [
       "<IPython.core.display.Javascript object>"
      ]
     },
     "metadata": {},
     "output_type": "display_data"
    },
    {
     "data": {
      "application/javascript": [
       "\n",
       "    for(var i=0; i < cy.io.selection.length; i++ ){\n",
       "        var ele = cy.io.selection[i]\n",
       "        cy.io.style.change( ele, [\"background-color\",\"line-color\"], ['#fcfcfc','#fcfcfc']  )\n",
       "    }\n",
       "    "
      ],
      "text/plain": [
       "<IPython.core.display.Javascript object>"
      ]
     },
     "metadata": {},
     "output_type": "display_data"
    },
    {
     "data": {
      "application/javascript": [
       "\n",
       "    for(var i=0; i < cy.io.selection.length; i++ ){\n",
       "        var ele = cy.io.selection[i]\n",
       "        cy.io.style.change( ele, [\"background-color\",\"line-color\"], ['#fdfdfd','#fdfdfd']  )\n",
       "    }\n",
       "    "
      ],
      "text/plain": [
       "<IPython.core.display.Javascript object>"
      ]
     },
     "metadata": {},
     "output_type": "display_data"
    },
    {
     "data": {
      "application/javascript": [
       "\n",
       "    for(var i=0; i < cy.io.selection.length; i++ ){\n",
       "        var ele = cy.io.selection[i]\n",
       "        cy.io.style.change( ele, [\"background-color\",\"line-color\"], ['#fdfdf4','#fdfdf4']  )\n",
       "    }\n",
       "    "
      ],
      "text/plain": [
       "<IPython.core.display.Javascript object>"
      ]
     },
     "metadata": {},
     "output_type": "display_data"
    },
    {
     "data": {
      "application/javascript": [
       "\n",
       "    for(var i=0; i < cy.io.selection.length; i++ ){\n",
       "        var ele = cy.io.selection[i]\n",
       "        cy.io.style.change( ele, [\"background-color\",\"line-color\"], ['#fcfdf2','#fcfdf2']  )\n",
       "    }\n",
       "    "
      ],
      "text/plain": [
       "<IPython.core.display.Javascript object>"
      ]
     },
     "metadata": {},
     "output_type": "display_data"
    },
    {
     "data": {
      "application/javascript": [
       "\n",
       "    for(var i=0; i < cy.io.selection.length; i++ ){\n",
       "        var ele = cy.io.selection[i]\n",
       "        cy.io.style.change( ele, [\"background-color\",\"line-color\"], ['#fbfdf1','#fbfdf1']  )\n",
       "    }\n",
       "    "
      ],
      "text/plain": [
       "<IPython.core.display.Javascript object>"
      ]
     },
     "metadata": {},
     "output_type": "display_data"
    },
    {
     "data": {
      "application/javascript": [
       "\n",
       "    for(var i=0; i < cy.io.selection.length; i++ ){\n",
       "        var ele = cy.io.selection[i]\n",
       "        cy.io.style.change( ele, [\"background-color\",\"line-color\"], ['#fafdef','#fafdef']  )\n",
       "    }\n",
       "    "
      ],
      "text/plain": [
       "<IPython.core.display.Javascript object>"
      ]
     },
     "metadata": {},
     "output_type": "display_data"
    },
    {
     "data": {
      "application/javascript": [
       "\n",
       "    for(var i=0; i < cy.io.selection.length; i++ ){\n",
       "        var ele = cy.io.selection[i]\n",
       "        cy.io.style.change( ele, [\"background-color\",\"line-color\"], ['#fafdee','#fafdee']  )\n",
       "    }\n",
       "    "
      ],
      "text/plain": [
       "<IPython.core.display.Javascript object>"
      ]
     },
     "metadata": {},
     "output_type": "display_data"
    },
    {
     "data": {
      "application/javascript": [
       "\n",
       "    for(var i=0; i < cy.io.selection.length; i++ ){\n",
       "        var ele = cy.io.selection[i]\n",
       "        cy.io.style.change( ele, [\"background-color\",\"line-color\"], ['#f9fded','#f9fded']  )\n",
       "    }\n",
       "    "
      ],
      "text/plain": [
       "<IPython.core.display.Javascript object>"
      ]
     },
     "metadata": {},
     "output_type": "display_data"
    },
    {
     "data": {
      "application/javascript": [
       "\n",
       "    for(var i=0; i < cy.io.selection.length; i++ ){\n",
       "        var ele = cy.io.selection[i]\n",
       "        cy.io.style.change( ele, [\"background-color\",\"line-color\"], ['#f8fdec','#f8fdec']  )\n",
       "    }\n",
       "    "
      ],
      "text/plain": [
       "<IPython.core.display.Javascript object>"
      ]
     },
     "metadata": {},
     "output_type": "display_data"
    },
    {
     "data": {
      "application/javascript": [
       "\n",
       "    for(var i=0; i < cy.io.selection.length; i++ ){\n",
       "        var ele = cy.io.selection[i]\n",
       "        cy.io.style.change( ele, [\"background-color\",\"line-color\"], ['#f8fdeb','#f8fdeb']  )\n",
       "    }\n",
       "    "
      ],
      "text/plain": [
       "<IPython.core.display.Javascript object>"
      ]
     },
     "metadata": {},
     "output_type": "display_data"
    },
    {
     "data": {
      "application/javascript": [
       "\n",
       "    for(var i=0; i < cy.io.selection.length; i++ ){\n",
       "        var ele = cy.io.selection[i]\n",
       "        cy.io.style.change( ele, [\"background-color\",\"line-color\"], ['#f7fde9','#f7fde9']  )\n",
       "    }\n",
       "    "
      ],
      "text/plain": [
       "<IPython.core.display.Javascript object>"
      ]
     },
     "metadata": {},
     "output_type": "display_data"
    },
    {
     "data": {
      "application/javascript": [
       "\n",
       "    for(var i=0; i < cy.io.selection.length; i++ ){\n",
       "        var ele = cy.io.selection[i]\n",
       "        cy.io.style.change( ele, [\"background-color\",\"line-color\"], ['#f6fde7','#f6fde7']  )\n",
       "    }\n",
       "    "
      ],
      "text/plain": [
       "<IPython.core.display.Javascript object>"
      ]
     },
     "metadata": {},
     "output_type": "display_data"
    },
    {
     "data": {
      "application/javascript": [
       "\n",
       "    for(var i=0; i < cy.io.selection.length; i++ ){\n",
       "        var ele = cy.io.selection[i]\n",
       "        cy.io.style.change( ele, [\"background-color\",\"line-color\"], ['#f5fde6','#f5fde6']  )\n",
       "    }\n",
       "    "
      ],
      "text/plain": [
       "<IPython.core.display.Javascript object>"
      ]
     },
     "metadata": {},
     "output_type": "display_data"
    },
    {
     "data": {
      "application/javascript": [
       "\n",
       "    for(var i=0; i < cy.io.selection.length; i++ ){\n",
       "        var ele = cy.io.selection[i]\n",
       "        cy.io.style.change( ele, [\"background-color\",\"line-color\"], ['#f5fde4','#f5fde4']  )\n",
       "    }\n",
       "    "
      ],
      "text/plain": [
       "<IPython.core.display.Javascript object>"
      ]
     },
     "metadata": {},
     "output_type": "display_data"
    },
    {
     "data": {
      "application/javascript": [
       "\n",
       "    for(var i=0; i < cy.io.selection.length; i++ ){\n",
       "        var ele = cy.io.selection[i]\n",
       "        cy.io.style.change( ele, [\"background-color\",\"line-color\"], ['#f3fde1','#f3fde1']  )\n",
       "    }\n",
       "    "
      ],
      "text/plain": [
       "<IPython.core.display.Javascript object>"
      ]
     },
     "metadata": {},
     "output_type": "display_data"
    },
    {
     "data": {
      "application/javascript": [
       "\n",
       "    for(var i=0; i < cy.io.selection.length; i++ ){\n",
       "        var ele = cy.io.selection[i]\n",
       "        cy.io.style.change( ele, [\"background-color\",\"line-color\"], ['#f3fdde','#f3fdde']  )\n",
       "    }\n",
       "    "
      ],
      "text/plain": [
       "<IPython.core.display.Javascript object>"
      ]
     },
     "metadata": {},
     "output_type": "display_data"
    },
    {
     "data": {
      "application/javascript": [
       "\n",
       "    for(var i=0; i < cy.io.selection.length; i++ ){\n",
       "        var ele = cy.io.selection[i]\n",
       "        cy.io.style.change( ele, [\"background-color\",\"line-color\"], ['#f2fddc','#f2fddc']  )\n",
       "    }\n",
       "    "
      ],
      "text/plain": [
       "<IPython.core.display.Javascript object>"
      ]
     },
     "metadata": {},
     "output_type": "display_data"
    },
    {
     "data": {
      "application/javascript": [
       "\n",
       "    for(var i=0; i < cy.io.selection.length; i++ ){\n",
       "        var ele = cy.io.selection[i]\n",
       "        cy.io.style.change( ele, [\"background-color\",\"line-color\"], ['#f2fdda','#f2fdda']  )\n",
       "    }\n",
       "    "
      ],
      "text/plain": [
       "<IPython.core.display.Javascript object>"
      ]
     },
     "metadata": {},
     "output_type": "display_data"
    },
    {
     "data": {
      "application/javascript": [
       "\n",
       "    for(var i=0; i < cy.io.selection.length; i++ ){\n",
       "        var ele = cy.io.selection[i]\n",
       "        cy.io.style.change( ele, [\"background-color\",\"line-color\"], ['#f2fdd9','#f2fdd9']  )\n",
       "    }\n",
       "    "
      ],
      "text/plain": [
       "<IPython.core.display.Javascript object>"
      ]
     },
     "metadata": {},
     "output_type": "display_data"
    },
    {
     "data": {
      "application/javascript": [
       "\n",
       "    for(var i=0; i < cy.io.selection.length; i++ ){\n",
       "        var ele = cy.io.selection[i]\n",
       "        cy.io.style.change( ele, [\"background-color\",\"line-color\"], ['#f1fdd7','#f1fdd7']  )\n",
       "    }\n",
       "    "
      ],
      "text/plain": [
       "<IPython.core.display.Javascript object>"
      ]
     },
     "metadata": {},
     "output_type": "display_data"
    },
    {
     "data": {
      "application/javascript": [
       "\n",
       "    for(var i=0; i < cy.io.selection.length; i++ ){\n",
       "        var ele = cy.io.selection[i]\n",
       "        cy.io.style.change( ele, [\"background-color\",\"line-color\"], ['#f1fdd6','#f1fdd6']  )\n",
       "    }\n",
       "    "
      ],
      "text/plain": [
       "<IPython.core.display.Javascript object>"
      ]
     },
     "metadata": {},
     "output_type": "display_data"
    },
    {
     "data": {
      "application/javascript": [
       "\n",
       "    for(var i=0; i < cy.io.selection.length; i++ ){\n",
       "        var ele = cy.io.selection[i]\n",
       "        cy.io.style.change( ele, [\"background-color\",\"line-color\"], ['#f1fdd5','#f1fdd5']  )\n",
       "    }\n",
       "    "
      ],
      "text/plain": [
       "<IPython.core.display.Javascript object>"
      ]
     },
     "metadata": {},
     "output_type": "display_data"
    },
    {
     "data": {
      "application/javascript": [
       "\n",
       "    for(var i=0; i < cy.io.selection.length; i++ ){\n",
       "        var ele = cy.io.selection[i]\n",
       "        cy.io.style.change( ele, [\"background-color\",\"line-color\"], ['#f0fdd3','#f0fdd3']  )\n",
       "    }\n",
       "    "
      ],
      "text/plain": [
       "<IPython.core.display.Javascript object>"
      ]
     },
     "metadata": {},
     "output_type": "display_data"
    },
    {
     "data": {
      "application/javascript": [
       "\n",
       "    for(var i=0; i < cy.io.selection.length; i++ ){\n",
       "        var ele = cy.io.selection[i]\n",
       "        cy.io.style.change( ele, [\"background-color\",\"line-color\"], ['#effdd1','#effdd1']  )\n",
       "    }\n",
       "    "
      ],
      "text/plain": [
       "<IPython.core.display.Javascript object>"
      ]
     },
     "metadata": {},
     "output_type": "display_data"
    },
    {
     "data": {
      "application/javascript": [
       "\n",
       "    for(var i=0; i < cy.io.selection.length; i++ ){\n",
       "        var ele = cy.io.selection[i]\n",
       "        cy.io.style.change( ele, [\"background-color\",\"line-color\"], ['#effdcf','#effdcf']  )\n",
       "    }\n",
       "    "
      ],
      "text/plain": [
       "<IPython.core.display.Javascript object>"
      ]
     },
     "metadata": {},
     "output_type": "display_data"
    },
    {
     "data": {
      "application/javascript": [
       "\n",
       "    for(var i=0; i < cy.io.selection.length; i++ ){\n",
       "        var ele = cy.io.selection[i]\n",
       "        cy.io.style.change( ele, [\"background-color\",\"line-color\"], ['#effdce','#effdce']  )\n",
       "    }\n",
       "    "
      ],
      "text/plain": [
       "<IPython.core.display.Javascript object>"
      ]
     },
     "metadata": {},
     "output_type": "display_data"
    },
    {
     "data": {
      "application/javascript": [
       "\n",
       "    for(var i=0; i < cy.io.selection.length; i++ ){\n",
       "        var ele = cy.io.selection[i]\n",
       "        cy.io.style.change( ele, [\"background-color\",\"line-color\"], ['#effdcc','#effdcc']  )\n",
       "    }\n",
       "    "
      ],
      "text/plain": [
       "<IPython.core.display.Javascript object>"
      ]
     },
     "metadata": {},
     "output_type": "display_data"
    },
    {
     "data": {
      "application/javascript": [
       "\n",
       "    for(var i=0; i < cy.io.selection.length; i++ ){\n",
       "        var ele = cy.io.selection[i]\n",
       "        cy.io.style.change( ele, [\"background-color\",\"line-color\"], ['#eefdcb','#eefdcb']  )\n",
       "    }\n",
       "    "
      ],
      "text/plain": [
       "<IPython.core.display.Javascript object>"
      ]
     },
     "metadata": {},
     "output_type": "display_data"
    },
    {
     "data": {
      "application/javascript": [
       "\n",
       "    for(var i=0; i < cy.io.selection.length; i++ ){\n",
       "        var ele = cy.io.selection[i]\n",
       "        cy.io.style.change( ele, [\"background-color\",\"line-color\"], ['#eefdca','#eefdca']  )\n",
       "    }\n",
       "    "
      ],
      "text/plain": [
       "<IPython.core.display.Javascript object>"
      ]
     },
     "metadata": {},
     "output_type": "display_data"
    },
    {
     "data": {
      "application/javascript": [
       "\n",
       "    for(var i=0; i < cy.io.selection.length; i++ ){\n",
       "        var ele = cy.io.selection[i]\n",
       "        cy.io.style.change( ele, [\"background-color\",\"line-color\"], ['#eefdc9','#eefdc9']  )\n",
       "    }\n",
       "    "
      ],
      "text/plain": [
       "<IPython.core.display.Javascript object>"
      ]
     },
     "metadata": {},
     "output_type": "display_data"
    },
    {
     "data": {
      "application/javascript": [
       "\n",
       "    for(var i=0; i < cy.io.selection.length; i++ ){\n",
       "        var ele = cy.io.selection[i]\n",
       "        cy.io.style.change( ele, [\"background-color\",\"line-color\"], ['#eefdc8','#eefdc8']  )\n",
       "    }\n",
       "    "
      ],
      "text/plain": [
       "<IPython.core.display.Javascript object>"
      ]
     },
     "metadata": {},
     "output_type": "display_data"
    },
    {
     "data": {
      "application/javascript": [
       "\n",
       "    for(var i=0; i < cy.io.selection.length; i++ ){\n",
       "        var ele = cy.io.selection[i]\n",
       "        cy.io.style.change( ele, [\"background-color\",\"line-color\"], ['#eefdc7','#eefdc7']  )\n",
       "    }\n",
       "    "
      ],
      "text/plain": [
       "<IPython.core.display.Javascript object>"
      ]
     },
     "metadata": {},
     "output_type": "display_data"
    },
    {
     "data": {
      "application/javascript": [
       "\n",
       "    for(var i=0; i < cy.io.selection.length; i++ ){\n",
       "        var ele = cy.io.selection[i]\n",
       "        cy.io.style.change( ele, [\"background-color\",\"line-color\"], ['#edfdc6','#edfdc6']  )\n",
       "    }\n",
       "    "
      ],
      "text/plain": [
       "<IPython.core.display.Javascript object>"
      ]
     },
     "metadata": {},
     "output_type": "display_data"
    },
    {
     "data": {
      "application/javascript": [
       "\n",
       "    for(var i=0; i < cy.io.selection.length; i++ ){\n",
       "        var ele = cy.io.selection[i]\n",
       "        cy.io.style.change( ele, [\"background-color\",\"line-color\"], ['#eefdc4','#eefdc4']  )\n",
       "    }\n",
       "    "
      ],
      "text/plain": [
       "<IPython.core.display.Javascript object>"
      ]
     },
     "metadata": {},
     "output_type": "display_data"
    },
    {
     "data": {
      "application/javascript": [
       "\n",
       "    for(var i=0; i < cy.io.selection.length; i++ ){\n",
       "        var ele = cy.io.selection[i]\n",
       "        cy.io.style.change( ele, [\"background-color\",\"line-color\"], ['#edfdc3','#edfdc3']  )\n",
       "    }\n",
       "    "
      ],
      "text/plain": [
       "<IPython.core.display.Javascript object>"
      ]
     },
     "metadata": {},
     "output_type": "display_data"
    },
    {
     "data": {
      "application/javascript": [
       "\n",
       "    for(var i=0; i < cy.io.selection.length; i++ ){\n",
       "        var ele = cy.io.selection[i]\n",
       "        cy.io.style.change( ele, [\"background-color\",\"line-color\"], ['#eefdc2','#eefdc2']  )\n",
       "    }\n",
       "    "
      ],
      "text/plain": [
       "<IPython.core.display.Javascript object>"
      ]
     },
     "metadata": {},
     "output_type": "display_data"
    },
    {
     "data": {
      "application/javascript": [
       "\n",
       "    for(var i=0; i < cy.io.selection.length; i++ ){\n",
       "        var ele = cy.io.selection[i]\n",
       "        cy.io.style.change( ele, [\"background-color\",\"line-color\"], ['#eefdc1','#eefdc1']  )\n",
       "    }\n",
       "    "
      ],
      "text/plain": [
       "<IPython.core.display.Javascript object>"
      ]
     },
     "metadata": {},
     "output_type": "display_data"
    },
    {
     "data": {
      "application/javascript": [
       "\n",
       "    for(var i=0; i < cy.io.selection.length; i++ ){\n",
       "        var ele = cy.io.selection[i]\n",
       "        cy.io.style.change( ele, [\"background-color\",\"line-color\"], ['#edfdc0','#edfdc0']  )\n",
       "    }\n",
       "    "
      ],
      "text/plain": [
       "<IPython.core.display.Javascript object>"
      ]
     },
     "metadata": {},
     "output_type": "display_data"
    },
    {
     "data": {
      "application/javascript": [
       "\n",
       "    for(var i=0; i < cy.io.selection.length; i++ ){\n",
       "        var ele = cy.io.selection[i]\n",
       "        cy.io.style.change( ele, [\"background-color\",\"line-color\"], ['#edfdbe','#edfdbe']  )\n",
       "    }\n",
       "    "
      ],
      "text/plain": [
       "<IPython.core.display.Javascript object>"
      ]
     },
     "metadata": {},
     "output_type": "display_data"
    },
    {
     "data": {
      "application/javascript": [
       "\n",
       "    for(var i=0; i < cy.io.selection.length; i++ ){\n",
       "        var ele = cy.io.selection[i]\n",
       "        cy.io.style.change( ele, [\"background-color\",\"line-color\"], ['#edfdbd','#edfdbd']  )\n",
       "    }\n",
       "    "
      ],
      "text/plain": [
       "<IPython.core.display.Javascript object>"
      ]
     },
     "metadata": {},
     "output_type": "display_data"
    },
    {
     "data": {
      "application/javascript": [
       "\n",
       "    for(var i=0; i < cy.io.selection.length; i++ ){\n",
       "        var ele = cy.io.selection[i]\n",
       "        cy.io.style.change( ele, [\"background-color\",\"line-color\"], ['#eefdbc','#eefdbc']  )\n",
       "    }\n",
       "    "
      ],
      "text/plain": [
       "<IPython.core.display.Javascript object>"
      ]
     },
     "metadata": {},
     "output_type": "display_data"
    },
    {
     "data": {
      "application/javascript": [
       "\n",
       "    for(var i=0; i < cy.io.selection.length; i++ ){\n",
       "        var ele = cy.io.selection[i]\n",
       "        cy.io.style.change( ele, [\"background-color\",\"line-color\"], ['#edfdbb','#edfdbb']  )\n",
       "    }\n",
       "    "
      ],
      "text/plain": [
       "<IPython.core.display.Javascript object>"
      ]
     },
     "metadata": {},
     "output_type": "display_data"
    },
    {
     "data": {
      "application/javascript": [
       "\n",
       "    for(var i=0; i < cy.io.selection.length; i++ ){\n",
       "        var ele = cy.io.selection[i]\n",
       "        cy.io.style.change( ele, [\"background-color\",\"line-color\"], ['#eefdba','#eefdba']  )\n",
       "    }\n",
       "    "
      ],
      "text/plain": [
       "<IPython.core.display.Javascript object>"
      ]
     },
     "metadata": {},
     "output_type": "display_data"
    },
    {
     "data": {
      "application/javascript": [
       "\n",
       "    for(var i=0; i < cy.io.selection.length; i++ ){\n",
       "        var ele = cy.io.selection[i]\n",
       "        cy.io.style.change( ele, [\"background-color\",\"line-color\"], ['#edfdb9','#edfdb9']  )\n",
       "    }\n",
       "    "
      ],
      "text/plain": [
       "<IPython.core.display.Javascript object>"
      ]
     },
     "metadata": {},
     "output_type": "display_data"
    },
    {
     "data": {
      "application/javascript": [
       "\n",
       "    for(var i=0; i < cy.io.selection.length; i++ ){\n",
       "        var ele = cy.io.selection[i]\n",
       "        cy.io.style.change( ele, [\"background-color\",\"line-color\"], ['#edfdb8','#edfdb8']  )\n",
       "    }\n",
       "    "
      ],
      "text/plain": [
       "<IPython.core.display.Javascript object>"
      ]
     },
     "metadata": {},
     "output_type": "display_data"
    },
    {
     "data": {
      "application/javascript": [
       "\n",
       "    for(var i=0; i < cy.io.selection.length; i++ ){\n",
       "        var ele = cy.io.selection[i]\n",
       "        cy.io.style.change( ele, [\"background-color\",\"line-color\"], ['#edfdb7','#edfdb7']  )\n",
       "    }\n",
       "    "
      ],
      "text/plain": [
       "<IPython.core.display.Javascript object>"
      ]
     },
     "metadata": {},
     "output_type": "display_data"
    },
    {
     "data": {
      "application/javascript": [
       "\n",
       "    for(var i=0; i < cy.io.selection.length; i++ ){\n",
       "        var ele = cy.io.selection[i]\n",
       "        cy.io.style.change( ele, [\"background-color\",\"line-color\"], ['#edfdb6','#edfdb6']  )\n",
       "    }\n",
       "    "
      ],
      "text/plain": [
       "<IPython.core.display.Javascript object>"
      ]
     },
     "metadata": {},
     "output_type": "display_data"
    },
    {
     "data": {
      "application/javascript": [
       "\n",
       "    for(var i=0; i < cy.io.selection.length; i++ ){\n",
       "        var ele = cy.io.selection[i]\n",
       "        cy.io.style.change( ele, [\"background-color\",\"line-color\"], ['#edfdb5','#edfdb5']  )\n",
       "    }\n",
       "    "
      ],
      "text/plain": [
       "<IPython.core.display.Javascript object>"
      ]
     },
     "metadata": {},
     "output_type": "display_data"
    },
    {
     "data": {
      "application/javascript": [
       "\n",
       "    for(var i=0; i < cy.io.selection.length; i++ ){\n",
       "        var ele = cy.io.selection[i]\n",
       "        cy.io.style.change( ele, [\"background-color\",\"line-color\"], ['#edfdb4','#edfdb4']  )\n",
       "    }\n",
       "    "
      ],
      "text/plain": [
       "<IPython.core.display.Javascript object>"
      ]
     },
     "metadata": {},
     "output_type": "display_data"
    },
    {
     "data": {
      "application/javascript": [
       "\n",
       "    for(var i=0; i < cy.io.selection.length; i++ ){\n",
       "        var ele = cy.io.selection[i]\n",
       "        cy.io.style.change( ele, [\"background-color\",\"line-color\"], ['#edfdb3','#edfdb3']  )\n",
       "    }\n",
       "    "
      ],
      "text/plain": [
       "<IPython.core.display.Javascript object>"
      ]
     },
     "metadata": {},
     "output_type": "display_data"
    },
    {
     "data": {
      "application/javascript": [
       "\n",
       "    for(var i=0; i < cy.io.selection.length; i++ ){\n",
       "        var ele = cy.io.selection[i]\n",
       "        cy.io.style.change( ele, [\"background-color\",\"line-color\"], ['#edfdb2','#edfdb2']  )\n",
       "    }\n",
       "    "
      ],
      "text/plain": [
       "<IPython.core.display.Javascript object>"
      ]
     },
     "metadata": {},
     "output_type": "display_data"
    },
    {
     "data": {
      "application/javascript": [
       "\n",
       "    for(var i=0; i < cy.io.selection.length; i++ ){\n",
       "        var ele = cy.io.selection[i]\n",
       "        cy.io.style.change( ele, [\"background-color\",\"line-color\"], ['#eefdb1','#eefdb1']  )\n",
       "    }\n",
       "    "
      ],
      "text/plain": [
       "<IPython.core.display.Javascript object>"
      ]
     },
     "metadata": {},
     "output_type": "display_data"
    },
    {
     "data": {
      "application/javascript": [
       "\n",
       "    for(var i=0; i < cy.io.selection.length; i++ ){\n",
       "        var ele = cy.io.selection[i]\n",
       "        cy.io.style.change( ele, [\"background-color\",\"line-color\"], ['#edfdb0','#edfdb0']  )\n",
       "    }\n",
       "    "
      ],
      "text/plain": [
       "<IPython.core.display.Javascript object>"
      ]
     },
     "metadata": {},
     "output_type": "display_data"
    },
    {
     "data": {
      "application/javascript": [
       "\n",
       "    for(var i=0; i < cy.io.selection.length; i++ ){\n",
       "        var ele = cy.io.selection[i]\n",
       "        cy.io.style.change( ele, [\"background-color\",\"line-color\"], ['#eefdb0','#eefdb0']  )\n",
       "    }\n",
       "    "
      ],
      "text/plain": [
       "<IPython.core.display.Javascript object>"
      ]
     },
     "metadata": {},
     "output_type": "display_data"
    },
    {
     "data": {
      "application/javascript": [
       "\n",
       "    for(var i=0; i < cy.io.selection.length; i++ ){\n",
       "        var ele = cy.io.selection[i]\n",
       "        cy.io.style.change( ele, [\"background-color\",\"line-color\"], ['#eefdaf','#eefdaf']  )\n",
       "    }\n",
       "    "
      ],
      "text/plain": [
       "<IPython.core.display.Javascript object>"
      ]
     },
     "metadata": {},
     "output_type": "display_data"
    },
    {
     "data": {
      "application/javascript": [
       "\n",
       "    for(var i=0; i < cy.io.selection.length; i++ ){\n",
       "        var ele = cy.io.selection[i]\n",
       "        cy.io.style.change( ele, [\"background-color\",\"line-color\"], ['#effdaf','#effdaf']  )\n",
       "    }\n",
       "    "
      ],
      "text/plain": [
       "<IPython.core.display.Javascript object>"
      ]
     },
     "metadata": {},
     "output_type": "display_data"
    },
    {
     "data": {
      "application/javascript": [
       "\n",
       "    for(var i=0; i < cy.io.selection.length; i++ ){\n",
       "        var ele = cy.io.selection[i]\n",
       "        cy.io.style.change( ele, [\"background-color\",\"line-color\"], ['#f0fdb0','#f0fdb0']  )\n",
       "    }\n",
       "    "
      ],
      "text/plain": [
       "<IPython.core.display.Javascript object>"
      ]
     },
     "metadata": {},
     "output_type": "display_data"
    },
    {
     "data": {
      "application/javascript": [
       "\n",
       "    for(var i=0; i < cy.io.selection.length; i++ ){\n",
       "        var ele = cy.io.selection[i]\n",
       "        cy.io.style.change( ele, [\"background-color\",\"line-color\"], ['#f0fdb1','#f0fdb1']  )\n",
       "    }\n",
       "    "
      ],
      "text/plain": [
       "<IPython.core.display.Javascript object>"
      ]
     },
     "metadata": {},
     "output_type": "display_data"
    },
    {
     "data": {
      "application/javascript": [
       "\n",
       "    for(var i=0; i < cy.io.selection.length; i++ ){\n",
       "        var ele = cy.io.selection[i]\n",
       "        cy.io.style.change( ele, [\"background-color\",\"line-color\"], ['#f1fdb1','#f1fdb1']  )\n",
       "    }\n",
       "    "
      ],
      "text/plain": [
       "<IPython.core.display.Javascript object>"
      ]
     },
     "metadata": {},
     "output_type": "display_data"
    },
    {
     "data": {
      "application/javascript": [
       "\n",
       "    for(var i=0; i < cy.io.selection.length; i++ ){\n",
       "        var ele = cy.io.selection[i]\n",
       "        cy.io.style.change( ele, [\"background-color\",\"line-color\"], ['#f2fdb2','#f2fdb2']  )\n",
       "    }\n",
       "    "
      ],
      "text/plain": [
       "<IPython.core.display.Javascript object>"
      ]
     },
     "metadata": {},
     "output_type": "display_data"
    },
    {
     "data": {
      "application/javascript": [
       "\n",
       "    for(var i=0; i < cy.io.selection.length; i++ ){\n",
       "        var ele = cy.io.selection[i]\n",
       "        cy.io.style.change( ele, [\"background-color\",\"line-color\"], ['#f3fdb2','#f3fdb2']  )\n",
       "    }\n",
       "    "
      ],
      "text/plain": [
       "<IPython.core.display.Javascript object>"
      ]
     },
     "metadata": {},
     "output_type": "display_data"
    },
    {
     "data": {
      "application/javascript": [
       "\n",
       "    for(var i=0; i < cy.io.selection.length; i++ ){\n",
       "        var ele = cy.io.selection[i]\n",
       "        cy.io.style.change( ele, [\"background-color\",\"line-color\"], ['#f3fdb3','#f3fdb3']  )\n",
       "    }\n",
       "    "
      ],
      "text/plain": [
       "<IPython.core.display.Javascript object>"
      ]
     },
     "metadata": {},
     "output_type": "display_data"
    },
    {
     "data": {
      "application/javascript": [
       "\n",
       "    for(var i=0; i < cy.io.selection.length; i++ ){\n",
       "        var ele = cy.io.selection[i]\n",
       "        cy.io.style.change( ele, [\"background-color\",\"line-color\"], ['#f4fdb3','#f4fdb3']  )\n",
       "    }\n",
       "    "
      ],
      "text/plain": [
       "<IPython.core.display.Javascript object>"
      ]
     },
     "metadata": {},
     "output_type": "display_data"
    },
    {
     "data": {
      "application/javascript": [
       "\n",
       "    for(var i=0; i < cy.io.selection.length; i++ ){\n",
       "        var ele = cy.io.selection[i]\n",
       "        cy.io.style.change( ele, [\"background-color\",\"line-color\"], ['#f4fdb4','#f4fdb4']  )\n",
       "    }\n",
       "    "
      ],
      "text/plain": [
       "<IPython.core.display.Javascript object>"
      ]
     },
     "metadata": {},
     "output_type": "display_data"
    },
    {
     "data": {
      "application/javascript": [
       "\n",
       "    for(var i=0; i < cy.io.selection.length; i++ ){\n",
       "        var ele = cy.io.selection[i]\n",
       "        cy.io.style.change( ele, [\"background-color\",\"line-color\"], ['#f5fdb4','#f5fdb4']  )\n",
       "    }\n",
       "    "
      ],
      "text/plain": [
       "<IPython.core.display.Javascript object>"
      ]
     },
     "metadata": {},
     "output_type": "display_data"
    },
    {
     "data": {
      "application/javascript": [
       "\n",
       "    for(var i=0; i < cy.io.selection.length; i++ ){\n",
       "        var ele = cy.io.selection[i]\n",
       "        cy.io.style.change( ele, [\"background-color\",\"line-color\"], ['#f5fdb5','#f5fdb5']  )\n",
       "    }\n",
       "    "
      ],
      "text/plain": [
       "<IPython.core.display.Javascript object>"
      ]
     },
     "metadata": {},
     "output_type": "display_data"
    },
    {
     "data": {
      "application/javascript": [
       "\n",
       "    for(var i=0; i < cy.io.selection.length; i++ ){\n",
       "        var ele = cy.io.selection[i]\n",
       "        cy.io.style.change( ele, [\"background-color\",\"line-color\"], ['#f7fdb5','#f7fdb5']  )\n",
       "    }\n",
       "    "
      ],
      "text/plain": [
       "<IPython.core.display.Javascript object>"
      ]
     },
     "metadata": {},
     "output_type": "display_data"
    },
    {
     "data": {
      "application/javascript": [
       "\n",
       "    for(var i=0; i < cy.io.selection.length; i++ ){\n",
       "        var ele = cy.io.selection[i]\n",
       "        cy.io.style.change( ele, [\"background-color\",\"line-color\"], ['#f7fdb6','#f7fdb6']  )\n",
       "    }\n",
       "    "
      ],
      "text/plain": [
       "<IPython.core.display.Javascript object>"
      ]
     },
     "metadata": {},
     "output_type": "display_data"
    },
    {
     "data": {
      "application/javascript": [
       "\n",
       "    for(var i=0; i < cy.io.selection.length; i++ ){\n",
       "        var ele = cy.io.selection[i]\n",
       "        cy.io.style.change( ele, [\"background-color\",\"line-color\"], ['#f8fdb6','#f8fdb6']  )\n",
       "    }\n",
       "    "
      ],
      "text/plain": [
       "<IPython.core.display.Javascript object>"
      ]
     },
     "metadata": {},
     "output_type": "display_data"
    },
    {
     "data": {
      "application/javascript": [
       "\n",
       "    for(var i=0; i < cy.io.selection.length; i++ ){\n",
       "        var ele = cy.io.selection[i]\n",
       "        cy.io.style.change( ele, [\"background-color\",\"line-color\"], ['#f8fdb7','#f8fdb7']  )\n",
       "    }\n",
       "    "
      ],
      "text/plain": [
       "<IPython.core.display.Javascript object>"
      ]
     },
     "metadata": {},
     "output_type": "display_data"
    },
    {
     "data": {
      "application/javascript": [
       "\n",
       "    for(var i=0; i < cy.io.selection.length; i++ ){\n",
       "        var ele = cy.io.selection[i]\n",
       "        cy.io.style.change( ele, [\"background-color\",\"line-color\"], ['#f9fdb7','#f9fdb7']  )\n",
       "    }\n",
       "    "
      ],
      "text/plain": [
       "<IPython.core.display.Javascript object>"
      ]
     },
     "metadata": {},
     "output_type": "display_data"
    },
    {
     "data": {
      "application/javascript": [
       "\n",
       "    for(var i=0; i < cy.io.selection.length; i++ ){\n",
       "        var ele = cy.io.selection[i]\n",
       "        cy.io.style.change( ele, [\"background-color\",\"line-color\"], ['#fafdb8','#fafdb8']  )\n",
       "    }\n",
       "    "
      ],
      "text/plain": [
       "<IPython.core.display.Javascript object>"
      ]
     },
     "metadata": {},
     "output_type": "display_data"
    },
    {
     "data": {
      "application/javascript": [
       "\n",
       "    for(var i=0; i < cy.io.selection.length; i++ ){\n",
       "        var ele = cy.io.selection[i]\n",
       "        cy.io.style.change( ele, [\"background-color\",\"line-color\"], ['#fbfdb8','#fbfdb8']  )\n",
       "    }\n",
       "    "
      ],
      "text/plain": [
       "<IPython.core.display.Javascript object>"
      ]
     },
     "metadata": {},
     "output_type": "display_data"
    },
    {
     "data": {
      "application/javascript": [
       "\n",
       "    for(var i=0; i < cy.io.selection.length; i++ ){\n",
       "        var ele = cy.io.selection[i]\n",
       "        cy.io.style.change( ele, [\"background-color\",\"line-color\"], ['#fcfdb8','#fcfdb8']  )\n",
       "    }\n",
       "    "
      ],
      "text/plain": [
       "<IPython.core.display.Javascript object>"
      ]
     },
     "metadata": {},
     "output_type": "display_data"
    },
    {
     "data": {
      "application/javascript": [
       "\n",
       "    for(var i=0; i < cy.io.selection.length; i++ ){\n",
       "        var ele = cy.io.selection[i]\n",
       "        cy.io.style.change( ele, [\"background-color\",\"line-color\"], ['#fcfdb9','#fcfdb9']  )\n",
       "    }\n",
       "    "
      ],
      "text/plain": [
       "<IPython.core.display.Javascript object>"
      ]
     },
     "metadata": {},
     "output_type": "display_data"
    },
    {
     "data": {
      "application/javascript": [
       "\n",
       "    for(var i=0; i < cy.io.selection.length; i++ ){\n",
       "        var ele = cy.io.selection[i]\n",
       "        cy.io.style.change( ele, [\"background-color\",\"line-color\"], ['#fdfdb8','#fdfdb8']  )\n",
       "    }\n",
       "    "
      ],
      "text/plain": [
       "<IPython.core.display.Javascript object>"
      ]
     },
     "metadata": {},
     "output_type": "display_data"
    },
    {
     "data": {
      "application/javascript": [
       "\n",
       "    for(var i=0; i < cy.io.selection.length; i++ ){\n",
       "        var ele = cy.io.selection[i]\n",
       "        cy.io.style.change( ele, [\"background-color\",\"line-color\"], ['#fdfdb7','#fdfdb7']  )\n",
       "    }\n",
       "    "
      ],
      "text/plain": [
       "<IPython.core.display.Javascript object>"
      ]
     },
     "metadata": {},
     "output_type": "display_data"
    },
    {
     "data": {
      "application/javascript": [
       "\n",
       "    for(var i=0; i < cy.io.selection.length; i++ ){\n",
       "        var ele = cy.io.selection[i]\n",
       "        cy.io.style.change( ele, [\"background-color\",\"line-color\"], ['#fdfcb6','#fdfcb6']  )\n",
       "    }\n",
       "    "
      ],
      "text/plain": [
       "<IPython.core.display.Javascript object>"
      ]
     },
     "metadata": {},
     "output_type": "display_data"
    },
    {
     "data": {
      "application/javascript": [
       "\n",
       "    for(var i=0; i < cy.io.selection.length; i++ ){\n",
       "        var ele = cy.io.selection[i]\n",
       "        cy.io.style.change( ele, [\"background-color\",\"line-color\"], ['#fdfbb5','#fdfbb5']  )\n",
       "    }\n",
       "    "
      ],
      "text/plain": [
       "<IPython.core.display.Javascript object>"
      ]
     },
     "metadata": {},
     "output_type": "display_data"
    },
    {
     "data": {
      "application/javascript": [
       "\n",
       "    for(var i=0; i < cy.io.selection.length; i++ ){\n",
       "        var ele = cy.io.selection[i]\n",
       "        cy.io.style.change( ele, [\"background-color\",\"line-color\"], ['#fdfbb4','#fdfbb4']  )\n",
       "    }\n",
       "    "
      ],
      "text/plain": [
       "<IPython.core.display.Javascript object>"
      ]
     },
     "metadata": {},
     "output_type": "display_data"
    },
    {
     "data": {
      "application/javascript": [
       "\n",
       "    for(var i=0; i < cy.io.selection.length; i++ ){\n",
       "        var ele = cy.io.selection[i]\n",
       "        cy.io.style.change( ele, [\"background-color\",\"line-color\"], ['#fdfbb3','#fdfbb3']  )\n",
       "    }\n",
       "    "
      ],
      "text/plain": [
       "<IPython.core.display.Javascript object>"
      ]
     },
     "metadata": {},
     "output_type": "display_data"
    },
    {
     "data": {
      "application/javascript": [
       "\n",
       "    for(var i=0; i < cy.io.selection.length; i++ ){\n",
       "        var ele = cy.io.selection[i]\n",
       "        cy.io.style.change( ele, [\"background-color\",\"line-color\"], ['#fdfbb2','#fdfbb2']  )\n",
       "    }\n",
       "    "
      ],
      "text/plain": [
       "<IPython.core.display.Javascript object>"
      ]
     },
     "metadata": {},
     "output_type": "display_data"
    },
    {
     "data": {
      "application/javascript": [
       "\n",
       "    for(var i=0; i < cy.io.selection.length; i++ ){\n",
       "        var ele = cy.io.selection[i]\n",
       "        cy.io.style.change( ele, \"label\", 'M'  )\n",
       "    }\n",
       "    "
      ],
      "text/plain": [
       "<IPython.core.display.Javascript object>"
      ]
     },
     "metadata": {},
     "output_type": "display_data"
    },
    {
     "data": {
      "application/javascript": [
       "\n",
       "    for(var i=0; i < cy.io.selection.length; i++ ){\n",
       "        var ele = cy.io.selection[i]\n",
       "        cy.io.style.change( ele, \"label\", 'MA'  )\n",
       "    }\n",
       "    "
      ],
      "text/plain": [
       "<IPython.core.display.Javascript object>"
      ]
     },
     "metadata": {},
     "output_type": "display_data"
    },
    {
     "data": {
      "application/javascript": [
       "\n",
       "    for(var i=0; i < cy.io.selection.length; i++ ){\n",
       "        var ele = cy.io.selection[i]\n",
       "        cy.io.style.change( ele, \"label\", 'MAP'  )\n",
       "    }\n",
       "    "
      ],
      "text/plain": [
       "<IPython.core.display.Javascript object>"
      ]
     },
     "metadata": {},
     "output_type": "display_data"
    },
    {
     "data": {
      "application/javascript": [
       "\n",
       "    for(var i=0; i < cy.io.selection.length; i++ ){\n",
       "        var ele = cy.io.selection[i]\n",
       "        cy.io.style.change( ele, \"label\", 'MAPK'  )\n",
       "    }\n",
       "    "
      ],
      "text/plain": [
       "<IPython.core.display.Javascript object>"
      ]
     },
     "metadata": {},
     "output_type": "display_data"
    },
    {
     "data": {
      "application/javascript": [
       "\n",
       "    for(var i=0; i < cy.io.selection.length; i++ ){\n",
       "        var ele = cy.io.selection[i]\n",
       "        cy.io.style.change( ele, \"label\", 'MAPK1'  )\n",
       "    }\n",
       "    "
      ],
      "text/plain": [
       "<IPython.core.display.Javascript object>"
      ]
     },
     "metadata": {},
     "output_type": "display_data"
    },
    {
     "data": {
      "application/javascript": [
       "\n",
       "    for( var i=0; i < cy.io.selection.length; i++ ){\n",
       "        var ele = cy.io.selection[i]\n",
       "        if( ele.isNode() ){\n",
       "            cy.io.style.change( ele, [\"width\",\"height\"], ['31','31']   )   \n",
       "        }else{\n",
       "            cy.io.style.change( ele, \"width\", '5.166666666666667'   )   \n",
       "        }\n",
       "    }\n",
       "    "
      ],
      "text/plain": [
       "<IPython.core.display.Javascript object>"
      ]
     },
     "metadata": {},
     "output_type": "display_data"
    },
    {
     "data": {
      "application/javascript": [
       "\n",
       "    for( var i=0; i < cy.io.selection.length; i++ ){\n",
       "        var ele = cy.io.selection[i]\n",
       "        if( ele.isNode() ){\n",
       "            cy.io.style.change( ele, [\"width\",\"height\"], ['41','41']   )   \n",
       "        }else{\n",
       "            cy.io.style.change( ele, \"width\", '6.833333333333333'   )   \n",
       "        }\n",
       "    }\n",
       "    "
      ],
      "text/plain": [
       "<IPython.core.display.Javascript object>"
      ]
     },
     "metadata": {},
     "output_type": "display_data"
    },
    {
     "data": {
      "application/javascript": [
       "\n",
       "    for( var i=0; i < cy.io.selection.length; i++ ){\n",
       "        var ele = cy.io.selection[i]\n",
       "        if( ele.isNode() ){\n",
       "            cy.io.style.change( ele, [\"width\",\"height\"], ['70','70']   )   \n",
       "        }else{\n",
       "            cy.io.style.change( ele, \"width\", '11.666666666666666'   )   \n",
       "        }\n",
       "    }\n",
       "    "
      ],
      "text/plain": [
       "<IPython.core.display.Javascript object>"
      ]
     },
     "metadata": {},
     "output_type": "display_data"
    },
    {
     "data": {
      "application/javascript": [
       "\n",
       "    for( var i=0; i < cy.io.selection.length; i++ ){\n",
       "        var ele = cy.io.selection[i]\n",
       "        if( ele.isNode() ){\n",
       "            cy.io.style.change( ele, [\"width\",\"height\"], ['72','72']   )   \n",
       "        }else{\n",
       "            cy.io.style.change( ele, \"width\", '12.0'   )   \n",
       "        }\n",
       "    }\n",
       "    "
      ],
      "text/plain": [
       "<IPython.core.display.Javascript object>"
      ]
     },
     "metadata": {},
     "output_type": "display_data"
    },
    {
     "data": {
      "application/javascript": [
       "\n",
       "    for( var i=0; i < cy.io.selection.length; i++ ){\n",
       "        var ele = cy.io.selection[i]\n",
       "        if( ele.isNode() ){\n",
       "            cy.io.style.change( ele, [\"width\",\"height\"], ['84','84']   )   \n",
       "        }else{\n",
       "            cy.io.style.change( ele, \"width\", '14.0'   )   \n",
       "        }\n",
       "    }\n",
       "    "
      ],
      "text/plain": [
       "<IPython.core.display.Javascript object>"
      ]
     },
     "metadata": {},
     "output_type": "display_data"
    },
    {
     "data": {
      "application/javascript": [
       "\n",
       "    for( var i=0; i < cy.io.selection.length; i++ ){\n",
       "        var ele = cy.io.selection[i]\n",
       "        if( ele.isNode() ){\n",
       "            cy.io.style.change( ele, [\"width\",\"height\"], ['91','91']   )   \n",
       "        }else{\n",
       "            cy.io.style.change( ele, \"width\", '15.166666666666666'   )   \n",
       "        }\n",
       "    }\n",
       "    "
      ],
      "text/plain": [
       "<IPython.core.display.Javascript object>"
      ]
     },
     "metadata": {},
     "output_type": "display_data"
    },
    {
     "data": {
      "application/javascript": [
       "\n",
       "    for( var i=0; i < cy.io.selection.length; i++ ){\n",
       "        var ele = cy.io.selection[i]\n",
       "        if( ele.isNode() ){\n",
       "            cy.io.style.change( ele, [\"width\",\"height\"], ['95','95']   )   \n",
       "        }else{\n",
       "            cy.io.style.change( ele, \"width\", '15.833333333333334'   )   \n",
       "        }\n",
       "    }\n",
       "    "
      ],
      "text/plain": [
       "<IPython.core.display.Javascript object>"
      ]
     },
     "metadata": {},
     "output_type": "display_data"
    },
    {
     "data": {
      "application/javascript": [
       "\n",
       "    for( var i=0; i < cy.io.selection.length; i++ ){\n",
       "        var ele = cy.io.selection[i]\n",
       "        if( ele.isNode() ){\n",
       "            cy.io.style.change( ele, [\"width\",\"height\"], ['100','100']   )   \n",
       "        }else{\n",
       "            cy.io.style.change( ele, \"width\", '16.666666666666668'   )   \n",
       "        }\n",
       "    }\n",
       "    "
      ],
      "text/plain": [
       "<IPython.core.display.Javascript object>"
      ]
     },
     "metadata": {},
     "output_type": "display_data"
    },
    {
     "data": {
      "application/javascript": [
       "\n",
       "    for( var i=0; i < cy.io.selection.length; i++ ){\n",
       "        var ele = cy.io.selection[i]\n",
       "        if( ele.isNode() ){\n",
       "            cy.io.style.change( ele, [\"width\",\"height\"], ['106','106']   )   \n",
       "        }else{\n",
       "            cy.io.style.change( ele, \"width\", '17.666666666666668'   )   \n",
       "        }\n",
       "    }\n",
       "    "
      ],
      "text/plain": [
       "<IPython.core.display.Javascript object>"
      ]
     },
     "metadata": {},
     "output_type": "display_data"
    },
    {
     "data": {
      "application/javascript": [
       "\n",
       "    for( var i=0; i < cy.io.selection.length; i++ ){\n",
       "        var ele = cy.io.selection[i]\n",
       "        if( ele.isNode() ){\n",
       "            cy.io.style.change( ele, [\"width\",\"height\"], ['113','113']   )   \n",
       "        }else{\n",
       "            cy.io.style.change( ele, \"width\", '18.833333333333332'   )   \n",
       "        }\n",
       "    }\n",
       "    "
      ],
      "text/plain": [
       "<IPython.core.display.Javascript object>"
      ]
     },
     "metadata": {},
     "output_type": "display_data"
    },
    {
     "data": {
      "application/javascript": [
       "\n",
       "    for( var i=0; i < cy.io.selection.length; i++ ){\n",
       "        var ele = cy.io.selection[i]\n",
       "        if( ele.isNode() ){\n",
       "            cy.io.style.change( ele, [\"width\",\"height\"], ['118','118']   )   \n",
       "        }else{\n",
       "            cy.io.style.change( ele, \"width\", '19.666666666666668'   )   \n",
       "        }\n",
       "    }\n",
       "    "
      ],
      "text/plain": [
       "<IPython.core.display.Javascript object>"
      ]
     },
     "metadata": {},
     "output_type": "display_data"
    },
    {
     "data": {
      "application/javascript": [
       "\n",
       "    for( var i=0; i < cy.io.selection.length; i++ ){\n",
       "        var ele = cy.io.selection[i]\n",
       "        if( ele.isNode() ){\n",
       "            cy.io.style.change( ele, [\"width\",\"height\"], ['122','122']   )   \n",
       "        }else{\n",
       "            cy.io.style.change( ele, \"width\", '20.333333333333332'   )   \n",
       "        }\n",
       "    }\n",
       "    "
      ],
      "text/plain": [
       "<IPython.core.display.Javascript object>"
      ]
     },
     "metadata": {},
     "output_type": "display_data"
    },
    {
     "data": {
      "application/javascript": [
       "\n",
       "    for( var i=0; i < cy.io.selection.length; i++ ){\n",
       "        var ele = cy.io.selection[i]\n",
       "        if( ele.isNode() ){\n",
       "            cy.io.style.change( ele, [\"width\",\"height\"], ['127','127']   )   \n",
       "        }else{\n",
       "            cy.io.style.change( ele, \"width\", '21.166666666666668'   )   \n",
       "        }\n",
       "    }\n",
       "    "
      ],
      "text/plain": [
       "<IPython.core.display.Javascript object>"
      ]
     },
     "metadata": {},
     "output_type": "display_data"
    },
    {
     "data": {
      "application/javascript": [
       "\n",
       "    for( var i=0; i < cy.io.selection.length; i++ ){\n",
       "        var ele = cy.io.selection[i]\n",
       "        if( ele.isNode() ){\n",
       "            cy.io.style.change( ele, [\"width\",\"height\"], ['128','128']   )   \n",
       "        }else{\n",
       "            cy.io.style.change( ele, \"width\", '21.333333333333332'   )   \n",
       "        }\n",
       "    }\n",
       "    "
      ],
      "text/plain": [
       "<IPython.core.display.Javascript object>"
      ]
     },
     "metadata": {},
     "output_type": "display_data"
    },
    {
     "data": {
      "application/javascript": [
       "\n",
       "    for( var i=0; i < cy.io.selection.length; i++ ){\n",
       "        var ele = cy.io.selection[i]\n",
       "        if( ele.isNode() ){\n",
       "            ele.style( \"shape\", 'rectangle' )\n",
       "        } \n",
       "    }\n",
       "    "
      ],
      "text/plain": [
       "<IPython.core.display.Javascript object>"
      ]
     },
     "metadata": {},
     "output_type": "display_data"
    },
    {
     "data": {
      "application/javascript": [
       "\n",
       "    for( var i=0; i < cy.io.selection.length; i++ ){\n",
       "        var ele = cy.io.selection[i]\n",
       "        if( ele.isNode() ){\n",
       "            cy.io.style.change( ele, [\"width\",\"height\"], ['122','122']   )   \n",
       "        }else{\n",
       "            cy.io.style.change( ele, \"width\", '20.333333333333332'   )   \n",
       "        }\n",
       "    }\n",
       "    "
      ],
      "text/plain": [
       "<IPython.core.display.Javascript object>"
      ]
     },
     "metadata": {},
     "output_type": "display_data"
    },
    {
     "data": {
      "application/javascript": [
       "\n",
       "    for( var i=0; i < cy.io.selection.length; i++ ){\n",
       "        var ele = cy.io.selection[i]\n",
       "        if( ele.isNode() ){\n",
       "            cy.io.style.change( ele, [\"width\",\"height\"], ['118','118']   )   \n",
       "        }else{\n",
       "            cy.io.style.change( ele, \"width\", '19.666666666666668'   )   \n",
       "        }\n",
       "    }\n",
       "    "
      ],
      "text/plain": [
       "<IPython.core.display.Javascript object>"
      ]
     },
     "metadata": {},
     "output_type": "display_data"
    },
    {
     "data": {
      "application/javascript": [
       "\n",
       "    for( var i=0; i < cy.io.selection.length; i++ ){\n",
       "        var ele = cy.io.selection[i]\n",
       "        if( ele.isNode() ){\n",
       "            cy.io.style.change( ele, [\"width\",\"height\"], ['108','108']   )   \n",
       "        }else{\n",
       "            cy.io.style.change( ele, \"width\", '18.0'   )   \n",
       "        }\n",
       "    }\n",
       "    "
      ],
      "text/plain": [
       "<IPython.core.display.Javascript object>"
      ]
     },
     "metadata": {},
     "output_type": "display_data"
    },
    {
     "data": {
      "application/javascript": [
       "\n",
       "    for( var i=0; i < cy.io.selection.length; i++ ){\n",
       "        var ele = cy.io.selection[i]\n",
       "        if( ele.isNode() ){\n",
       "            cy.io.style.change( ele, [\"width\",\"height\"], ['96','96']   )   \n",
       "        }else{\n",
       "            cy.io.style.change( ele, \"width\", '16.0'   )   \n",
       "        }\n",
       "    }\n",
       "    "
      ],
      "text/plain": [
       "<IPython.core.display.Javascript object>"
      ]
     },
     "metadata": {},
     "output_type": "display_data"
    },
    {
     "data": {
      "application/javascript": [
       "\n",
       "    for( var i=0; i < cy.io.selection.length; i++ ){\n",
       "        var ele = cy.io.selection[i]\n",
       "        if( ele.isNode() ){\n",
       "            cy.io.style.change( ele, [\"width\",\"height\"], ['91','91']   )   \n",
       "        }else{\n",
       "            cy.io.style.change( ele, \"width\", '15.166666666666666'   )   \n",
       "        }\n",
       "    }\n",
       "    "
      ],
      "text/plain": [
       "<IPython.core.display.Javascript object>"
      ]
     },
     "metadata": {},
     "output_type": "display_data"
    },
    {
     "data": {
      "application/javascript": [
       "\n",
       "    for( var i=0; i < cy.io.selection.length; i++ ){\n",
       "        var ele = cy.io.selection[i]\n",
       "        if( ele.isNode() ){\n",
       "            cy.io.style.change( ele, [\"width\",\"height\"], ['86','86']   )   \n",
       "        }else{\n",
       "            cy.io.style.change( ele, \"width\", '14.333333333333334'   )   \n",
       "        }\n",
       "    }\n",
       "    "
      ],
      "text/plain": [
       "<IPython.core.display.Javascript object>"
      ]
     },
     "metadata": {},
     "output_type": "display_data"
    },
    {
     "data": {
      "application/javascript": [
       "\n",
       "    for( var i=0; i < cy.io.selection.length; i++ ){\n",
       "        var ele = cy.io.selection[i]\n",
       "        if( ele.isNode() ){\n",
       "            cy.io.style.change( ele, [\"width\",\"height\"], ['84','84']   )   \n",
       "        }else{\n",
       "            cy.io.style.change( ele, \"width\", '14.0'   )   \n",
       "        }\n",
       "    }\n",
       "    "
      ],
      "text/plain": [
       "<IPython.core.display.Javascript object>"
      ]
     },
     "metadata": {},
     "output_type": "display_data"
    },
    {
     "data": {
      "application/javascript": [
       "\n",
       "    for( var i=0; i < cy.io.selection.length; i++ ){\n",
       "        var ele = cy.io.selection[i]\n",
       "        if( ele.isNode() ){\n",
       "            cy.io.style.change( ele, [\"width\",\"height\"], ['83','83']   )   \n",
       "        }else{\n",
       "            cy.io.style.change( ele, \"width\", '13.833333333333334'   )   \n",
       "        }\n",
       "    }\n",
       "    "
      ],
      "text/plain": [
       "<IPython.core.display.Javascript object>"
      ]
     },
     "metadata": {},
     "output_type": "display_data"
    },
    {
     "data": {
      "application/javascript": [
       "\n",
       "    for( var i=0; i < cy.io.selection.length; i++ ){\n",
       "        var ele = cy.io.selection[i]\n",
       "        if( ele.isNode() ){\n",
       "            cy.io.style.change( ele, [\"width\",\"height\"], ['82','82']   )   \n",
       "        }else{\n",
       "            cy.io.style.change( ele, \"width\", '13.666666666666666'   )   \n",
       "        }\n",
       "    }\n",
       "    "
      ],
      "text/plain": [
       "<IPython.core.display.Javascript object>"
      ]
     },
     "metadata": {},
     "output_type": "display_data"
    },
    {
     "data": {
      "application/javascript": [
       "\n",
       "    for( var i=0; i < cy.io.selection.length; i++ ){\n",
       "        var ele = cy.io.selection[i]\n",
       "        if( ele.isNode() ){\n",
       "            cy.io.style.change( ele, [\"width\",\"height\"], ['80','80']   )   \n",
       "        }else{\n",
       "            cy.io.style.change( ele, \"width\", '13.333333333333334'   )   \n",
       "        }\n",
       "    }\n",
       "    "
      ],
      "text/plain": [
       "<IPython.core.display.Javascript object>"
      ]
     },
     "metadata": {},
     "output_type": "display_data"
    },
    {
     "data": {
      "application/javascript": [
       "\n",
       "    for( var i=0; i < cy.io.selection.length; i++ ){\n",
       "        var ele = cy.io.selection[i]\n",
       "        if( ele.isNode() ){\n",
       "            cy.io.style.change( ele, [\"width\",\"height\"], ['79','79']   )   \n",
       "        }else{\n",
       "            cy.io.style.change( ele, \"width\", '13.166666666666666'   )   \n",
       "        }\n",
       "    }\n",
       "    "
      ],
      "text/plain": [
       "<IPython.core.display.Javascript object>"
      ]
     },
     "metadata": {},
     "output_type": "display_data"
    },
    {
     "data": {
      "application/javascript": [
       "\n",
       "    for( var i=0; i < cy.io.selection.length; i++ ){\n",
       "        var ele = cy.io.selection[i]\n",
       "        if( ele.isNode() ){\n",
       "            cy.io.style.change( ele, [\"width\",\"height\"], ['77','77']   )   \n",
       "        }else{\n",
       "            cy.io.style.change( ele, \"width\", '12.833333333333334'   )   \n",
       "        }\n",
       "    }\n",
       "    "
      ],
      "text/plain": [
       "<IPython.core.display.Javascript object>"
      ]
     },
     "metadata": {},
     "output_type": "display_data"
    },
    {
     "data": {
      "application/javascript": [
       "\n",
       "    for( var i=0; i < cy.io.selection.length; i++ ){\n",
       "        var ele = cy.io.selection[i]\n",
       "        if( ele.isNode() ){\n",
       "            cy.io.style.change( ele, [\"width\",\"height\"], ['76','76']   )   \n",
       "        }else{\n",
       "            cy.io.style.change( ele, \"width\", '12.666666666666666'   )   \n",
       "        }\n",
       "    }\n",
       "    "
      ],
      "text/plain": [
       "<IPython.core.display.Javascript object>"
      ]
     },
     "metadata": {},
     "output_type": "display_data"
    },
    {
     "data": {
      "application/javascript": [
       "\n",
       "    for( var i=0; i < cy.io.selection.length; i++ ){\n",
       "        var ele = cy.io.selection[i]\n",
       "        if( ele.isNode() ){\n",
       "            cy.io.style.change( ele, [\"width\",\"height\"], ['77','77']   )   \n",
       "        }else{\n",
       "            cy.io.style.change( ele, \"width\", '12.833333333333334'   )   \n",
       "        }\n",
       "    }\n",
       "    "
      ],
      "text/plain": [
       "<IPython.core.display.Javascript object>"
      ]
     },
     "metadata": {},
     "output_type": "display_data"
    },
    {
     "data": {
      "application/javascript": [
       "\n",
       "    for( var i=0; i < cy.io.selection.length; i++ ){\n",
       "        var ele = cy.io.selection[i]\n",
       "        if( ele.isNode() ){\n",
       "            cy.io.style.change( ele, [\"width\",\"height\"], ['78','78']   )   \n",
       "        }else{\n",
       "            cy.io.style.change( ele, \"width\", '13.0'   )   \n",
       "        }\n",
       "    }\n",
       "    "
      ],
      "text/plain": [
       "<IPython.core.display.Javascript object>"
      ]
     },
     "metadata": {},
     "output_type": "display_data"
    },
    {
     "data": {
      "application/javascript": [
       "\n",
       "    for( var i=0; i < cy.io.selection.length; i++ ){\n",
       "        var ele = cy.io.selection[i]\n",
       "        if( ele.isNode() ){\n",
       "            cy.io.style.change( ele, [\"width\",\"height\"], ['79','79']   )   \n",
       "        }else{\n",
       "            cy.io.style.change( ele, \"width\", '13.166666666666666'   )   \n",
       "        }\n",
       "    }\n",
       "    "
      ],
      "text/plain": [
       "<IPython.core.display.Javascript object>"
      ]
     },
     "metadata": {},
     "output_type": "display_data"
    },
    {
     "data": {
      "application/javascript": [
       "\n",
       "    for( var i=0; i < cy.io.selection.length; i++ ){\n",
       "        var ele = cy.io.selection[i]\n",
       "        if( ele.isNode() ){\n",
       "            cy.io.style.change( ele, [\"width\",\"height\"], ['78','78']   )   \n",
       "        }else{\n",
       "            cy.io.style.change( ele, \"width\", '13.0'   )   \n",
       "        }\n",
       "    }\n",
       "    "
      ],
      "text/plain": [
       "<IPython.core.display.Javascript object>"
      ]
     },
     "metadata": {},
     "output_type": "display_data"
    },
    {
     "data": {
      "application/javascript": [
       "\n",
       "    for( var i=0; i < cy.io.selection.length; i++ ){\n",
       "        var ele = cy.io.selection[i]\n",
       "        if( ele.isNode() ){\n",
       "            cy.io.style.change( ele, [\"width\",\"height\"], ['77','77']   )   \n",
       "        }else{\n",
       "            cy.io.style.change( ele, \"width\", '12.833333333333334'   )   \n",
       "        }\n",
       "    }\n",
       "    "
      ],
      "text/plain": [
       "<IPython.core.display.Javascript object>"
      ]
     },
     "metadata": {},
     "output_type": "display_data"
    },
    {
     "data": {
      "application/javascript": [
       "\n",
       "    for( var i=0; i < cy.io.selection.length; i++ ){\n",
       "        var ele = cy.io.selection[i]\n",
       "        if( ele.isNode() ){\n",
       "            cy.io.style.change( ele, [\"width\",\"height\"], ['76','76']   )   \n",
       "        }else{\n",
       "            cy.io.style.change( ele, \"width\", '12.666666666666666'   )   \n",
       "        }\n",
       "    }\n",
       "    "
      ],
      "text/plain": [
       "<IPython.core.display.Javascript object>"
      ]
     },
     "metadata": {},
     "output_type": "display_data"
    },
    {
     "data": {
      "application/javascript": [
       "\n",
       "    for( var i=0; i < cy.io.selection.length; i++ ){\n",
       "        var ele = cy.io.selection[i]\n",
       "        if( ele.isNode() ){\n",
       "            cy.io.style.change( ele, [\"width\",\"height\"], ['75','75']   )   \n",
       "        }else{\n",
       "            cy.io.style.change( ele, \"width\", '12.5'   )   \n",
       "        }\n",
       "    }\n",
       "    "
      ],
      "text/plain": [
       "<IPython.core.display.Javascript object>"
      ]
     },
     "metadata": {},
     "output_type": "display_data"
    },
    {
     "data": {
      "application/javascript": [
       "\n",
       "    for( var i=0; i < cy.io.selection.length; i++ ){\n",
       "        var ele = cy.io.selection[i]\n",
       "        if( ele.isNode() ){\n",
       "            cy.io.style.change( ele, [\"width\",\"height\"], ['74','74']   )   \n",
       "        }else{\n",
       "            cy.io.style.change( ele, \"width\", '12.333333333333334'   )   \n",
       "        }\n",
       "    }\n",
       "    "
      ],
      "text/plain": [
       "<IPython.core.display.Javascript object>"
      ]
     },
     "metadata": {},
     "output_type": "display_data"
    },
    {
     "data": {
      "application/javascript": [
       "\n",
       "    for( var i=0; i < cy.io.selection.length; i++ ){\n",
       "        var ele = cy.io.selection[i]\n",
       "        if( ele.isNode() ){\n",
       "            cy.io.style.change( ele, [\"width\",\"height\"], ['73','73']   )   \n",
       "        }else{\n",
       "            cy.io.style.change( ele, \"width\", '12.166666666666666'   )   \n",
       "        }\n",
       "    }\n",
       "    "
      ],
      "text/plain": [
       "<IPython.core.display.Javascript object>"
      ]
     },
     "metadata": {},
     "output_type": "display_data"
    },
    {
     "data": {
      "application/javascript": [
       "\n",
       "    for( var i=0; i < cy.io.selection.length; i++ ){\n",
       "        var ele = cy.io.selection[i]\n",
       "        if( ele.isNode() ){\n",
       "            cy.io.style.change( ele, [\"width\",\"height\"], ['74','74']   )   \n",
       "        }else{\n",
       "            cy.io.style.change( ele, \"width\", '12.333333333333334'   )   \n",
       "        }\n",
       "    }\n",
       "    "
      ],
      "text/plain": [
       "<IPython.core.display.Javascript object>"
      ]
     },
     "metadata": {},
     "output_type": "display_data"
    },
    {
     "data": {
      "application/javascript": [
       "\n",
       "    for( var i=0; i < cy.io.selection.length; i++ ){\n",
       "        var ele = cy.io.selection[i]\n",
       "        if( ele.isNode() ){\n",
       "            cy.io.style.change( ele, [\"width\",\"height\"], ['75','75']   )   \n",
       "        }else{\n",
       "            cy.io.style.change( ele, \"width\", '12.5'   )   \n",
       "        }\n",
       "    }\n",
       "    "
      ],
      "text/plain": [
       "<IPython.core.display.Javascript object>"
      ]
     },
     "metadata": {},
     "output_type": "display_data"
    },
    {
     "data": {
      "application/javascript": [
       "\n",
       "    for( var i=0; i < cy.io.selection.length; i++ ){\n",
       "        var ele = cy.io.selection[i]\n",
       "        if( ele.isNode() ){\n",
       "            cy.io.style.change( ele, [\"width\",\"height\"], ['76','76']   )   \n",
       "        }else{\n",
       "            cy.io.style.change( ele, \"width\", '12.666666666666666'   )   \n",
       "        }\n",
       "    }\n",
       "    "
      ],
      "text/plain": [
       "<IPython.core.display.Javascript object>"
      ]
     },
     "metadata": {},
     "output_type": "display_data"
    },
    {
     "data": {
      "application/javascript": [
       "\n",
       "    for( var i=0; i < cy.io.selection.length; i++ ){\n",
       "        var ele = cy.io.selection[i]\n",
       "        if( ele.isNode() ){\n",
       "            cy.io.style.change( ele, [\"width\",\"height\"], ['77','77']   )   \n",
       "        }else{\n",
       "            cy.io.style.change( ele, \"width\", '12.833333333333334'   )   \n",
       "        }\n",
       "    }\n",
       "    "
      ],
      "text/plain": [
       "<IPython.core.display.Javascript object>"
      ]
     },
     "metadata": {},
     "output_type": "display_data"
    },
    {
     "data": {
      "application/javascript": [
       "\n",
       "    for( var i=0; i < cy.io.selection.length; i++ ){\n",
       "        var ele = cy.io.selection[i]\n",
       "        if( ele.isNode() ){\n",
       "            cy.io.style.change( ele, [\"width\",\"height\"], ['78','78']   )   \n",
       "        }else{\n",
       "            cy.io.style.change( ele, \"width\", '13.0'   )   \n",
       "        }\n",
       "    }\n",
       "    "
      ],
      "text/plain": [
       "<IPython.core.display.Javascript object>"
      ]
     },
     "metadata": {},
     "output_type": "display_data"
    },
    {
     "data": {
      "application/javascript": [
       "\n",
       "    for(var i=0; i < cy.io.selection.length; i++ ){\n",
       "        var ele = cy.io.selection[i]\n",
       "        var label_pos = 'top'\n",
       "        if( ele.isNode() ){\n",
       "            if( label_pos == 'center'  ){\n",
       "                cy.io.style.change( ele, ['text-halign','text-valign'], ['center','center'] )\n",
       "            }else if( label_pos=='top' || label_pos=='bottom'){\n",
       "                cy.io.style.change( ele, ['text-halign','text-valign'], ['center', label_pos] )                    \n",
       "            }else{\n",
       "                cy.io.style.change( ele, ['text-halign','text-valign'], [ label_pos, 'center'] )                \n",
       "            }\n",
       "        } \n",
       "    }\n",
       "    "
      ],
      "text/plain": [
       "<IPython.core.display.Javascript object>"
      ]
     },
     "metadata": {},
     "output_type": "display_data"
    },
    {
     "data": {
      "application/javascript": [
       "\n",
       "    for(var i=0; i < cy.io.selection.length; i++ ){\n",
       "        var ele = cy.io.selection[i]\n",
       "        var label_pos = 'center'\n",
       "        if( ele.isNode() ){\n",
       "            if( label_pos == 'center'  ){\n",
       "                cy.io.style.change( ele, ['text-halign','text-valign'], ['center','center'] )\n",
       "            }else if( label_pos=='top' || label_pos=='bottom'){\n",
       "                cy.io.style.change( ele, ['text-halign','text-valign'], ['center', label_pos] )                    \n",
       "            }else{\n",
       "                cy.io.style.change( ele, ['text-halign','text-valign'], [ label_pos, 'center'] )                \n",
       "            }\n",
       "        } \n",
       "    }\n",
       "    "
      ],
      "text/plain": [
       "<IPython.core.display.Javascript object>"
      ]
     },
     "metadata": {},
     "output_type": "display_data"
    },
    {
     "data": {
      "application/javascript": [
       "\n",
       "    for( var i=0; i < cy.io.selection.length; i++ ){\n",
       "        var ele = cy.io.selection[i]\n",
       "        cy.io.style.change( ele, 'font-size', '17px' )\n",
       "    }\n",
       "    "
      ],
      "text/plain": [
       "<IPython.core.display.Javascript object>"
      ]
     },
     "metadata": {},
     "output_type": "display_data"
    },
    {
     "data": {
      "application/javascript": [
       "\n",
       "    for( var i=0; i < cy.io.selection.length; i++ ){\n",
       "        var ele = cy.io.selection[i]\n",
       "        cy.io.style.change( ele, 'font-size', '18px' )\n",
       "    }\n",
       "    "
      ],
      "text/plain": [
       "<IPython.core.display.Javascript object>"
      ]
     },
     "metadata": {},
     "output_type": "display_data"
    },
    {
     "data": {
      "application/javascript": [
       "\n",
       "    for(var i=0; i < cy.io.selection.length; i++ ){\n",
       "        var ele = cy.io.selection[i]\n",
       "        ele.data( 'protein', '' )\n",
       "    }\n",
       "    "
      ],
      "text/plain": [
       "<IPython.core.display.Javascript object>"
      ]
     },
     "metadata": {},
     "output_type": "display_data"
    },
    {
     "data": {
      "application/javascript": [
       "\n",
       "        for( var i=0; i < cy.io.selection.length; i++ ){\n",
       "            var ele = cy.io.selection[i]\n",
       "            ele.data('protein', 's' )\n",
       "        }\n",
       "        "
      ],
      "text/plain": [
       "<IPython.core.display.Javascript object>"
      ]
     },
     "metadata": {},
     "output_type": "display_data"
    },
    {
     "data": {
      "application/javascript": [
       "\n",
       "        for( var i=0; i < cy.io.selection.length; i++ ){\n",
       "            var ele = cy.io.selection[i]\n",
       "            ele.data('protein', 'si' )\n",
       "        }\n",
       "        "
      ],
      "text/plain": [
       "<IPython.core.display.Javascript object>"
      ]
     },
     "metadata": {},
     "output_type": "display_data"
    },
    {
     "data": {
      "application/javascript": [
       "\n",
       "        for( var i=0; i < cy.io.selection.length; i++ ){\n",
       "            var ele = cy.io.selection[i]\n",
       "            ele.data('protein', 'sig' )\n",
       "        }\n",
       "        "
      ],
      "text/plain": [
       "<IPython.core.display.Javascript object>"
      ]
     },
     "metadata": {},
     "output_type": "display_data"
    },
    {
     "data": {
      "application/javascript": [
       "\n",
       "        for( var i=0; i < cy.io.selection.length; i++ ){\n",
       "            var ele = cy.io.selection[i]\n",
       "            ele.data('protein', 'sign' )\n",
       "        }\n",
       "        "
      ],
      "text/plain": [
       "<IPython.core.display.Javascript object>"
      ]
     },
     "metadata": {},
     "output_type": "display_data"
    },
    {
     "data": {
      "application/javascript": [
       "\n",
       "        for( var i=0; i < cy.io.selection.length; i++ ){\n",
       "            var ele = cy.io.selection[i]\n",
       "            ele.data('protein', 'signa' )\n",
       "        }\n",
       "        "
      ],
      "text/plain": [
       "<IPython.core.display.Javascript object>"
      ]
     },
     "metadata": {},
     "output_type": "display_data"
    },
    {
     "data": {
      "application/javascript": [
       "\n",
       "        for( var i=0; i < cy.io.selection.length; i++ ){\n",
       "            var ele = cy.io.selection[i]\n",
       "            ele.data('protein', 'signal' )\n",
       "        }\n",
       "        "
      ],
      "text/plain": [
       "<IPython.core.display.Javascript object>"
      ]
     },
     "metadata": {},
     "output_type": "display_data"
    },
    {
     "data": {
      "application/javascript": [
       "\n",
       "    for(var i=0; i < cy.io.selection.length; i++ ){\n",
       "        var ele = cy.io.selection[i]\n",
       "        ele.data( 'protein', '' )\n",
       "    }\n",
       "    "
      ],
      "text/plain": [
       "<IPython.core.display.Javascript object>"
      ]
     },
     "metadata": {},
     "output_type": "display_data"
    },
    {
     "data": {
      "application/javascript": [
       "\n",
       "        for( var i=0; i < cy.io.selection.length; i++ ){\n",
       "            var ele = cy.io.selection[i]\n",
       "            ele.data('protein', 's' )\n",
       "        }\n",
       "        "
      ],
      "text/plain": [
       "<IPython.core.display.Javascript object>"
      ]
     },
     "metadata": {},
     "output_type": "display_data"
    },
    {
     "data": {
      "application/javascript": [
       "\n",
       "        for( var i=0; i < cy.io.selection.length; i++ ){\n",
       "            var ele = cy.io.selection[i]\n",
       "            ele.data('protein', 'si' )\n",
       "        }\n",
       "        "
      ],
      "text/plain": [
       "<IPython.core.display.Javascript object>"
      ]
     },
     "metadata": {},
     "output_type": "display_data"
    },
    {
     "data": {
      "application/javascript": [
       "\n",
       "        for( var i=0; i < cy.io.selection.length; i++ ){\n",
       "            var ele = cy.io.selection[i]\n",
       "            ele.data('protein', 'sig' )\n",
       "        }\n",
       "        "
      ],
      "text/plain": [
       "<IPython.core.display.Javascript object>"
      ]
     },
     "metadata": {},
     "output_type": "display_data"
    },
    {
     "data": {
      "application/javascript": [
       "\n",
       "        for( var i=0; i < cy.io.selection.length; i++ ){\n",
       "            var ele = cy.io.selection[i]\n",
       "            ele.data('protein', 'sign' )\n",
       "        }\n",
       "        "
      ],
      "text/plain": [
       "<IPython.core.display.Javascript object>"
      ]
     },
     "metadata": {},
     "output_type": "display_data"
    },
    {
     "data": {
      "application/javascript": [
       "\n",
       "        for( var i=0; i < cy.io.selection.length; i++ ){\n",
       "            var ele = cy.io.selection[i]\n",
       "            ele.data('protein', 'signa' )\n",
       "        }\n",
       "        "
      ],
      "text/plain": [
       "<IPython.core.display.Javascript object>"
      ]
     },
     "metadata": {},
     "output_type": "display_data"
    },
    {
     "data": {
      "application/javascript": [
       "\n",
       "        for( var i=0; i < cy.io.selection.length; i++ ){\n",
       "            var ele = cy.io.selection[i]\n",
       "            ele.data('protein', 'signal' )\n",
       "        }\n",
       "        "
      ],
      "text/plain": [
       "<IPython.core.display.Javascript object>"
      ]
     },
     "metadata": {},
     "output_type": "display_data"
    },
    {
     "data": {
      "application/javascript": [
       "\n",
       "    for(var i=0; i < cy.io.selection.length; i++ ){\n",
       "        var ele = cy.io.selection[i]\n",
       "        cy.io.style.change( ele, \"label\", 'N'  )\n",
       "    }\n",
       "    "
      ],
      "text/plain": [
       "<IPython.core.display.Javascript object>"
      ]
     },
     "metadata": {},
     "output_type": "display_data"
    },
    {
     "data": {
      "application/javascript": [
       "\n",
       "    for(var i=0; i < cy.io.selection.length; i++ ){\n",
       "        var ele = cy.io.selection[i]\n",
       "        cy.io.style.change( ele, \"label\", 'NF'  )\n",
       "    }\n",
       "    "
      ],
      "text/plain": [
       "<IPython.core.display.Javascript object>"
      ]
     },
     "metadata": {},
     "output_type": "display_data"
    },
    {
     "data": {
      "application/javascript": [
       "\n",
       "    for(var i=0; i < cy.io.selection.length; i++ ){\n",
       "        var ele = cy.io.selection[i]\n",
       "        cy.io.style.change( ele, \"label\", 'NF1'  )\n",
       "    }\n",
       "    "
      ],
      "text/plain": [
       "<IPython.core.display.Javascript object>"
      ]
     },
     "metadata": {},
     "output_type": "display_data"
    },
    {
     "data": {
      "application/javascript": [
       "\n",
       "    for( var i=0; i < cy.io.selection.length; i++ ){\n",
       "        var ele = cy.io.selection[i]\n",
       "        if( ele.isNode() ){\n",
       "            cy.io.style.change( ele, [\"width\",\"height\"], ['80','80']   )   \n",
       "        }else{\n",
       "            cy.io.style.change( ele, \"width\", '13.333333333333334'   )   \n",
       "        }\n",
       "    }\n",
       "    "
      ],
      "text/plain": [
       "<IPython.core.display.Javascript object>"
      ]
     },
     "metadata": {},
     "output_type": "display_data"
    },
    {
     "data": {
      "application/javascript": [
       "\n",
       "    for( var i=0; i < cy.io.selection.length; i++ ){\n",
       "        var ele = cy.io.selection[i]\n",
       "        if( ele.isNode() ){\n",
       "            cy.io.style.change( ele, [\"width\",\"height\"], ['84','84']   )   \n",
       "        }else{\n",
       "            cy.io.style.change( ele, \"width\", '14.0'   )   \n",
       "        }\n",
       "    }\n",
       "    "
      ],
      "text/plain": [
       "<IPython.core.display.Javascript object>"
      ]
     },
     "metadata": {},
     "output_type": "display_data"
    },
    {
     "data": {
      "application/javascript": [
       "\n",
       "    for( var i=0; i < cy.io.selection.length; i++ ){\n",
       "        var ele = cy.io.selection[i]\n",
       "        if( ele.isNode() ){\n",
       "            cy.io.style.change( ele, [\"width\",\"height\"], ['90','90']   )   \n",
       "        }else{\n",
       "            cy.io.style.change( ele, \"width\", '15.0'   )   \n",
       "        }\n",
       "    }\n",
       "    "
      ],
      "text/plain": [
       "<IPython.core.display.Javascript object>"
      ]
     },
     "metadata": {},
     "output_type": "display_data"
    },
    {
     "data": {
      "application/javascript": [
       "\n",
       "    for( var i=0; i < cy.io.selection.length; i++ ){\n",
       "        var ele = cy.io.selection[i]\n",
       "        if( ele.isNode() ){\n",
       "            cy.io.style.change( ele, [\"width\",\"height\"], ['95','95']   )   \n",
       "        }else{\n",
       "            cy.io.style.change( ele, \"width\", '15.833333333333334'   )   \n",
       "        }\n",
       "    }\n",
       "    "
      ],
      "text/plain": [
       "<IPython.core.display.Javascript object>"
      ]
     },
     "metadata": {},
     "output_type": "display_data"
    },
    {
     "data": {
      "application/javascript": [
       "\n",
       "    for( var i=0; i < cy.io.selection.length; i++ ){\n",
       "        var ele = cy.io.selection[i]\n",
       "        if( ele.isNode() ){\n",
       "            cy.io.style.change( ele, [\"width\",\"height\"], ['99','99']   )   \n",
       "        }else{\n",
       "            cy.io.style.change( ele, \"width\", '16.5'   )   \n",
       "        }\n",
       "    }\n",
       "    "
      ],
      "text/plain": [
       "<IPython.core.display.Javascript object>"
      ]
     },
     "metadata": {},
     "output_type": "display_data"
    },
    {
     "data": {
      "application/javascript": [
       "\n",
       "    for( var i=0; i < cy.io.selection.length; i++ ){\n",
       "        var ele = cy.io.selection[i]\n",
       "        if( ele.isNode() ){\n",
       "            cy.io.style.change( ele, [\"width\",\"height\"], ['105','105']   )   \n",
       "        }else{\n",
       "            cy.io.style.change( ele, \"width\", '17.5'   )   \n",
       "        }\n",
       "    }\n",
       "    "
      ],
      "text/plain": [
       "<IPython.core.display.Javascript object>"
      ]
     },
     "metadata": {},
     "output_type": "display_data"
    },
    {
     "data": {
      "application/javascript": [
       "\n",
       "    for( var i=0; i < cy.io.selection.length; i++ ){\n",
       "        var ele = cy.io.selection[i]\n",
       "        if( ele.isNode() ){\n",
       "            cy.io.style.change( ele, [\"width\",\"height\"], ['107','107']   )   \n",
       "        }else{\n",
       "            cy.io.style.change( ele, \"width\", '17.833333333333332'   )   \n",
       "        }\n",
       "    }\n",
       "    "
      ],
      "text/plain": [
       "<IPython.core.display.Javascript object>"
      ]
     },
     "metadata": {},
     "output_type": "display_data"
    },
    {
     "data": {
      "application/javascript": [
       "\n",
       "    for( var i=0; i < cy.io.selection.length; i++ ){\n",
       "        var ele = cy.io.selection[i]\n",
       "        if( ele.isNode() ){\n",
       "            cy.io.style.change( ele, [\"width\",\"height\"], ['109','109']   )   \n",
       "        }else{\n",
       "            cy.io.style.change( ele, \"width\", '18.166666666666668'   )   \n",
       "        }\n",
       "    }\n",
       "    "
      ],
      "text/plain": [
       "<IPython.core.display.Javascript object>"
      ]
     },
     "metadata": {},
     "output_type": "display_data"
    },
    {
     "data": {
      "application/javascript": [
       "\n",
       "    for( var i=0; i < cy.io.selection.length; i++ ){\n",
       "        var ele = cy.io.selection[i]\n",
       "        if( ele.isNode() ){\n",
       "            cy.io.style.change( ele, [\"width\",\"height\"], ['110','110']   )   \n",
       "        }else{\n",
       "            cy.io.style.change( ele, \"width\", '18.333333333333332'   )   \n",
       "        }\n",
       "    }\n",
       "    "
      ],
      "text/plain": [
       "<IPython.core.display.Javascript object>"
      ]
     },
     "metadata": {},
     "output_type": "display_data"
    },
    {
     "data": {
      "application/javascript": [
       "\n",
       "    for( var i=0; i < cy.io.selection.length; i++ ){\n",
       "        var ele = cy.io.selection[i]\n",
       "        if( ele.isNode() ){\n",
       "            cy.io.style.change( ele, [\"width\",\"height\"], ['111','111']   )   \n",
       "        }else{\n",
       "            cy.io.style.change( ele, \"width\", '18.5'   )   \n",
       "        }\n",
       "    }\n",
       "    "
      ],
      "text/plain": [
       "<IPython.core.display.Javascript object>"
      ]
     },
     "metadata": {},
     "output_type": "display_data"
    },
    {
     "data": {
      "application/javascript": [
       "\n",
       "    for( var i=0; i < cy.io.selection.length; i++ ){\n",
       "        var ele = cy.io.selection[i]\n",
       "        if( ele.isNode() ){\n",
       "            cy.io.style.change( ele, [\"width\",\"height\"], ['112','112']   )   \n",
       "        }else{\n",
       "            cy.io.style.change( ele, \"width\", '18.666666666666668'   )   \n",
       "        }\n",
       "    }\n",
       "    "
      ],
      "text/plain": [
       "<IPython.core.display.Javascript object>"
      ]
     },
     "metadata": {},
     "output_type": "display_data"
    },
    {
     "data": {
      "application/javascript": [
       "\n",
       "    for( var i=0; i < cy.io.selection.length; i++ ){\n",
       "        var ele = cy.io.selection[i]\n",
       "        if( ele.isNode() ){\n",
       "            cy.io.style.change( ele, [\"width\",\"height\"], ['113','113']   )   \n",
       "        }else{\n",
       "            cy.io.style.change( ele, \"width\", '18.833333333333332'   )   \n",
       "        }\n",
       "    }\n",
       "    "
      ],
      "text/plain": [
       "<IPython.core.display.Javascript object>"
      ]
     },
     "metadata": {},
     "output_type": "display_data"
    },
    {
     "data": {
      "application/javascript": [
       "\n",
       "    for( var i=0; i < cy.io.selection.length; i++ ){\n",
       "        var ele = cy.io.selection[i]\n",
       "        if( ele.isNode() ){\n",
       "            cy.io.style.change( ele, [\"width\",\"height\"], ['114','114']   )   \n",
       "        }else{\n",
       "            cy.io.style.change( ele, \"width\", '19.0'   )   \n",
       "        }\n",
       "    }\n",
       "    "
      ],
      "text/plain": [
       "<IPython.core.display.Javascript object>"
      ]
     },
     "metadata": {},
     "output_type": "display_data"
    },
    {
     "data": {
      "application/javascript": [
       "\n",
       "    for( var i=0; i < cy.io.selection.length; i++ ){\n",
       "        var ele = cy.io.selection[i]\n",
       "        if( ele.isNode() ){\n",
       "            cy.io.style.change( ele, [\"width\",\"height\"], ['115','115']   )   \n",
       "        }else{\n",
       "            cy.io.style.change( ele, \"width\", '19.166666666666668'   )   \n",
       "        }\n",
       "    }\n",
       "    "
      ],
      "text/plain": [
       "<IPython.core.display.Javascript object>"
      ]
     },
     "metadata": {},
     "output_type": "display_data"
    },
    {
     "data": {
      "application/javascript": [
       "\n",
       "    for( var i=0; i < cy.io.selection.length; i++ ){\n",
       "        var ele = cy.io.selection[i]\n",
       "        if( ele.isNode() ){\n",
       "            cy.io.style.change( ele, [\"width\",\"height\"], ['116','116']   )   \n",
       "        }else{\n",
       "            cy.io.style.change( ele, \"width\", '19.333333333333332'   )   \n",
       "        }\n",
       "    }\n",
       "    "
      ],
      "text/plain": [
       "<IPython.core.display.Javascript object>"
      ]
     },
     "metadata": {},
     "output_type": "display_data"
    },
    {
     "data": {
      "application/javascript": [
       "\n",
       "    for( var i=0; i < cy.io.selection.length; i++ ){\n",
       "        var ele = cy.io.selection[i]\n",
       "        if( ele.isNode() ){\n",
       "            cy.io.style.change( ele, [\"width\",\"height\"], ['117','117']   )   \n",
       "        }else{\n",
       "            cy.io.style.change( ele, \"width\", '19.5'   )   \n",
       "        }\n",
       "    }\n",
       "    "
      ],
      "text/plain": [
       "<IPython.core.display.Javascript object>"
      ]
     },
     "metadata": {},
     "output_type": "display_data"
    },
    {
     "data": {
      "application/javascript": [
       "\n",
       "    for( var i=0; i < cy.io.selection.length; i++ ){\n",
       "        var ele = cy.io.selection[i]\n",
       "        if( ele.isNode() ){\n",
       "            cy.io.style.change( ele, [\"width\",\"height\"], ['118','118']   )   \n",
       "        }else{\n",
       "            cy.io.style.change( ele, \"width\", '19.666666666666668'   )   \n",
       "        }\n",
       "    }\n",
       "    "
      ],
      "text/plain": [
       "<IPython.core.display.Javascript object>"
      ]
     },
     "metadata": {},
     "output_type": "display_data"
    },
    {
     "data": {
      "application/javascript": [
       "\n",
       "    for( var i=0; i < cy.io.selection.length; i++ ){\n",
       "        var ele = cy.io.selection[i]\n",
       "        if( ele.isNode() ){\n",
       "            cy.io.style.change( ele, [\"width\",\"height\"], ['119','119']   )   \n",
       "        }else{\n",
       "            cy.io.style.change( ele, \"width\", '19.833333333333332'   )   \n",
       "        }\n",
       "    }\n",
       "    "
      ],
      "text/plain": [
       "<IPython.core.display.Javascript object>"
      ]
     },
     "metadata": {},
     "output_type": "display_data"
    },
    {
     "data": {
      "application/javascript": [
       "\n",
       "    for( var i=0; i < cy.io.selection.length; i++ ){\n",
       "        var ele = cy.io.selection[i]\n",
       "        if( ele.isNode() ){\n",
       "            cy.io.style.change( ele, [\"width\",\"height\"], ['120','120']   )   \n",
       "        }else{\n",
       "            cy.io.style.change( ele, \"width\", '20.0'   )   \n",
       "        }\n",
       "    }\n",
       "    "
      ],
      "text/plain": [
       "<IPython.core.display.Javascript object>"
      ]
     },
     "metadata": {},
     "output_type": "display_data"
    },
    {
     "data": {
      "application/javascript": [
       "\n",
       "    for( var i=0; i < cy.io.selection.length; i++ ){\n",
       "        var ele = cy.io.selection[i]\n",
       "        if( ele.isNode() ){\n",
       "            cy.io.style.change( ele, [\"width\",\"height\"], ['121','121']   )   \n",
       "        }else{\n",
       "            cy.io.style.change( ele, \"width\", '20.166666666666668'   )   \n",
       "        }\n",
       "    }\n",
       "    "
      ],
      "text/plain": [
       "<IPython.core.display.Javascript object>"
      ]
     },
     "metadata": {},
     "output_type": "display_data"
    },
    {
     "data": {
      "application/javascript": [
       "\n",
       "    for( var i=0; i < cy.io.selection.length; i++ ){\n",
       "        var ele = cy.io.selection[i]\n",
       "        if( ele.isNode() ){\n",
       "            cy.io.style.change( ele, [\"width\",\"height\"], ['120','120']   )   \n",
       "        }else{\n",
       "            cy.io.style.change( ele, \"width\", '20.0'   )   \n",
       "        }\n",
       "    }\n",
       "    "
      ],
      "text/plain": [
       "<IPython.core.display.Javascript object>"
      ]
     },
     "metadata": {},
     "output_type": "display_data"
    },
    {
     "data": {
      "application/javascript": [
       "\n",
       "    for( var i=0; i < cy.io.selection.length; i++ ){\n",
       "        var ele = cy.io.selection[i]\n",
       "        if( ele.isNode() ){\n",
       "            cy.io.style.change( ele, [\"width\",\"height\"], ['119','119']   )   \n",
       "        }else{\n",
       "            cy.io.style.change( ele, \"width\", '19.833333333333332'   )   \n",
       "        }\n",
       "    }\n",
       "    "
      ],
      "text/plain": [
       "<IPython.core.display.Javascript object>"
      ]
     },
     "metadata": {},
     "output_type": "display_data"
    },
    {
     "data": {
      "application/javascript": [
       "\n",
       "    for( var i=0; i < cy.io.selection.length; i++ ){\n",
       "        var ele = cy.io.selection[i]\n",
       "        if( ele.isNode() ){\n",
       "            cy.io.style.change( ele, [\"width\",\"height\"], ['118','118']   )   \n",
       "        }else{\n",
       "            cy.io.style.change( ele, \"width\", '19.666666666666668'   )   \n",
       "        }\n",
       "    }\n",
       "    "
      ],
      "text/plain": [
       "<IPython.core.display.Javascript object>"
      ]
     },
     "metadata": {},
     "output_type": "display_data"
    },
    {
     "data": {
      "application/javascript": [
       "\n",
       "    for( var i=0; i < cy.io.selection.length; i++ ){\n",
       "        var ele = cy.io.selection[i]\n",
       "        if( ele.isNode() ){\n",
       "            cy.io.style.change( ele, [\"width\",\"height\"], ['117','117']   )   \n",
       "        }else{\n",
       "            cy.io.style.change( ele, \"width\", '19.5'   )   \n",
       "        }\n",
       "    }\n",
       "    "
      ],
      "text/plain": [
       "<IPython.core.display.Javascript object>"
      ]
     },
     "metadata": {},
     "output_type": "display_data"
    },
    {
     "data": {
      "application/javascript": [
       "\n",
       "    for( var i=0; i < cy.io.selection.length; i++ ){\n",
       "        var ele = cy.io.selection[i]\n",
       "        if( ele.isNode() ){\n",
       "            cy.io.style.change( ele, [\"width\",\"height\"], ['115','115']   )   \n",
       "        }else{\n",
       "            cy.io.style.change( ele, \"width\", '19.166666666666668'   )   \n",
       "        }\n",
       "    }\n",
       "    "
      ],
      "text/plain": [
       "<IPython.core.display.Javascript object>"
      ]
     },
     "metadata": {},
     "output_type": "display_data"
    },
    {
     "data": {
      "application/javascript": [
       "\n",
       "    for( var i=0; i < cy.io.selection.length; i++ ){\n",
       "        var ele = cy.io.selection[i]\n",
       "        if( ele.isNode() ){\n",
       "            cy.io.style.change( ele, [\"width\",\"height\"], ['113','113']   )   \n",
       "        }else{\n",
       "            cy.io.style.change( ele, \"width\", '18.833333333333332'   )   \n",
       "        }\n",
       "    }\n",
       "    "
      ],
      "text/plain": [
       "<IPython.core.display.Javascript object>"
      ]
     },
     "metadata": {},
     "output_type": "display_data"
    },
    {
     "data": {
      "application/javascript": [
       "\n",
       "    for( var i=0; i < cy.io.selection.length; i++ ){\n",
       "        var ele = cy.io.selection[i]\n",
       "        if( ele.isNode() ){\n",
       "            cy.io.style.change( ele, [\"width\",\"height\"], ['112','112']   )   \n",
       "        }else{\n",
       "            cy.io.style.change( ele, \"width\", '18.666666666666668'   )   \n",
       "        }\n",
       "    }\n",
       "    "
      ],
      "text/plain": [
       "<IPython.core.display.Javascript object>"
      ]
     },
     "metadata": {},
     "output_type": "display_data"
    },
    {
     "data": {
      "application/javascript": [
       "\n",
       "    for( var i=0; i < cy.io.selection.length; i++ ){\n",
       "        var ele = cy.io.selection[i]\n",
       "        if( ele.isNode() ){\n",
       "            cy.io.style.change( ele, [\"width\",\"height\"], ['110','110']   )   \n",
       "        }else{\n",
       "            cy.io.style.change( ele, \"width\", '18.333333333333332'   )   \n",
       "        }\n",
       "    }\n",
       "    "
      ],
      "text/plain": [
       "<IPython.core.display.Javascript object>"
      ]
     },
     "metadata": {},
     "output_type": "display_data"
    },
    {
     "data": {
      "application/javascript": [
       "\n",
       "    for( var i=0; i < cy.io.selection.length; i++ ){\n",
       "        var ele = cy.io.selection[i]\n",
       "        if( ele.isNode() ){\n",
       "            cy.io.style.change( ele, [\"width\",\"height\"], ['109','109']   )   \n",
       "        }else{\n",
       "            cy.io.style.change( ele, \"width\", '18.166666666666668'   )   \n",
       "        }\n",
       "    }\n",
       "    "
      ],
      "text/plain": [
       "<IPython.core.display.Javascript object>"
      ]
     },
     "metadata": {},
     "output_type": "display_data"
    },
    {
     "data": {
      "application/javascript": [
       "\n",
       "    for( var i=0; i < cy.io.selection.length; i++ ){\n",
       "        var ele = cy.io.selection[i]\n",
       "        if( ele.isNode() ){\n",
       "            cy.io.style.change( ele, [\"width\",\"height\"], ['107','107']   )   \n",
       "        }else{\n",
       "            cy.io.style.change( ele, \"width\", '17.833333333333332'   )   \n",
       "        }\n",
       "    }\n",
       "    "
      ],
      "text/plain": [
       "<IPython.core.display.Javascript object>"
      ]
     },
     "metadata": {},
     "output_type": "display_data"
    },
    {
     "data": {
      "application/javascript": [
       "\n",
       "    for( var i=0; i < cy.io.selection.length; i++ ){\n",
       "        var ele = cy.io.selection[i]\n",
       "        if( ele.isNode() ){\n",
       "            cy.io.style.change( ele, [\"width\",\"height\"], ['106','106']   )   \n",
       "        }else{\n",
       "            cy.io.style.change( ele, \"width\", '17.666666666666668'   )   \n",
       "        }\n",
       "    }\n",
       "    "
      ],
      "text/plain": [
       "<IPython.core.display.Javascript object>"
      ]
     },
     "metadata": {},
     "output_type": "display_data"
    },
    {
     "data": {
      "application/javascript": [
       "\n",
       "    for( var i=0; i < cy.io.selection.length; i++ ){\n",
       "        var ele = cy.io.selection[i]\n",
       "        if( ele.isNode() ){\n",
       "            cy.io.style.change( ele, [\"width\",\"height\"], ['103','103']   )   \n",
       "        }else{\n",
       "            cy.io.style.change( ele, \"width\", '17.166666666666668'   )   \n",
       "        }\n",
       "    }\n",
       "    "
      ],
      "text/plain": [
       "<IPython.core.display.Javascript object>"
      ]
     },
     "metadata": {},
     "output_type": "display_data"
    },
    {
     "data": {
      "application/javascript": [
       "\n",
       "    for( var i=0; i < cy.io.selection.length; i++ ){\n",
       "        var ele = cy.io.selection[i]\n",
       "        if( ele.isNode() ){\n",
       "            cy.io.style.change( ele, [\"width\",\"height\"], ['101','101']   )   \n",
       "        }else{\n",
       "            cy.io.style.change( ele, \"width\", '16.833333333333332'   )   \n",
       "        }\n",
       "    }\n",
       "    "
      ],
      "text/plain": [
       "<IPython.core.display.Javascript object>"
      ]
     },
     "metadata": {},
     "output_type": "display_data"
    },
    {
     "data": {
      "application/javascript": [
       "\n",
       "    for( var i=0; i < cy.io.selection.length; i++ ){\n",
       "        var ele = cy.io.selection[i]\n",
       "        if( ele.isNode() ){\n",
       "            cy.io.style.change( ele, [\"width\",\"height\"], ['99','99']   )   \n",
       "        }else{\n",
       "            cy.io.style.change( ele, \"width\", '16.5'   )   \n",
       "        }\n",
       "    }\n",
       "    "
      ],
      "text/plain": [
       "<IPython.core.display.Javascript object>"
      ]
     },
     "metadata": {},
     "output_type": "display_data"
    },
    {
     "data": {
      "application/javascript": [
       "\n",
       "    for( var i=0; i < cy.io.selection.length; i++ ){\n",
       "        var ele = cy.io.selection[i]\n",
       "        if( ele.isNode() ){\n",
       "            cy.io.style.change( ele, [\"width\",\"height\"], ['98','98']   )   \n",
       "        }else{\n",
       "            cy.io.style.change( ele, \"width\", '16.333333333333332'   )   \n",
       "        }\n",
       "    }\n",
       "    "
      ],
      "text/plain": [
       "<IPython.core.display.Javascript object>"
      ]
     },
     "metadata": {},
     "output_type": "display_data"
    },
    {
     "data": {
      "application/javascript": [
       "\n",
       "    for( var i=0; i < cy.io.selection.length; i++ ){\n",
       "        var ele = cy.io.selection[i]\n",
       "        if( ele.isNode() ){\n",
       "            cy.io.style.change( ele, [\"width\",\"height\"], ['97','97']   )   \n",
       "        }else{\n",
       "            cy.io.style.change( ele, \"width\", '16.166666666666668'   )   \n",
       "        }\n",
       "    }\n",
       "    "
      ],
      "text/plain": [
       "<IPython.core.display.Javascript object>"
      ]
     },
     "metadata": {},
     "output_type": "display_data"
    },
    {
     "data": {
      "application/javascript": [
       "\n",
       "    for( var i=0; i < cy.io.selection.length; i++ ){\n",
       "        var ele = cy.io.selection[i]\n",
       "        if( ele.isNode() ){\n",
       "            cy.io.style.change( ele, [\"width\",\"height\"], ['96','96']   )   \n",
       "        }else{\n",
       "            cy.io.style.change( ele, \"width\", '16.0'   )   \n",
       "        }\n",
       "    }\n",
       "    "
      ],
      "text/plain": [
       "<IPython.core.display.Javascript object>"
      ]
     },
     "metadata": {},
     "output_type": "display_data"
    },
    {
     "data": {
      "application/javascript": [
       "\n",
       "    for( var i=0; i < cy.io.selection.length; i++ ){\n",
       "        var ele = cy.io.selection[i]\n",
       "        if( ele.isNode() ){\n",
       "            cy.io.style.change( ele, [\"width\",\"height\"], ['95','95']   )   \n",
       "        }else{\n",
       "            cy.io.style.change( ele, \"width\", '15.833333333333334'   )   \n",
       "        }\n",
       "    }\n",
       "    "
      ],
      "text/plain": [
       "<IPython.core.display.Javascript object>"
      ]
     },
     "metadata": {},
     "output_type": "display_data"
    },
    {
     "data": {
      "application/javascript": [
       "\n",
       "    for( var i=0; i < cy.io.selection.length; i++ ){\n",
       "        var ele = cy.io.selection[i]\n",
       "        if( ele.isNode() ){\n",
       "            cy.io.style.change( ele, [\"width\",\"height\"], ['94','94']   )   \n",
       "        }else{\n",
       "            cy.io.style.change( ele, \"width\", '15.666666666666666'   )   \n",
       "        }\n",
       "    }\n",
       "    "
      ],
      "text/plain": [
       "<IPython.core.display.Javascript object>"
      ]
     },
     "metadata": {},
     "output_type": "display_data"
    },
    {
     "data": {
      "application/javascript": [
       "\n",
       "    for( var i=0; i < cy.io.selection.length; i++ ){\n",
       "        var ele = cy.io.selection[i]\n",
       "        if( ele.isNode() ){\n",
       "            cy.io.style.change( ele, [\"width\",\"height\"], ['93','93']   )   \n",
       "        }else{\n",
       "            cy.io.style.change( ele, \"width\", '15.5'   )   \n",
       "        }\n",
       "    }\n",
       "    "
      ],
      "text/plain": [
       "<IPython.core.display.Javascript object>"
      ]
     },
     "metadata": {},
     "output_type": "display_data"
    },
    {
     "data": {
      "application/javascript": [
       "\n",
       "    for( var i=0; i < cy.io.selection.length; i++ ){\n",
       "        var ele = cy.io.selection[i]\n",
       "        if( ele.isNode() ){\n",
       "            cy.io.style.change( ele, [\"width\",\"height\"], ['91','91']   )   \n",
       "        }else{\n",
       "            cy.io.style.change( ele, \"width\", '15.166666666666666'   )   \n",
       "        }\n",
       "    }\n",
       "    "
      ],
      "text/plain": [
       "<IPython.core.display.Javascript object>"
      ]
     },
     "metadata": {},
     "output_type": "display_data"
    },
    {
     "data": {
      "application/javascript": [
       "\n",
       "    for( var i=0; i < cy.io.selection.length; i++ ){\n",
       "        var ele = cy.io.selection[i]\n",
       "        if( ele.isNode() ){\n",
       "            cy.io.style.change( ele, [\"width\",\"height\"], ['90','90']   )   \n",
       "        }else{\n",
       "            cy.io.style.change( ele, \"width\", '15.0'   )   \n",
       "        }\n",
       "    }\n",
       "    "
      ],
      "text/plain": [
       "<IPython.core.display.Javascript object>"
      ]
     },
     "metadata": {},
     "output_type": "display_data"
    },
    {
     "data": {
      "application/javascript": [
       "\n",
       "    for( var i=0; i < cy.io.selection.length; i++ ){\n",
       "        var ele = cy.io.selection[i]\n",
       "        if( ele.isNode() ){\n",
       "            cy.io.style.change( ele, [\"width\",\"height\"], ['88','88']   )   \n",
       "        }else{\n",
       "            cy.io.style.change( ele, \"width\", '14.666666666666666'   )   \n",
       "        }\n",
       "    }\n",
       "    "
      ],
      "text/plain": [
       "<IPython.core.display.Javascript object>"
      ]
     },
     "metadata": {},
     "output_type": "display_data"
    },
    {
     "data": {
      "application/javascript": [
       "\n",
       "    for( var i=0; i < cy.io.selection.length; i++ ){\n",
       "        var ele = cy.io.selection[i]\n",
       "        if( ele.isNode() ){\n",
       "            cy.io.style.change( ele, [\"width\",\"height\"], ['85','85']   )   \n",
       "        }else{\n",
       "            cy.io.style.change( ele, \"width\", '14.166666666666666'   )   \n",
       "        }\n",
       "    }\n",
       "    "
      ],
      "text/plain": [
       "<IPython.core.display.Javascript object>"
      ]
     },
     "metadata": {},
     "output_type": "display_data"
    },
    {
     "data": {
      "application/javascript": [
       "\n",
       "    for( var i=0; i < cy.io.selection.length; i++ ){\n",
       "        var ele = cy.io.selection[i]\n",
       "        if( ele.isNode() ){\n",
       "            cy.io.style.change( ele, [\"width\",\"height\"], ['84','84']   )   \n",
       "        }else{\n",
       "            cy.io.style.change( ele, \"width\", '14.0'   )   \n",
       "        }\n",
       "    }\n",
       "    "
      ],
      "text/plain": [
       "<IPython.core.display.Javascript object>"
      ]
     },
     "metadata": {},
     "output_type": "display_data"
    },
    {
     "data": {
      "application/javascript": [
       "\n",
       "    for( var i=0; i < cy.io.selection.length; i++ ){\n",
       "        var ele = cy.io.selection[i]\n",
       "        if( ele.isNode() ){\n",
       "            cy.io.style.change( ele, [\"width\",\"height\"], ['82','82']   )   \n",
       "        }else{\n",
       "            cy.io.style.change( ele, \"width\", '13.666666666666666'   )   \n",
       "        }\n",
       "    }\n",
       "    "
      ],
      "text/plain": [
       "<IPython.core.display.Javascript object>"
      ]
     },
     "metadata": {},
     "output_type": "display_data"
    },
    {
     "data": {
      "application/javascript": [
       "\n",
       "    for( var i=0; i < cy.io.selection.length; i++ ){\n",
       "        var ele = cy.io.selection[i]\n",
       "        if( ele.isNode() ){\n",
       "            cy.io.style.change( ele, [\"width\",\"height\"], ['81','81']   )   \n",
       "        }else{\n",
       "            cy.io.style.change( ele, \"width\", '13.5'   )   \n",
       "        }\n",
       "    }\n",
       "    "
      ],
      "text/plain": [
       "<IPython.core.display.Javascript object>"
      ]
     },
     "metadata": {},
     "output_type": "display_data"
    },
    {
     "data": {
      "application/javascript": [
       "\n",
       "    for( var i=0; i < cy.io.selection.length; i++ ){\n",
       "        var ele = cy.io.selection[i]\n",
       "        if( ele.isNode() ){\n",
       "            cy.io.style.change( ele, [\"width\",\"height\"], ['80','80']   )   \n",
       "        }else{\n",
       "            cy.io.style.change( ele, \"width\", '13.333333333333334'   )   \n",
       "        }\n",
       "    }\n",
       "    "
      ],
      "text/plain": [
       "<IPython.core.display.Javascript object>"
      ]
     },
     "metadata": {},
     "output_type": "display_data"
    },
    {
     "data": {
      "application/javascript": [
       "\n",
       "    for( var i=0; i < cy.io.selection.length; i++ ){\n",
       "        var ele = cy.io.selection[i]\n",
       "        if( ele.isNode() ){\n",
       "            cy.io.style.change( ele, [\"width\",\"height\"], ['77','77']   )   \n",
       "        }else{\n",
       "            cy.io.style.change( ele, \"width\", '12.833333333333334'   )   \n",
       "        }\n",
       "    }\n",
       "    "
      ],
      "text/plain": [
       "<IPython.core.display.Javascript object>"
      ]
     },
     "metadata": {},
     "output_type": "display_data"
    },
    {
     "data": {
      "application/javascript": [
       "\n",
       "    for( var i=0; i < cy.io.selection.length; i++ ){\n",
       "        var ele = cy.io.selection[i]\n",
       "        if( ele.isNode() ){\n",
       "            cy.io.style.change( ele, [\"width\",\"height\"], ['76','76']   )   \n",
       "        }else{\n",
       "            cy.io.style.change( ele, \"width\", '12.666666666666666'   )   \n",
       "        }\n",
       "    }\n",
       "    "
      ],
      "text/plain": [
       "<IPython.core.display.Javascript object>"
      ]
     },
     "metadata": {},
     "output_type": "display_data"
    },
    {
     "data": {
      "application/javascript": [
       "\n",
       "    for( var i=0; i < cy.io.selection.length; i++ ){\n",
       "        var ele = cy.io.selection[i]\n",
       "        if( ele.isNode() ){\n",
       "            cy.io.style.change( ele, [\"width\",\"height\"], ['75','75']   )   \n",
       "        }else{\n",
       "            cy.io.style.change( ele, \"width\", '12.5'   )   \n",
       "        }\n",
       "    }\n",
       "    "
      ],
      "text/plain": [
       "<IPython.core.display.Javascript object>"
      ]
     },
     "metadata": {},
     "output_type": "display_data"
    },
    {
     "data": {
      "application/javascript": [
       "\n",
       "    for( var i=0; i < cy.io.selection.length; i++ ){\n",
       "        var ele = cy.io.selection[i]\n",
       "        if( ele.isNode() ){\n",
       "            cy.io.style.change( ele, [\"width\",\"height\"], ['74','74']   )   \n",
       "        }else{\n",
       "            cy.io.style.change( ele, \"width\", '12.333333333333334'   )   \n",
       "        }\n",
       "    }\n",
       "    "
      ],
      "text/plain": [
       "<IPython.core.display.Javascript object>"
      ]
     },
     "metadata": {},
     "output_type": "display_data"
    },
    {
     "data": {
      "application/javascript": [
       "\n",
       "    for( var i=0; i < cy.io.selection.length; i++ ){\n",
       "        var ele = cy.io.selection[i]\n",
       "        if( ele.isNode() ){\n",
       "            cy.io.style.change( ele, [\"width\",\"height\"], ['72','72']   )   \n",
       "        }else{\n",
       "            cy.io.style.change( ele, \"width\", '12.0'   )   \n",
       "        }\n",
       "    }\n",
       "    "
      ],
      "text/plain": [
       "<IPython.core.display.Javascript object>"
      ]
     },
     "metadata": {},
     "output_type": "display_data"
    },
    {
     "data": {
      "application/javascript": [
       "\n",
       "    for( var i=0; i < cy.io.selection.length; i++ ){\n",
       "        var ele = cy.io.selection[i]\n",
       "        if( ele.isNode() ){\n",
       "            cy.io.style.change( ele, [\"width\",\"height\"], ['71','71']   )   \n",
       "        }else{\n",
       "            cy.io.style.change( ele, \"width\", '11.833333333333334'   )   \n",
       "        }\n",
       "    }\n",
       "    "
      ],
      "text/plain": [
       "<IPython.core.display.Javascript object>"
      ]
     },
     "metadata": {},
     "output_type": "display_data"
    },
    {
     "data": {
      "application/javascript": [
       "\n",
       "    for( var i=0; i < cy.io.selection.length; i++ ){\n",
       "        var ele = cy.io.selection[i]\n",
       "        if( ele.isNode() ){\n",
       "            cy.io.style.change( ele, [\"width\",\"height\"], ['68','68']   )   \n",
       "        }else{\n",
       "            cy.io.style.change( ele, \"width\", '11.333333333333334'   )   \n",
       "        }\n",
       "    }\n",
       "    "
      ],
      "text/plain": [
       "<IPython.core.display.Javascript object>"
      ]
     },
     "metadata": {},
     "output_type": "display_data"
    },
    {
     "data": {
      "application/javascript": [
       "\n",
       "    for( var i=0; i < cy.io.selection.length; i++ ){\n",
       "        var ele = cy.io.selection[i]\n",
       "        if( ele.isNode() ){\n",
       "            cy.io.style.change( ele, [\"width\",\"height\"], ['67','67']   )   \n",
       "        }else{\n",
       "            cy.io.style.change( ele, \"width\", '11.166666666666666'   )   \n",
       "        }\n",
       "    }\n",
       "    "
      ],
      "text/plain": [
       "<IPython.core.display.Javascript object>"
      ]
     },
     "metadata": {},
     "output_type": "display_data"
    },
    {
     "data": {
      "application/javascript": [
       "\n",
       "    for( var i=0; i < cy.io.selection.length; i++ ){\n",
       "        var ele = cy.io.selection[i]\n",
       "        if( ele.isNode() ){\n",
       "            cy.io.style.change( ele, [\"width\",\"height\"], ['65','65']   )   \n",
       "        }else{\n",
       "            cy.io.style.change( ele, \"width\", '10.833333333333334'   )   \n",
       "        }\n",
       "    }\n",
       "    "
      ],
      "text/plain": [
       "<IPython.core.display.Javascript object>"
      ]
     },
     "metadata": {},
     "output_type": "display_data"
    },
    {
     "data": {
      "application/javascript": [
       "\n",
       "    for( var i=0; i < cy.io.selection.length; i++ ){\n",
       "        var ele = cy.io.selection[i]\n",
       "        if( ele.isNode() ){\n",
       "            cy.io.style.change( ele, [\"width\",\"height\"], ['66','66']   )   \n",
       "        }else{\n",
       "            cy.io.style.change( ele, \"width\", '11.0'   )   \n",
       "        }\n",
       "    }\n",
       "    "
      ],
      "text/plain": [
       "<IPython.core.display.Javascript object>"
      ]
     },
     "metadata": {},
     "output_type": "display_data"
    },
    {
     "data": {
      "application/javascript": [
       "\n",
       "    for( var i=0; i < cy.io.selection.length; i++ ){\n",
       "        var ele = cy.io.selection[i]\n",
       "        if( ele.isNode() ){\n",
       "            cy.io.style.change( ele, [\"width\",\"height\"], ['67','67']   )   \n",
       "        }else{\n",
       "            cy.io.style.change( ele, \"width\", '11.166666666666666'   )   \n",
       "        }\n",
       "    }\n",
       "    "
      ],
      "text/plain": [
       "<IPython.core.display.Javascript object>"
      ]
     },
     "metadata": {},
     "output_type": "display_data"
    },
    {
     "data": {
      "application/javascript": [
       "\n",
       "    for( var i=0; i < cy.io.selection.length; i++ ){\n",
       "        var ele = cy.io.selection[i]\n",
       "        if( ele.isNode() ){\n",
       "            cy.io.style.change( ele, [\"width\",\"height\"], ['68','68']   )   \n",
       "        }else{\n",
       "            cy.io.style.change( ele, \"width\", '11.333333333333334'   )   \n",
       "        }\n",
       "    }\n",
       "    "
      ],
      "text/plain": [
       "<IPython.core.display.Javascript object>"
      ]
     },
     "metadata": {},
     "output_type": "display_data"
    },
    {
     "data": {
      "application/javascript": [
       "\n",
       "    for(var i=0; i < cy.io.selection.length; i++ ){\n",
       "        var ele = cy.io.selection[i]\n",
       "        if( ele.isEdge() ){\n",
       "            ele.style( \"source-arrow-color\", ele.style(\"line-color\")  )\n",
       "            ele.style( \"source-arrow-shape\", 'circle' )\n",
       "        } \n",
       "    }\n",
       "    "
      ],
      "text/plain": [
       "<IPython.core.display.Javascript object>"
      ]
     },
     "metadata": {},
     "output_type": "display_data"
    },
    {
     "data": {
      "application/javascript": [
       "\n",
       "    for( var i=0; i < cy.io.selection.length; i++ ){\n",
       "        var ele = cy.io.selection[i]\n",
       "        if( ele.isEdge() ){\n",
       "            ele.style( \"target-arrow-color\", ele.style(\"line-color\")  )\n",
       "            ele.style( \"target-arrow-shape\", 'triangle' )\n",
       "        } \n",
       "    }\n",
       "    "
      ],
      "text/plain": [
       "<IPython.core.display.Javascript object>"
      ]
     },
     "metadata": {},
     "output_type": "display_data"
    },
    {
     "data": {
      "application/javascript": [
       "cy.io.last_deleted = cy.io.selection.remove();"
      ],
      "text/plain": [
       "<IPython.core.display.Javascript object>"
      ]
     },
     "metadata": {},
     "output_type": "display_data"
    },
    {
     "data": {
      "application/javascript": [
       "cy.io.last_deleted = cy.io.selection.remove();"
      ],
      "text/plain": [
       "<IPython.core.display.Javascript object>"
      ]
     },
     "metadata": {},
     "output_type": "display_data"
    },
    {
     "data": {
      "application/javascript": [
       "\n",
       "    for( var i=0; i < cy.io.selection.length; i++ ){\n",
       "        var ele = cy.io.selection[i]\n",
       "        if( ele.isEdge() ){\n",
       "            ele.style( \"target-arrow-color\", ele.style(\"line-color\")  )\n",
       "            ele.style( \"target-arrow-shape\", 'none' )\n",
       "        } \n",
       "    }\n",
       "    "
      ],
      "text/plain": [
       "<IPython.core.display.Javascript object>"
      ]
     },
     "metadata": {},
     "output_type": "display_data"
    },
    {
     "data": {
      "application/javascript": [
       "\n",
       "    for( var i=0; i < cy.io.selection.length; i++ ){\n",
       "        var ele = cy.io.selection[i]\n",
       "        if( ele.isEdge() ){\n",
       "            ele.style( \"target-arrow-color\", ele.style(\"line-color\")  )\n",
       "            ele.style( \"target-arrow-shape\", 'triangle' )\n",
       "        } \n",
       "    }\n",
       "    "
      ],
      "text/plain": [
       "<IPython.core.display.Javascript object>"
      ]
     },
     "metadata": {},
     "output_type": "display_data"
    },
    {
     "data": {
      "application/javascript": [
       "\n",
       "    for(var i=0; i < cy.io.selection.length; i++ ){\n",
       "        var ele = cy.io.selection[i]\n",
       "        if( ele.isEdge() ){\n",
       "            ele.style( \"source-arrow-color\", ele.style(\"line-color\")  )\n",
       "            ele.style( \"source-arrow-shape\", 'vee' )\n",
       "        } \n",
       "    }\n",
       "    "
      ],
      "text/plain": [
       "<IPython.core.display.Javascript object>"
      ]
     },
     "metadata": {},
     "output_type": "display_data"
    },
    {
     "data": {
      "application/javascript": [
       "\n",
       "    for(var i=0; i < cy.io.selection.length; i++ ){\n",
       "        var ele = cy.io.selection[i]\n",
       "        if( ele.isEdge() ){\n",
       "            ele.style( \"source-arrow-color\", ele.style(\"line-color\")  )\n",
       "            ele.style( \"source-arrow-shape\", 'circle' )\n",
       "        } \n",
       "    }\n",
       "    "
      ],
      "text/plain": [
       "<IPython.core.display.Javascript object>"
      ]
     },
     "metadata": {},
     "output_type": "display_data"
    },
    {
     "data": {
      "application/javascript": [
       "\n",
       "    for( var i=0; i < cy.io.selection.length; i++ ){\n",
       "        var ele = cy.io.selection[i]\n",
       "        if( ele.isEdge() ){\n",
       "            ele.style( \"target-arrow-color\", ele.style(\"line-color\")  )\n",
       "            ele.style( \"target-arrow-shape\", 'tee' )\n",
       "        } \n",
       "    }\n",
       "    "
      ],
      "text/plain": [
       "<IPython.core.display.Javascript object>"
      ]
     },
     "metadata": {},
     "output_type": "display_data"
    },
    {
     "data": {
      "application/javascript": [
       "\n",
       "    for( var i=0; i < cy.io.selection.length; i++ ){\n",
       "        var ele = cy.io.selection[i]\n",
       "        if( ele.isEdge() ){\n",
       "            ele.style( \"target-arrow-color\", ele.style(\"line-color\")  )\n",
       "            ele.style( \"target-arrow-shape\", 'triangle' )\n",
       "        } \n",
       "    }\n",
       "    "
      ],
      "text/plain": [
       "<IPython.core.display.Javascript object>"
      ]
     },
     "metadata": {},
     "output_type": "display_data"
    },
    {
     "data": {
      "application/javascript": [
       "\n",
       "    for(var i=0; i < cy.io.selection.length; i++ ){\n",
       "        var ele = cy.io.selection[i]\n",
       "        if( ele.isEdge() ){\n",
       "            ele.style( \"source-arrow-color\", ele.style(\"line-color\")  )\n",
       "            ele.style( \"source-arrow-shape\", 'diamond' )\n",
       "        } \n",
       "    }\n",
       "    "
      ],
      "text/plain": [
       "<IPython.core.display.Javascript object>"
      ]
     },
     "metadata": {},
     "output_type": "display_data"
    },
    {
     "data": {
      "application/javascript": [
       "\n",
       "    for(var i=0; i < cy.io.selection.length; i++ ){\n",
       "        var ele = cy.io.selection[i]\n",
       "        if( ele.isEdge() ){\n",
       "            ele.style( \"source-arrow-color\", ele.style(\"line-color\")  )\n",
       "            ele.style( \"source-arrow-shape\", 'circle' )\n",
       "        } \n",
       "    }\n",
       "    "
      ],
      "text/plain": [
       "<IPython.core.display.Javascript object>"
      ]
     },
     "metadata": {},
     "output_type": "display_data"
    },
    {
     "data": {
      "application/javascript": [
       "\n",
       "    for(var i=0; i < cy.io.selection.length; i++ ){\n",
       "        var ele = cy.io.selection[i]\n",
       "        cy.io.style.change( ele, [\"background-color\",\"line-color\"], ['#eefdaa','#eefdaa']  )\n",
       "    }\n",
       "    "
      ],
      "text/plain": [
       "<IPython.core.display.Javascript object>"
      ]
     },
     "metadata": {},
     "output_type": "display_data"
    },
    {
     "data": {
      "application/javascript": [
       "\n",
       "    for(var i=0; i < cy.io.selection.length; i++ ){\n",
       "        var ele = cy.io.selection[i]\n",
       "        cy.io.style.change( ele, [\"background-color\",\"line-color\"], ['#edfdab','#edfdab']  )\n",
       "    }\n",
       "    "
      ],
      "text/plain": [
       "<IPython.core.display.Javascript object>"
      ]
     },
     "metadata": {},
     "output_type": "display_data"
    },
    {
     "data": {
      "application/javascript": [
       "\n",
       "    for(var i=0; i < cy.io.selection.length; i++ ){\n",
       "        var ele = cy.io.selection[i]\n",
       "        cy.io.style.change( ele, [\"background-color\",\"line-color\"], ['#ebfdab','#ebfdab']  )\n",
       "    }\n",
       "    "
      ],
      "text/plain": [
       "<IPython.core.display.Javascript object>"
      ]
     },
     "metadata": {},
     "output_type": "display_data"
    },
    {
     "data": {
      "application/javascript": [
       "\n",
       "    for(var i=0; i < cy.io.selection.length; i++ ){\n",
       "        var ele = cy.io.selection[i]\n",
       "        cy.io.style.change( ele, [\"background-color\",\"line-color\"], ['#eafdac','#eafdac']  )\n",
       "    }\n",
       "    "
      ],
      "text/plain": [
       "<IPython.core.display.Javascript object>"
      ]
     },
     "metadata": {},
     "output_type": "display_data"
    },
    {
     "data": {
      "application/javascript": [
       "\n",
       "    for(var i=0; i < cy.io.selection.length; i++ ){\n",
       "        var ele = cy.io.selection[i]\n",
       "        cy.io.style.change( ele, [\"background-color\",\"line-color\"], ['#e9fdac','#e9fdac']  )\n",
       "    }\n",
       "    "
      ],
      "text/plain": [
       "<IPython.core.display.Javascript object>"
      ]
     },
     "metadata": {},
     "output_type": "display_data"
    },
    {
     "data": {
      "application/javascript": [
       "\n",
       "    for(var i=0; i < cy.io.selection.length; i++ ){\n",
       "        var ele = cy.io.selection[i]\n",
       "        cy.io.style.change( ele, [\"background-color\",\"line-color\"], ['#e8fdad','#e8fdad']  )\n",
       "    }\n",
       "    "
      ],
      "text/plain": [
       "<IPython.core.display.Javascript object>"
      ]
     },
     "metadata": {},
     "output_type": "display_data"
    },
    {
     "data": {
      "application/javascript": [
       "\n",
       "    for(var i=0; i < cy.io.selection.length; i++ ){\n",
       "        var ele = cy.io.selection[i]\n",
       "        cy.io.style.change( ele, [\"background-color\",\"line-color\"], ['#e7fdae','#e7fdae']  )\n",
       "    }\n",
       "    "
      ],
      "text/plain": [
       "<IPython.core.display.Javascript object>"
      ]
     },
     "metadata": {},
     "output_type": "display_data"
    },
    {
     "data": {
      "application/javascript": [
       "\n",
       "    for(var i=0; i < cy.io.selection.length; i++ ){\n",
       "        var ele = cy.io.selection[i]\n",
       "        cy.io.style.change( ele, [\"background-color\",\"line-color\"], ['#e6fdae','#e6fdae']  )\n",
       "    }\n",
       "    "
      ],
      "text/plain": [
       "<IPython.core.display.Javascript object>"
      ]
     },
     "metadata": {},
     "output_type": "display_data"
    },
    {
     "data": {
      "application/javascript": [
       "\n",
       "    for(var i=0; i < cy.io.selection.length; i++ ){\n",
       "        var ele = cy.io.selection[i]\n",
       "        cy.io.style.change( ele, [\"background-color\",\"line-color\"], ['#e4fdae','#e4fdae']  )\n",
       "    }\n",
       "    "
      ],
      "text/plain": [
       "<IPython.core.display.Javascript object>"
      ]
     },
     "metadata": {},
     "output_type": "display_data"
    },
    {
     "data": {
      "application/javascript": [
       "\n",
       "    for(var i=0; i < cy.io.selection.length; i++ ){\n",
       "        var ele = cy.io.selection[i]\n",
       "        cy.io.style.change( ele, [\"background-color\",\"line-color\"], ['#e3fdae','#e3fdae']  )\n",
       "    }\n",
       "    "
      ],
      "text/plain": [
       "<IPython.core.display.Javascript object>"
      ]
     },
     "metadata": {},
     "output_type": "display_data"
    },
    {
     "data": {
      "application/javascript": [
       "\n",
       "    for(var i=0; i < cy.io.selection.length; i++ ){\n",
       "        var ele = cy.io.selection[i]\n",
       "        cy.io.style.change( ele, [\"background-color\",\"line-color\"], ['#e2fdb0','#e2fdb0']  )\n",
       "    }\n",
       "    "
      ],
      "text/plain": [
       "<IPython.core.display.Javascript object>"
      ]
     },
     "metadata": {},
     "output_type": "display_data"
    },
    {
     "data": {
      "application/javascript": [
       "\n",
       "    for(var i=0; i < cy.io.selection.length; i++ ){\n",
       "        var ele = cy.io.selection[i]\n",
       "        cy.io.style.change( ele, [\"background-color\",\"line-color\"], ['#e1fdb1','#e1fdb1']  )\n",
       "    }\n",
       "    "
      ],
      "text/plain": [
       "<IPython.core.display.Javascript object>"
      ]
     },
     "metadata": {},
     "output_type": "display_data"
    },
    {
     "data": {
      "application/javascript": [
       "\n",
       "    for(var i=0; i < cy.io.selection.length; i++ ){\n",
       "        var ele = cy.io.selection[i]\n",
       "        cy.io.style.change( ele, [\"background-color\",\"line-color\"], ['#dffdb2','#dffdb2']  )\n",
       "    }\n",
       "    "
      ],
      "text/plain": [
       "<IPython.core.display.Javascript object>"
      ]
     },
     "metadata": {},
     "output_type": "display_data"
    },
    {
     "data": {
      "application/javascript": [
       "\n",
       "    for(var i=0; i < cy.io.selection.length; i++ ){\n",
       "        var ele = cy.io.selection[i]\n",
       "        cy.io.style.change( ele, [\"background-color\",\"line-color\"], ['#ddfdb4','#ddfdb4']  )\n",
       "    }\n",
       "    "
      ],
      "text/plain": [
       "<IPython.core.display.Javascript object>"
      ]
     },
     "metadata": {},
     "output_type": "display_data"
    },
    {
     "data": {
      "application/javascript": [
       "\n",
       "    for(var i=0; i < cy.io.selection.length; i++ ){\n",
       "        var ele = cy.io.selection[i]\n",
       "        cy.io.style.change( ele, [\"background-color\",\"line-color\"], ['#dbfdb4','#dbfdb4']  )\n",
       "    }\n",
       "    "
      ],
      "text/plain": [
       "<IPython.core.display.Javascript object>"
      ]
     },
     "metadata": {},
     "output_type": "display_data"
    },
    {
     "data": {
      "application/javascript": [
       "\n",
       "    for(var i=0; i < cy.io.selection.length; i++ ){\n",
       "        var ele = cy.io.selection[i]\n",
       "        cy.io.style.change( ele, [\"background-color\",\"line-color\"], ['#dbfdb6','#dbfdb6']  )\n",
       "    }\n",
       "    "
      ],
      "text/plain": [
       "<IPython.core.display.Javascript object>"
      ]
     },
     "metadata": {},
     "output_type": "display_data"
    },
    {
     "data": {
      "application/javascript": [
       "\n",
       "    for(var i=0; i < cy.io.selection.length; i++ ){\n",
       "        var ele = cy.io.selection[i]\n",
       "        cy.io.style.change( ele, [\"background-color\",\"line-color\"], ['#d9fdb6','#d9fdb6']  )\n",
       "    }\n",
       "    "
      ],
      "text/plain": [
       "<IPython.core.display.Javascript object>"
      ]
     },
     "metadata": {},
     "output_type": "display_data"
    },
    {
     "data": {
      "application/javascript": [
       "\n",
       "    for(var i=0; i < cy.io.selection.length; i++ ){\n",
       "        var ele = cy.io.selection[i]\n",
       "        cy.io.style.change( ele, [\"background-color\",\"line-color\"], ['#d8fdb8','#d8fdb8']  )\n",
       "    }\n",
       "    "
      ],
      "text/plain": [
       "<IPython.core.display.Javascript object>"
      ]
     },
     "metadata": {},
     "output_type": "display_data"
    },
    {
     "data": {
      "application/javascript": [
       "\n",
       "    for(var i=0; i < cy.io.selection.length; i++ ){\n",
       "        var ele = cy.io.selection[i]\n",
       "        cy.io.style.change( ele, [\"background-color\",\"line-color\"], ['#d6fdb9','#d6fdb9']  )\n",
       "    }\n",
       "    "
      ],
      "text/plain": [
       "<IPython.core.display.Javascript object>"
      ]
     },
     "metadata": {},
     "output_type": "display_data"
    },
    {
     "data": {
      "application/javascript": [
       "\n",
       "    for(var i=0; i < cy.io.selection.length; i++ ){\n",
       "        var ele = cy.io.selection[i]\n",
       "        cy.io.style.change( ele, [\"background-color\",\"line-color\"], ['#d5fdba','#d5fdba']  )\n",
       "    }\n",
       "    "
      ],
      "text/plain": [
       "<IPython.core.display.Javascript object>"
      ]
     },
     "metadata": {},
     "output_type": "display_data"
    },
    {
     "data": {
      "application/javascript": [
       "\n",
       "    for(var i=0; i < cy.io.selection.length; i++ ){\n",
       "        var ele = cy.io.selection[i]\n",
       "        cy.io.style.change( ele, [\"background-color\",\"line-color\"], ['#d2fdbc','#d2fdbc']  )\n",
       "    }\n",
       "    "
      ],
      "text/plain": [
       "<IPython.core.display.Javascript object>"
      ]
     },
     "metadata": {},
     "output_type": "display_data"
    },
    {
     "data": {
      "application/javascript": [
       "\n",
       "    for(var i=0; i < cy.io.selection.length; i++ ){\n",
       "        var ele = cy.io.selection[i]\n",
       "        cy.io.style.change( ele, [\"background-color\",\"line-color\"], ['#d1fdbd','#d1fdbd']  )\n",
       "    }\n",
       "    "
      ],
      "text/plain": [
       "<IPython.core.display.Javascript object>"
      ]
     },
     "metadata": {},
     "output_type": "display_data"
    },
    {
     "data": {
      "application/javascript": [
       "\n",
       "    for(var i=0; i < cy.io.selection.length; i++ ){\n",
       "        var ele = cy.io.selection[i]\n",
       "        cy.io.style.change( ele, [\"background-color\",\"line-color\"], ['#d0fdbe','#d0fdbe']  )\n",
       "    }\n",
       "    "
      ],
      "text/plain": [
       "<IPython.core.display.Javascript object>"
      ]
     },
     "metadata": {},
     "output_type": "display_data"
    },
    {
     "data": {
      "application/javascript": [
       "\n",
       "    for(var i=0; i < cy.io.selection.length; i++ ){\n",
       "        var ele = cy.io.selection[i]\n",
       "        cy.io.style.change( ele, [\"background-color\",\"line-color\"], ['#d0fdbf','#d0fdbf']  )\n",
       "    }\n",
       "    "
      ],
      "text/plain": [
       "<IPython.core.display.Javascript object>"
      ]
     },
     "metadata": {},
     "output_type": "display_data"
    },
    {
     "data": {
      "application/javascript": [
       "\n",
       "    for(var i=0; i < cy.io.selection.length; i++ ){\n",
       "        var ele = cy.io.selection[i]\n",
       "        cy.io.style.change( ele, [\"background-color\",\"line-color\"], ['#cffdbf','#cffdbf']  )\n",
       "    }\n",
       "    "
      ],
      "text/plain": [
       "<IPython.core.display.Javascript object>"
      ]
     },
     "metadata": {},
     "output_type": "display_data"
    },
    {
     "data": {
      "application/javascript": [
       "\n",
       "    for(var i=0; i < cy.io.selection.length; i++ ){\n",
       "        var ele = cy.io.selection[i]\n",
       "        cy.io.style.change( ele, [\"background-color\",\"line-color\"], ['#d0fdc0','#d0fdc0']  )\n",
       "    }\n",
       "    "
      ],
      "text/plain": [
       "<IPython.core.display.Javascript object>"
      ]
     },
     "metadata": {},
     "output_type": "display_data"
    },
    {
     "data": {
      "application/javascript": [
       "\n",
       "    for(var i=0; i < cy.io.selection.length; i++ ){\n",
       "        var ele = cy.io.selection[i]\n",
       "        cy.io.style.change( ele, [\"background-color\",\"line-color\"], ['#d0fdc1','#d0fdc1']  )\n",
       "    }\n",
       "    "
      ],
      "text/plain": [
       "<IPython.core.display.Javascript object>"
      ]
     },
     "metadata": {},
     "output_type": "display_data"
    },
    {
     "data": {
      "application/javascript": [
       "\n",
       "    for(var i=0; i < cy.io.selection.length; i++ ){\n",
       "        var ele = cy.io.selection[i]\n",
       "        cy.io.style.change( ele, [\"background-color\",\"line-color\"], ['#d1fdc2','#d1fdc2']  )\n",
       "    }\n",
       "    "
      ],
      "text/plain": [
       "<IPython.core.display.Javascript object>"
      ]
     },
     "metadata": {},
     "output_type": "display_data"
    },
    {
     "data": {
      "application/javascript": [
       "\n",
       "    for(var i=0; i < cy.io.selection.length; i++ ){\n",
       "        var ele = cy.io.selection[i]\n",
       "        cy.io.style.change( ele, [\"background-color\",\"line-color\"], ['#d1fdc3','#d1fdc3']  )\n",
       "    }\n",
       "    "
      ],
      "text/plain": [
       "<IPython.core.display.Javascript object>"
      ]
     },
     "metadata": {},
     "output_type": "display_data"
    },
    {
     "data": {
      "application/javascript": [
       "\n",
       "    for(var i=0; i < cy.io.selection.length; i++ ){\n",
       "        var ele = cy.io.selection[i]\n",
       "        cy.io.style.change( ele, [\"background-color\",\"line-color\"], ['#d1fdc4','#d1fdc4']  )\n",
       "    }\n",
       "    "
      ],
      "text/plain": [
       "<IPython.core.display.Javascript object>"
      ]
     },
     "metadata": {},
     "output_type": "display_data"
    },
    {
     "data": {
      "application/javascript": [
       "\n",
       "    for(var i=0; i < cy.io.selection.length; i++ ){\n",
       "        var ele = cy.io.selection[i]\n",
       "        cy.io.style.change( ele, [\"background-color\",\"line-color\"], ['#d2fdc5','#d2fdc5']  )\n",
       "    }\n",
       "    "
      ],
      "text/plain": [
       "<IPython.core.display.Javascript object>"
      ]
     },
     "metadata": {},
     "output_type": "display_data"
    },
    {
     "data": {
      "application/javascript": [
       "\n",
       "    for(var i=0; i < cy.io.selection.length; i++ ){\n",
       "        var ele = cy.io.selection[i]\n",
       "        cy.io.style.change( ele, [\"background-color\",\"line-color\"], ['#d3fdc6','#d3fdc6']  )\n",
       "    }\n",
       "    "
      ],
      "text/plain": [
       "<IPython.core.display.Javascript object>"
      ]
     },
     "metadata": {},
     "output_type": "display_data"
    },
    {
     "data": {
      "application/javascript": [
       "\n",
       "    for(var i=0; i < cy.io.selection.length; i++ ){\n",
       "        var ele = cy.io.selection[i]\n",
       "        cy.io.style.change( ele, [\"background-color\",\"line-color\"], ['#d3fdc7','#d3fdc7']  )\n",
       "    }\n",
       "    "
      ],
      "text/plain": [
       "<IPython.core.display.Javascript object>"
      ]
     },
     "metadata": {},
     "output_type": "display_data"
    },
    {
     "data": {
      "application/javascript": [
       "\n",
       "    for(var i=0; i < cy.io.selection.length; i++ ){\n",
       "        var ele = cy.io.selection[i]\n",
       "        cy.io.style.change( ele, [\"background-color\",\"line-color\"], ['#d3fdc8','#d3fdc8']  )\n",
       "    }\n",
       "    "
      ],
      "text/plain": [
       "<IPython.core.display.Javascript object>"
      ]
     },
     "metadata": {},
     "output_type": "display_data"
    },
    {
     "data": {
      "application/javascript": [
       "\n",
       "    for(var i=0; i < cy.io.selection.length; i++ ){\n",
       "        var ele = cy.io.selection[i]\n",
       "        cy.io.style.change( ele, [\"background-color\",\"line-color\"], ['#d4fdc8','#d4fdc8']  )\n",
       "    }\n",
       "    "
      ],
      "text/plain": [
       "<IPython.core.display.Javascript object>"
      ]
     },
     "metadata": {},
     "output_type": "display_data"
    },
    {
     "data": {
      "application/javascript": [
       "\n",
       "    for(var i=0; i < cy.io.selection.length; i++ ){\n",
       "        var ele = cy.io.selection[i]\n",
       "        cy.io.style.change( ele, [\"background-color\",\"line-color\"], ['#d4fdc9','#d4fdc9']  )\n",
       "    }\n",
       "    "
      ],
      "text/plain": [
       "<IPython.core.display.Javascript object>"
      ]
     },
     "metadata": {},
     "output_type": "display_data"
    },
    {
     "data": {
      "application/javascript": [
       "\n",
       "    for(var i=0; i < cy.io.selection.length; i++ ){\n",
       "        var ele = cy.io.selection[i]\n",
       "        cy.io.style.change( ele, [\"background-color\",\"line-color\"], ['#d5fdca','#d5fdca']  )\n",
       "    }\n",
       "    "
      ],
      "text/plain": [
       "<IPython.core.display.Javascript object>"
      ]
     },
     "metadata": {},
     "output_type": "display_data"
    },
    {
     "data": {
      "application/javascript": [
       "\n",
       "    for(var i=0; i < cy.io.selection.length; i++ ){\n",
       "        var ele = cy.io.selection[i]\n",
       "        cy.io.style.change( ele, [\"background-color\",\"line-color\"], ['#d5fdcb','#d5fdcb']  )\n",
       "    }\n",
       "    "
      ],
      "text/plain": [
       "<IPython.core.display.Javascript object>"
      ]
     },
     "metadata": {},
     "output_type": "display_data"
    },
    {
     "data": {
      "application/javascript": [
       "\n",
       "    for(var i=0; i < cy.io.selection.length; i++ ){\n",
       "        var ele = cy.io.selection[i]\n",
       "        cy.io.style.change( ele, [\"background-color\",\"line-color\"], ['#d4fdcb','#d4fdcb']  )\n",
       "    }\n",
       "    "
      ],
      "text/plain": [
       "<IPython.core.display.Javascript object>"
      ]
     },
     "metadata": {},
     "output_type": "display_data"
    },
    {
     "data": {
      "application/javascript": [
       "\n",
       "    for(var i=0; i < cy.io.selection.length; i++ ){\n",
       "        var ele = cy.io.selection[i]\n",
       "        cy.io.style.change( ele, [\"background-color\",\"line-color\"], ['#d5fdcc','#d5fdcc']  )\n",
       "    }\n",
       "    "
      ],
      "text/plain": [
       "<IPython.core.display.Javascript object>"
      ]
     },
     "metadata": {},
     "output_type": "display_data"
    },
    {
     "data": {
      "application/javascript": [
       "\n",
       "    for(var i=0; i < cy.io.selection.length; i++ ){\n",
       "        var ele = cy.io.selection[i]\n",
       "        cy.io.style.change( ele, [\"background-color\",\"line-color\"], ['#d5fdcd','#d5fdcd']  )\n",
       "    }\n",
       "    "
      ],
      "text/plain": [
       "<IPython.core.display.Javascript object>"
      ]
     },
     "metadata": {},
     "output_type": "display_data"
    },
    {
     "data": {
      "application/javascript": [
       "\n",
       "    for(var i=0; i < cy.io.selection.length; i++ ){\n",
       "        var ele = cy.io.selection[i]\n",
       "        cy.io.style.change( ele, [\"background-color\",\"line-color\"], ['#d4fdcd','#d4fdcd']  )\n",
       "    }\n",
       "    "
      ],
      "text/plain": [
       "<IPython.core.display.Javascript object>"
      ]
     },
     "metadata": {},
     "output_type": "display_data"
    },
    {
     "data": {
      "application/javascript": [
       "\n",
       "    for(var i=0; i < cy.io.selection.length; i++ ){\n",
       "        var ele = cy.io.selection[i]\n",
       "        cy.io.style.change( ele, [\"background-color\",\"line-color\"], ['#d5fdce','#d5fdce']  )\n",
       "    }\n",
       "    "
      ],
      "text/plain": [
       "<IPython.core.display.Javascript object>"
      ]
     },
     "metadata": {},
     "output_type": "display_data"
    },
    {
     "data": {
      "application/javascript": [
       "\n",
       "    for(var i=0; i < cy.io.selection.length; i++ ){\n",
       "        var ele = cy.io.selection[i]\n",
       "        cy.io.style.change( ele, [\"background-color\",\"line-color\"], ['#d4fdce','#d4fdce']  )\n",
       "    }\n",
       "    "
      ],
      "text/plain": [
       "<IPython.core.display.Javascript object>"
      ]
     },
     "metadata": {},
     "output_type": "display_data"
    },
    {
     "data": {
      "application/javascript": [
       "\n",
       "    for(var i=0; i < cy.io.selection.length; i++ ){\n",
       "        var ele = cy.io.selection[i]\n",
       "        cy.io.style.change( ele, [\"background-color\",\"line-color\"], ['#d5fdcf','#d5fdcf']  )\n",
       "    }\n",
       "    "
      ],
      "text/plain": [
       "<IPython.core.display.Javascript object>"
      ]
     },
     "metadata": {},
     "output_type": "display_data"
    },
    {
     "data": {
      "application/javascript": [
       "\n",
       "    for(var i=0; i < cy.io.selection.length; i++ ){\n",
       "        var ele = cy.io.selection[i]\n",
       "        cy.io.style.change( ele, [\"background-color\",\"line-color\"], ['#d5fdd0','#d5fdd0']  )\n",
       "    }\n",
       "    "
      ],
      "text/plain": [
       "<IPython.core.display.Javascript object>"
      ]
     },
     "metadata": {},
     "output_type": "display_data"
    },
    {
     "data": {
      "application/javascript": [
       "\n",
       "    for(var i=0; i < cy.io.selection.length; i++ ){\n",
       "        var ele = cy.io.selection[i]\n",
       "        cy.io.style.change( ele, [\"background-color\",\"line-color\"], ['#d5fdd1','#d5fdd1']  )\n",
       "    }\n",
       "    "
      ],
      "text/plain": [
       "<IPython.core.display.Javascript object>"
      ]
     },
     "metadata": {},
     "output_type": "display_data"
    },
    {
     "data": {
      "application/javascript": [
       "\n",
       "    for(var i=0; i < cy.io.selection.length; i++ ){\n",
       "        var ele = cy.io.selection[i]\n",
       "        cy.io.style.change( ele, [\"background-color\",\"line-color\"], ['#d6fdd1','#d6fdd1']  )\n",
       "    }\n",
       "    "
      ],
      "text/plain": [
       "<IPython.core.display.Javascript object>"
      ]
     },
     "metadata": {},
     "output_type": "display_data"
    },
    {
     "data": {
      "application/javascript": [
       "\n",
       "    for(var i=0; i < cy.io.selection.length; i++ ){\n",
       "        var ele = cy.io.selection[i]\n",
       "        cy.io.style.change( ele, [\"background-color\",\"line-color\"], ['#d6fdd2','#d6fdd2']  )\n",
       "    }\n",
       "    "
      ],
      "text/plain": [
       "<IPython.core.display.Javascript object>"
      ]
     },
     "metadata": {},
     "output_type": "display_data"
    },
    {
     "data": {
      "application/javascript": [
       "\n",
       "    for(var i=0; i < cy.io.selection.length; i++ ){\n",
       "        var ele = cy.io.selection[i]\n",
       "        cy.io.style.change( ele, [\"background-color\",\"line-color\"], ['#d6fdd3','#d6fdd3']  )\n",
       "    }\n",
       "    "
      ],
      "text/plain": [
       "<IPython.core.display.Javascript object>"
      ]
     },
     "metadata": {},
     "output_type": "display_data"
    },
    {
     "data": {
      "application/javascript": [
       "\n",
       "    for(var i=0; i < cy.io.selection.length; i++ ){\n",
       "        var ele = cy.io.selection[i]\n",
       "        cy.io.style.change( ele, [\"background-color\",\"line-color\"], ['#d7fdd3','#d7fdd3']  )\n",
       "    }\n",
       "    "
      ],
      "text/plain": [
       "<IPython.core.display.Javascript object>"
      ]
     },
     "metadata": {},
     "output_type": "display_data"
    },
    {
     "data": {
      "application/javascript": [
       "\n",
       "    for(var i=0; i < cy.io.selection.length; i++ ){\n",
       "        var ele = cy.io.selection[i]\n",
       "        cy.io.style.change( ele, [\"background-color\",\"line-color\"], ['#d7fdd4','#d7fdd4']  )\n",
       "    }\n",
       "    "
      ],
      "text/plain": [
       "<IPython.core.display.Javascript object>"
      ]
     },
     "metadata": {},
     "output_type": "display_data"
    },
    {
     "data": {
      "application/javascript": [
       "\n",
       "    for(var i=0; i < cy.io.selection.length; i++ ){\n",
       "        var ele = cy.io.selection[i]\n",
       "        cy.io.style.change( ele, [\"background-color\",\"line-color\"], ['#d6fdd4','#d6fdd4']  )\n",
       "    }\n",
       "    "
      ],
      "text/plain": [
       "<IPython.core.display.Javascript object>"
      ]
     },
     "metadata": {},
     "output_type": "display_data"
    },
    {
     "data": {
      "application/javascript": [
       "\n",
       "    for(var i=0; i < cy.io.selection.length; i++ ){\n",
       "        var ele = cy.io.selection[i]\n",
       "        cy.io.style.change( ele, [\"background-color\",\"line-color\"], ['#d6fdd5','#d6fdd5']  )\n",
       "    }\n",
       "    "
      ],
      "text/plain": [
       "<IPython.core.display.Javascript object>"
      ]
     },
     "metadata": {},
     "output_type": "display_data"
    },
    {
     "data": {
      "application/javascript": [
       "\n",
       "    for(var i=0; i < cy.io.selection.length; i++ ){\n",
       "        var ele = cy.io.selection[i]\n",
       "        cy.io.style.change( ele, [\"background-color\",\"line-color\"], ['#d7fdd5','#d7fdd5']  )\n",
       "    }\n",
       "    "
      ],
      "text/plain": [
       "<IPython.core.display.Javascript object>"
      ]
     },
     "metadata": {},
     "output_type": "display_data"
    },
    {
     "data": {
      "application/javascript": [
       "\n",
       "    for(var i=0; i < cy.io.selection.length; i++ ){\n",
       "        var ele = cy.io.selection[i]\n",
       "        cy.io.style.change( ele, [\"background-color\",\"line-color\"], ['#d7fdd6','#d7fdd6']  )\n",
       "    }\n",
       "    "
      ],
      "text/plain": [
       "<IPython.core.display.Javascript object>"
      ]
     },
     "metadata": {},
     "output_type": "display_data"
    },
    {
     "data": {
      "application/javascript": [
       "\n",
       "    for(var i=0; i < cy.io.selection.length; i++ ){\n",
       "        var ele = cy.io.selection[i]\n",
       "        cy.io.style.change( ele, [\"background-color\",\"line-color\"], ['#d7fdd5','#d7fdd5']  )\n",
       "    }\n",
       "    "
      ],
      "text/plain": [
       "<IPython.core.display.Javascript object>"
      ]
     },
     "metadata": {},
     "output_type": "display_data"
    },
    {
     "data": {
      "application/javascript": [
       "\n",
       "    for(var i=0; i < cy.io.selection.length; i++ ){\n",
       "        var ele = cy.io.selection[i]\n",
       "        cy.io.style.change( ele, [\"background-color\",\"line-color\"], ['#d3fdd5','#d3fdd5']  )\n",
       "    }\n",
       "    "
      ],
      "text/plain": [
       "<IPython.core.display.Javascript object>"
      ]
     },
     "metadata": {},
     "output_type": "display_data"
    },
    {
     "data": {
      "application/javascript": [
       "\n",
       "    for(var i=0; i < cy.io.selection.length; i++ ){\n",
       "        var ele = cy.io.selection[i]\n",
       "        cy.io.style.change( ele, [\"background-color\",\"line-color\"], ['#d2fdd3','#d2fdd3']  )\n",
       "    }\n",
       "    "
      ],
      "text/plain": [
       "<IPython.core.display.Javascript object>"
      ]
     },
     "metadata": {},
     "output_type": "display_data"
    },
    {
     "data": {
      "application/javascript": [
       "\n",
       "    for(var i=0; i < cy.io.selection.length; i++ ){\n",
       "        var ele = cy.io.selection[i]\n",
       "        cy.io.style.change( ele, [\"background-color\",\"line-color\"], ['#d1fdd1','#d1fdd1']  )\n",
       "    }\n",
       "    "
      ],
      "text/plain": [
       "<IPython.core.display.Javascript object>"
      ]
     },
     "metadata": {},
     "output_type": "display_data"
    },
    {
     "data": {
      "application/javascript": [
       "\n",
       "    for(var i=0; i < cy.io.selection.length; i++ ){\n",
       "        var ele = cy.io.selection[i]\n",
       "        cy.io.style.change( ele, [\"background-color\",\"line-color\"], ['#d0fdd2','#d0fdd2']  )\n",
       "    }\n",
       "    "
      ],
      "text/plain": [
       "<IPython.core.display.Javascript object>"
      ]
     },
     "metadata": {},
     "output_type": "display_data"
    },
    {
     "data": {
      "application/javascript": [
       "\n",
       "    for(var i=0; i < cy.io.selection.length; i++ ){\n",
       "        var ele = cy.io.selection[i]\n",
       "        cy.io.style.change( ele, [\"background-color\",\"line-color\"], ['#cffdd2','#cffdd2']  )\n",
       "    }\n",
       "    "
      ],
      "text/plain": [
       "<IPython.core.display.Javascript object>"
      ]
     },
     "metadata": {},
     "output_type": "display_data"
    },
    {
     "data": {
      "application/javascript": [
       "\n",
       "    for(var i=0; i < cy.io.selection.length; i++ ){\n",
       "        var ele = cy.io.selection[i]\n",
       "        cy.io.style.change( ele, [\"background-color\",\"line-color\"], ['#cffdd3','#cffdd3']  )\n",
       "    }\n",
       "    "
      ],
      "text/plain": [
       "<IPython.core.display.Javascript object>"
      ]
     },
     "metadata": {},
     "output_type": "display_data"
    },
    {
     "data": {
      "application/javascript": [
       "\n",
       "    for(var i=0; i < cy.io.selection.length; i++ ){\n",
       "        var ele = cy.io.selection[i]\n",
       "        cy.io.style.change( ele, [\"background-color\",\"line-color\"], ['#cefdd3','#cefdd3']  )\n",
       "    }\n",
       "    "
      ],
      "text/plain": [
       "<IPython.core.display.Javascript object>"
      ]
     },
     "metadata": {},
     "output_type": "display_data"
    },
    {
     "data": {
      "application/javascript": [
       "\n",
       "    for(var i=0; i < cy.io.selection.length; i++ ){\n",
       "        var ele = cy.io.selection[i]\n",
       "        cy.io.style.change( ele, [\"background-color\",\"line-color\"], ['#cdfdd3','#cdfdd3']  )\n",
       "    }\n",
       "    "
      ],
      "text/plain": [
       "<IPython.core.display.Javascript object>"
      ]
     },
     "metadata": {},
     "output_type": "display_data"
    },
    {
     "data": {
      "application/javascript": [
       "\n",
       "    for(var i=0; i < cy.io.selection.length; i++ ){\n",
       "        var ele = cy.io.selection[i]\n",
       "        cy.io.style.change( ele, [\"background-color\",\"line-color\"], ['#cdfdd4','#cdfdd4']  )\n",
       "    }\n",
       "    "
      ],
      "text/plain": [
       "<IPython.core.display.Javascript object>"
      ]
     },
     "metadata": {},
     "output_type": "display_data"
    },
    {
     "data": {
      "application/javascript": [
       "\n",
       "    for(var i=0; i < cy.io.selection.length; i++ ){\n",
       "        var ele = cy.io.selection[i]\n",
       "        cy.io.style.change( ele, [\"background-color\",\"line-color\"], ['#ccfdd4','#ccfdd4']  )\n",
       "    }\n",
       "    "
      ],
      "text/plain": [
       "<IPython.core.display.Javascript object>"
      ]
     },
     "metadata": {},
     "output_type": "display_data"
    },
    {
     "data": {
      "application/javascript": [
       "\n",
       "    for(var i=0; i < cy.io.selection.length; i++ ){\n",
       "        var ele = cy.io.selection[i]\n",
       "        cy.io.style.change( ele, [\"background-color\",\"line-color\"], ['#cbfdd4','#cbfdd4']  )\n",
       "    }\n",
       "    "
      ],
      "text/plain": [
       "<IPython.core.display.Javascript object>"
      ]
     },
     "metadata": {},
     "output_type": "display_data"
    },
    {
     "data": {
      "application/javascript": [
       "\n",
       "    for(var i=0; i < cy.io.selection.length; i++ ){\n",
       "        var ele = cy.io.selection[i]\n",
       "        cy.io.style.change( ele, [\"background-color\",\"line-color\"], ['#cafdd4','#cafdd4']  )\n",
       "    }\n",
       "    "
      ],
      "text/plain": [
       "<IPython.core.display.Javascript object>"
      ]
     },
     "metadata": {},
     "output_type": "display_data"
    },
    {
     "data": {
      "application/javascript": [
       "\n",
       "    for(var i=0; i < cy.io.selection.length; i++ ){\n",
       "        var ele = cy.io.selection[i]\n",
       "        cy.io.style.change( ele, [\"background-color\",\"line-color\"], ['#c9fdd5','#c9fdd5']  )\n",
       "    }\n",
       "    "
      ],
      "text/plain": [
       "<IPython.core.display.Javascript object>"
      ]
     },
     "metadata": {},
     "output_type": "display_data"
    },
    {
     "data": {
      "application/javascript": [
       "\n",
       "    for(var i=0; i < cy.io.selection.length; i++ ){\n",
       "        var ele = cy.io.selection[i]\n",
       "        cy.io.style.change( ele, [\"background-color\",\"line-color\"], ['#c8fdd5','#c8fdd5']  )\n",
       "    }\n",
       "    "
      ],
      "text/plain": [
       "<IPython.core.display.Javascript object>"
      ]
     },
     "metadata": {},
     "output_type": "display_data"
    },
    {
     "data": {
      "application/javascript": [
       "\n",
       "    for(var i=0; i < cy.io.selection.length; i++ ){\n",
       "        var ele = cy.io.selection[i]\n",
       "        cy.io.style.change( ele, \"label\", 'R'  )\n",
       "    }\n",
       "    "
      ],
      "text/plain": [
       "<IPython.core.display.Javascript object>"
      ]
     },
     "metadata": {},
     "output_type": "display_data"
    },
    {
     "data": {
      "application/javascript": [
       "\n",
       "    for(var i=0; i < cy.io.selection.length; i++ ){\n",
       "        var ele = cy.io.selection[i]\n",
       "        cy.io.style.change( ele, \"label\", 'Ra'  )\n",
       "    }\n",
       "    "
      ],
      "text/plain": [
       "<IPython.core.display.Javascript object>"
      ]
     },
     "metadata": {},
     "output_type": "display_data"
    },
    {
     "data": {
      "application/javascript": [
       "\n",
       "    for(var i=0; i < cy.io.selection.length; i++ ){\n",
       "        var ele = cy.io.selection[i]\n",
       "        cy.io.style.change( ele, \"label\", 'R'  )\n",
       "    }\n",
       "    "
      ],
      "text/plain": [
       "<IPython.core.display.Javascript object>"
      ]
     },
     "metadata": {},
     "output_type": "display_data"
    },
    {
     "data": {
      "application/javascript": [
       "\n",
       "    for(var i=0; i < cy.io.selection.length; i++ ){\n",
       "        var ele = cy.io.selection[i]\n",
       "        cy.io.style.change( ele, \"label\", 'RA'  )\n",
       "    }\n",
       "    "
      ],
      "text/plain": [
       "<IPython.core.display.Javascript object>"
      ]
     },
     "metadata": {},
     "output_type": "display_data"
    },
    {
     "data": {
      "application/javascript": [
       "\n",
       "    for(var i=0; i < cy.io.selection.length; i++ ){\n",
       "        var ele = cy.io.selection[i]\n",
       "        cy.io.style.change( ele, \"label\", 'RAD'  )\n",
       "    }\n",
       "    "
      ],
      "text/plain": [
       "<IPython.core.display.Javascript object>"
      ]
     },
     "metadata": {},
     "output_type": "display_data"
    },
    {
     "data": {
      "application/javascript": [
       "\n",
       "    for(var i=0; i < cy.io.selection.length; i++ ){\n",
       "        var ele = cy.io.selection[i]\n",
       "        cy.io.style.change( ele, \"label\", 'RAD5'  )\n",
       "    }\n",
       "    "
      ],
      "text/plain": [
       "<IPython.core.display.Javascript object>"
      ]
     },
     "metadata": {},
     "output_type": "display_data"
    },
    {
     "data": {
      "application/javascript": [
       "\n",
       "    for(var i=0; i < cy.io.selection.length; i++ ){\n",
       "        var ele = cy.io.selection[i]\n",
       "        cy.io.style.change( ele, \"label\", 'RAD52'  )\n",
       "    }\n",
       "    "
      ],
      "text/plain": [
       "<IPython.core.display.Javascript object>"
      ]
     },
     "metadata": {},
     "output_type": "display_data"
    },
    {
     "data": {
      "application/javascript": [
       "\n",
       "    for(var i=0; i < cy.io.selection.length; i++ ){\n",
       "        var ele = cy.io.selection[i]\n",
       "        cy.io.style.change( ele, \"label\", 'M'  )\n",
       "    }\n",
       "    "
      ],
      "text/plain": [
       "<IPython.core.display.Javascript object>"
      ]
     },
     "metadata": {},
     "output_type": "display_data"
    },
    {
     "data": {
      "application/javascript": [
       "\n",
       "    for(var i=0; i < cy.io.selection.length; i++ ){\n",
       "        var ele = cy.io.selection[i]\n",
       "        cy.io.style.change( ele, \"label\", 'MA'  )\n",
       "    }\n",
       "    "
      ],
      "text/plain": [
       "<IPython.core.display.Javascript object>"
      ]
     },
     "metadata": {},
     "output_type": "display_data"
    },
    {
     "data": {
      "application/javascript": [
       "\n",
       "    for(var i=0; i < cy.io.selection.length; i++ ){\n",
       "        var ele = cy.io.selection[i]\n",
       "        cy.io.style.change( ele, \"label\", 'MAP'  )\n",
       "    }\n",
       "    "
      ],
      "text/plain": [
       "<IPython.core.display.Javascript object>"
      ]
     },
     "metadata": {},
     "output_type": "display_data"
    },
    {
     "data": {
      "application/javascript": [
       "\n",
       "    for(var i=0; i < cy.io.selection.length; i++ ){\n",
       "        var ele = cy.io.selection[i]\n",
       "        cy.io.style.change( ele, \"label\", 'MAP2'  )\n",
       "    }\n",
       "    "
      ],
      "text/plain": [
       "<IPython.core.display.Javascript object>"
      ]
     },
     "metadata": {},
     "output_type": "display_data"
    },
    {
     "data": {
      "application/javascript": [
       "\n",
       "    for(var i=0; i < cy.io.selection.length; i++ ){\n",
       "        var ele = cy.io.selection[i]\n",
       "        cy.io.style.change( ele, \"label\", 'MAP2K'  )\n",
       "    }\n",
       "    "
      ],
      "text/plain": [
       "<IPython.core.display.Javascript object>"
      ]
     },
     "metadata": {},
     "output_type": "display_data"
    },
    {
     "data": {
      "application/javascript": [
       "\n",
       "    for(var i=0; i < cy.io.selection.length; i++ ){\n",
       "        var ele = cy.io.selection[i]\n",
       "        cy.io.style.change( ele, \"label\", 'MAP2K1'  )\n",
       "    }\n",
       "    "
      ],
      "text/plain": [
       "<IPython.core.display.Javascript object>"
      ]
     },
     "metadata": {},
     "output_type": "display_data"
    },
    {
     "data": {
      "application/javascript": [
       "\n",
       "    for(var i=0; i < cy.io.selection.length; i++ ){\n",
       "        var ele = cy.io.selection[i]\n",
       "        ele.data( 'protein', '' )\n",
       "    }\n",
       "    "
      ],
      "text/plain": [
       "<IPython.core.display.Javascript object>"
      ]
     },
     "metadata": {},
     "output_type": "display_data"
    },
    {
     "data": {
      "application/javascript": [
       "\n",
       "        for( var i=0; i < cy.io.selection.length; i++ ){\n",
       "            var ele = cy.io.selection[i]\n",
       "            ele.data('protein', 's' )\n",
       "        }\n",
       "        "
      ],
      "text/plain": [
       "<IPython.core.display.Javascript object>"
      ]
     },
     "metadata": {},
     "output_type": "display_data"
    },
    {
     "data": {
      "application/javascript": [
       "\n",
       "        for( var i=0; i < cy.io.selection.length; i++ ){\n",
       "            var ele = cy.io.selection[i]\n",
       "            ele.data('protein', 'si' )\n",
       "        }\n",
       "        "
      ],
      "text/plain": [
       "<IPython.core.display.Javascript object>"
      ]
     },
     "metadata": {},
     "output_type": "display_data"
    },
    {
     "data": {
      "application/javascript": [
       "\n",
       "        for( var i=0; i < cy.io.selection.length; i++ ){\n",
       "            var ele = cy.io.selection[i]\n",
       "            ele.data('protein', 'sig' )\n",
       "        }\n",
       "        "
      ],
      "text/plain": [
       "<IPython.core.display.Javascript object>"
      ]
     },
     "metadata": {},
     "output_type": "display_data"
    },
    {
     "data": {
      "application/javascript": [
       "\n",
       "        for( var i=0; i < cy.io.selection.length; i++ ){\n",
       "            var ele = cy.io.selection[i]\n",
       "            ele.data('protein', 'sign' )\n",
       "        }\n",
       "        "
      ],
      "text/plain": [
       "<IPython.core.display.Javascript object>"
      ]
     },
     "metadata": {},
     "output_type": "display_data"
    },
    {
     "data": {
      "application/javascript": [
       "\n",
       "        for( var i=0; i < cy.io.selection.length; i++ ){\n",
       "            var ele = cy.io.selection[i]\n",
       "            ele.data('protein', 'signa' )\n",
       "        }\n",
       "        "
      ],
      "text/plain": [
       "<IPython.core.display.Javascript object>"
      ]
     },
     "metadata": {},
     "output_type": "display_data"
    },
    {
     "data": {
      "application/javascript": [
       "\n",
       "        for( var i=0; i < cy.io.selection.length; i++ ){\n",
       "            var ele = cy.io.selection[i]\n",
       "            ele.data('protein', 'signal' )\n",
       "        }\n",
       "        "
      ],
      "text/plain": [
       "<IPython.core.display.Javascript object>"
      ]
     },
     "metadata": {},
     "output_type": "display_data"
    },
    {
     "data": {
      "application/javascript": [
       "\n",
       "    for(var i=0; i < cy.io.selection.length; i++ ){\n",
       "        var ele = cy.io.selection[i]\n",
       "        ele.data( 'protein', '' )\n",
       "    }\n",
       "    "
      ],
      "text/plain": [
       "<IPython.core.display.Javascript object>"
      ]
     },
     "metadata": {},
     "output_type": "display_data"
    },
    {
     "data": {
      "application/javascript": [
       "\n",
       "        for( var i=0; i < cy.io.selection.length; i++ ){\n",
       "            var ele = cy.io.selection[i]\n",
       "            ele.data('protein', 'D' )\n",
       "        }\n",
       "        "
      ],
      "text/plain": [
       "<IPython.core.display.Javascript object>"
      ]
     },
     "metadata": {},
     "output_type": "display_data"
    },
    {
     "data": {
      "application/javascript": [
       "\n",
       "        for( var i=0; i < cy.io.selection.length; i++ ){\n",
       "            var ele = cy.io.selection[i]\n",
       "            ele.data('protein', 'DN' )\n",
       "        }\n",
       "        "
      ],
      "text/plain": [
       "<IPython.core.display.Javascript object>"
      ]
     },
     "metadata": {},
     "output_type": "display_data"
    },
    {
     "data": {
      "application/javascript": [
       "\n",
       "        for( var i=0; i < cy.io.selection.length; i++ ){\n",
       "            var ele = cy.io.selection[i]\n",
       "            ele.data('protein', 'DNA' )\n",
       "        }\n",
       "        "
      ],
      "text/plain": [
       "<IPython.core.display.Javascript object>"
      ]
     },
     "metadata": {},
     "output_type": "display_data"
    },
    {
     "data": {
      "application/javascript": [
       "\n",
       "        for( var i=0; i < cy.io.selection.length; i++ ){\n",
       "            var ele = cy.io.selection[i]\n",
       "            ele.data('protein', 'DNA ' )\n",
       "        }\n",
       "        "
      ],
      "text/plain": [
       "<IPython.core.display.Javascript object>"
      ]
     },
     "metadata": {},
     "output_type": "display_data"
    },
    {
     "data": {
      "application/javascript": [
       "\n",
       "        for( var i=0; i < cy.io.selection.length; i++ ){\n",
       "            var ele = cy.io.selection[i]\n",
       "            ele.data('protein', 'DNA D' )\n",
       "        }\n",
       "        "
      ],
      "text/plain": [
       "<IPython.core.display.Javascript object>"
      ]
     },
     "metadata": {},
     "output_type": "display_data"
    },
    {
     "data": {
      "application/javascript": [
       "\n",
       "        for( var i=0; i < cy.io.selection.length; i++ ){\n",
       "            var ele = cy.io.selection[i]\n",
       "            ele.data('protein', 'DNA Da' )\n",
       "        }\n",
       "        "
      ],
      "text/plain": [
       "<IPython.core.display.Javascript object>"
      ]
     },
     "metadata": {},
     "output_type": "display_data"
    },
    {
     "data": {
      "application/javascript": [
       "\n",
       "        for( var i=0; i < cy.io.selection.length; i++ ){\n",
       "            var ele = cy.io.selection[i]\n",
       "            ele.data('protein', 'DNA Dam' )\n",
       "        }\n",
       "        "
      ],
      "text/plain": [
       "<IPython.core.display.Javascript object>"
      ]
     },
     "metadata": {},
     "output_type": "display_data"
    },
    {
     "data": {
      "application/javascript": [
       "\n",
       "        for( var i=0; i < cy.io.selection.length; i++ ){\n",
       "            var ele = cy.io.selection[i]\n",
       "            ele.data('protein', 'DNA Dama' )\n",
       "        }\n",
       "        "
      ],
      "text/plain": [
       "<IPython.core.display.Javascript object>"
      ]
     },
     "metadata": {},
     "output_type": "display_data"
    },
    {
     "data": {
      "application/javascript": [
       "\n",
       "        for( var i=0; i < cy.io.selection.length; i++ ){\n",
       "            var ele = cy.io.selection[i]\n",
       "            ele.data('protein', 'DNA Damag' )\n",
       "        }\n",
       "        "
      ],
      "text/plain": [
       "<IPython.core.display.Javascript object>"
      ]
     },
     "metadata": {},
     "output_type": "display_data"
    },
    {
     "data": {
      "application/javascript": [
       "\n",
       "        for( var i=0; i < cy.io.selection.length; i++ ){\n",
       "            var ele = cy.io.selection[i]\n",
       "            ele.data('protein', 'DNA Damage' )\n",
       "        }\n",
       "        "
      ],
      "text/plain": [
       "<IPython.core.display.Javascript object>"
      ]
     },
     "metadata": {},
     "output_type": "display_data"
    },
    {
     "data": {
      "application/javascript": [
       "\n",
       "        for( var i=0; i < cy.io.selection.length; i++ ){\n",
       "            var ele = cy.io.selection[i]\n",
       "            ele.data('protein', 'DNA Damage ' )\n",
       "        }\n",
       "        "
      ],
      "text/plain": [
       "<IPython.core.display.Javascript object>"
      ]
     },
     "metadata": {},
     "output_type": "display_data"
    },
    {
     "data": {
      "application/javascript": [
       "\n",
       "        for( var i=0; i < cy.io.selection.length; i++ ){\n",
       "            var ele = cy.io.selection[i]\n",
       "            ele.data('protein', 'DNA Damage C' )\n",
       "        }\n",
       "        "
      ],
      "text/plain": [
       "<IPython.core.display.Javascript object>"
      ]
     },
     "metadata": {},
     "output_type": "display_data"
    },
    {
     "data": {
      "application/javascript": [
       "\n",
       "        for( var i=0; i < cy.io.selection.length; i++ ){\n",
       "            var ele = cy.io.selection[i]\n",
       "            ele.data('protein', 'DNA Damage Co' )\n",
       "        }\n",
       "        "
      ],
      "text/plain": [
       "<IPython.core.display.Javascript object>"
      ]
     },
     "metadata": {},
     "output_type": "display_data"
    },
    {
     "data": {
      "application/javascript": [
       "\n",
       "        for( var i=0; i < cy.io.selection.length; i++ ){\n",
       "            var ele = cy.io.selection[i]\n",
       "            ele.data('protein', 'DNA Damage Con' )\n",
       "        }\n",
       "        "
      ],
      "text/plain": [
       "<IPython.core.display.Javascript object>"
      ]
     },
     "metadata": {},
     "output_type": "display_data"
    },
    {
     "data": {
      "application/javascript": [
       "\n",
       "        for( var i=0; i < cy.io.selection.length; i++ ){\n",
       "            var ele = cy.io.selection[i]\n",
       "            ele.data('protein', 'DNA Damage Cont' )\n",
       "        }\n",
       "        "
      ],
      "text/plain": [
       "<IPython.core.display.Javascript object>"
      ]
     },
     "metadata": {},
     "output_type": "display_data"
    },
    {
     "data": {
      "application/javascript": [
       "\n",
       "        for( var i=0; i < cy.io.selection.length; i++ ){\n",
       "            var ele = cy.io.selection[i]\n",
       "            ele.data('protein', 'DNA Damage Contr' )\n",
       "        }\n",
       "        "
      ],
      "text/plain": [
       "<IPython.core.display.Javascript object>"
      ]
     },
     "metadata": {},
     "output_type": "display_data"
    },
    {
     "data": {
      "application/javascript": [
       "\n",
       "        for( var i=0; i < cy.io.selection.length; i++ ){\n",
       "            var ele = cy.io.selection[i]\n",
       "            ele.data('protein', 'DNA Damage Contro' )\n",
       "        }\n",
       "        "
      ],
      "text/plain": [
       "<IPython.core.display.Javascript object>"
      ]
     },
     "metadata": {},
     "output_type": "display_data"
    },
    {
     "data": {
      "application/javascript": [
       "\n",
       "        for( var i=0; i < cy.io.selection.length; i++ ){\n",
       "            var ele = cy.io.selection[i]\n",
       "            ele.data('protein', 'DNA Damage Control' )\n",
       "        }\n",
       "        "
      ],
      "text/plain": [
       "<IPython.core.display.Javascript object>"
      ]
     },
     "metadata": {},
     "output_type": "display_data"
    },
    {
     "data": {
      "application/javascript": [
       "\n",
       "        for( var i=0; i < cy.io.selection.length; i++ ){\n",
       "            var ele = cy.io.selection[i]\n",
       "            ele.data('protein', 'Signal Transduction / Growth Regulation ' )\n",
       "        }\n",
       "        "
      ],
      "text/plain": [
       "<IPython.core.display.Javascript object>"
      ]
     },
     "metadata": {},
     "output_type": "display_data"
    },
    {
     "data": {
      "application/javascript": [
       "\n",
       "    for(var i=0; i < cy.io.selection.length; i++ ){\n",
       "        var ele = cy.io.selection[i]\n",
       "        cy.io.style.change( ele, [\"background-color\",\"line-color\"], ['#c2fdd9','#c2fdd9']  )\n",
       "    }\n",
       "    "
      ],
      "text/plain": [
       "<IPython.core.display.Javascript object>"
      ]
     },
     "metadata": {},
     "output_type": "display_data"
    },
    {
     "data": {
      "application/javascript": [
       "\n",
       "    for(var i=0; i < cy.io.selection.length; i++ ){\n",
       "        var ele = cy.io.selection[i]\n",
       "        cy.io.style.change( ele, [\"background-color\",\"line-color\"], ['#c3fdd9','#c3fdd9']  )\n",
       "    }\n",
       "    "
      ],
      "text/plain": [
       "<IPython.core.display.Javascript object>"
      ]
     },
     "metadata": {},
     "output_type": "display_data"
    },
    {
     "data": {
      "application/javascript": [
       "\n",
       "    for(var i=0; i < cy.io.selection.length; i++ ){\n",
       "        var ele = cy.io.selection[i]\n",
       "        cy.io.style.change( ele, [\"background-color\",\"line-color\"], ['#c5fdd8','#c5fdd8']  )\n",
       "    }\n",
       "    "
      ],
      "text/plain": [
       "<IPython.core.display.Javascript object>"
      ]
     },
     "metadata": {},
     "output_type": "display_data"
    },
    {
     "data": {
      "application/javascript": [
       "\n",
       "    for(var i=0; i < cy.io.selection.length; i++ ){\n",
       "        var ele = cy.io.selection[i]\n",
       "        cy.io.style.change( ele, [\"background-color\",\"line-color\"], ['#c6fdd8','#c6fdd8']  )\n",
       "    }\n",
       "    "
      ],
      "text/plain": [
       "<IPython.core.display.Javascript object>"
      ]
     },
     "metadata": {},
     "output_type": "display_data"
    },
    {
     "data": {
      "application/javascript": [
       "\n",
       "    for(var i=0; i < cy.io.selection.length; i++ ){\n",
       "        var ele = cy.io.selection[i]\n",
       "        cy.io.style.change( ele, [\"background-color\",\"line-color\"], ['#cafdd8','#cafdd8']  )\n",
       "    }\n",
       "    "
      ],
      "text/plain": [
       "<IPython.core.display.Javascript object>"
      ]
     },
     "metadata": {},
     "output_type": "display_data"
    },
    {
     "data": {
      "application/javascript": [
       "\n",
       "    for(var i=0; i < cy.io.selection.length; i++ ){\n",
       "        var ele = cy.io.selection[i]\n",
       "        cy.io.style.change( ele, [\"background-color\",\"line-color\"], ['#cbfdd7','#cbfdd7']  )\n",
       "    }\n",
       "    "
      ],
      "text/plain": [
       "<IPython.core.display.Javascript object>"
      ]
     },
     "metadata": {},
     "output_type": "display_data"
    },
    {
     "data": {
      "application/javascript": [
       "\n",
       "    for(var i=0; i < cy.io.selection.length; i++ ){\n",
       "        var ele = cy.io.selection[i]\n",
       "        cy.io.style.change( ele, [\"background-color\",\"line-color\"], ['#d1fdd9','#d1fdd9']  )\n",
       "    }\n",
       "    "
      ],
      "text/plain": [
       "<IPython.core.display.Javascript object>"
      ]
     },
     "metadata": {},
     "output_type": "display_data"
    },
    {
     "data": {
      "application/javascript": [
       "\n",
       "    for(var i=0; i < cy.io.selection.length; i++ ){\n",
       "        var ele = cy.io.selection[i]\n",
       "        cy.io.style.change( ele, [\"background-color\",\"line-color\"], ['#d2fdda','#d2fdda']  )\n",
       "    }\n",
       "    "
      ],
      "text/plain": [
       "<IPython.core.display.Javascript object>"
      ]
     },
     "metadata": {},
     "output_type": "display_data"
    },
    {
     "data": {
      "application/javascript": [
       "\n",
       "    for(var i=0; i < cy.io.selection.length; i++ ){\n",
       "        var ele = cy.io.selection[i]\n",
       "        cy.io.style.change( ele, [\"background-color\",\"line-color\"], ['#d6fddc','#d6fddc']  )\n",
       "    }\n",
       "    "
      ],
      "text/plain": [
       "<IPython.core.display.Javascript object>"
      ]
     },
     "metadata": {},
     "output_type": "display_data"
    },
    {
     "data": {
      "application/javascript": [
       "\n",
       "    for(var i=0; i < cy.io.selection.length; i++ ){\n",
       "        var ele = cy.io.selection[i]\n",
       "        cy.io.style.change( ele, [\"background-color\",\"line-color\"], ['#d8fdde','#d8fdde']  )\n",
       "    }\n",
       "    "
      ],
      "text/plain": [
       "<IPython.core.display.Javascript object>"
      ]
     },
     "metadata": {},
     "output_type": "display_data"
    },
    {
     "data": {
      "application/javascript": [
       "\n",
       "    for(var i=0; i < cy.io.selection.length; i++ ){\n",
       "        var ele = cy.io.selection[i]\n",
       "        cy.io.style.change( ele, [\"background-color\",\"line-color\"], ['#ddfde1','#ddfde1']  )\n",
       "    }\n",
       "    "
      ],
      "text/plain": [
       "<IPython.core.display.Javascript object>"
      ]
     },
     "metadata": {},
     "output_type": "display_data"
    },
    {
     "data": {
      "application/javascript": [
       "\n",
       "    for(var i=0; i < cy.io.selection.length; i++ ){\n",
       "        var ele = cy.io.selection[i]\n",
       "        cy.io.style.change( ele, [\"background-color\",\"line-color\"], ['#e0fde2','#e0fde2']  )\n",
       "    }\n",
       "    "
      ],
      "text/plain": [
       "<IPython.core.display.Javascript object>"
      ]
     },
     "metadata": {},
     "output_type": "display_data"
    },
    {
     "data": {
      "application/javascript": [
       "\n",
       "    for(var i=0; i < cy.io.selection.length; i++ ){\n",
       "        var ele = cy.io.selection[i]\n",
       "        cy.io.style.change( ele, [\"background-color\",\"line-color\"], ['#e4fde6','#e4fde6']  )\n",
       "    }\n",
       "    "
      ],
      "text/plain": [
       "<IPython.core.display.Javascript object>"
      ]
     },
     "metadata": {},
     "output_type": "display_data"
    },
    {
     "data": {
      "application/javascript": [
       "\n",
       "    for(var i=0; i < cy.io.selection.length; i++ ){\n",
       "        var ele = cy.io.selection[i]\n",
       "        cy.io.style.change( ele, [\"background-color\",\"line-color\"], ['#e5fde6','#e5fde6']  )\n",
       "    }\n",
       "    "
      ],
      "text/plain": [
       "<IPython.core.display.Javascript object>"
      ]
     },
     "metadata": {},
     "output_type": "display_data"
    },
    {
     "data": {
      "application/javascript": [
       "\n",
       "    for(var i=0; i < cy.io.selection.length; i++ ){\n",
       "        var ele = cy.io.selection[i]\n",
       "        cy.io.style.change( ele, [\"background-color\",\"line-color\"], ['#e9fdeb','#e9fdeb']  )\n",
       "    }\n",
       "    "
      ],
      "text/plain": [
       "<IPython.core.display.Javascript object>"
      ]
     },
     "metadata": {},
     "output_type": "display_data"
    },
    {
     "data": {
      "application/javascript": [
       "\n",
       "    for(var i=0; i < cy.io.selection.length; i++ ){\n",
       "        var ele = cy.io.selection[i]\n",
       "        cy.io.style.change( ele, [\"background-color\",\"line-color\"], ['#ecfded','#ecfded']  )\n",
       "    }\n",
       "    "
      ],
      "text/plain": [
       "<IPython.core.display.Javascript object>"
      ]
     },
     "metadata": {},
     "output_type": "display_data"
    },
    {
     "data": {
      "application/javascript": [
       "\n",
       "    for(var i=0; i < cy.io.selection.length; i++ ){\n",
       "        var ele = cy.io.selection[i]\n",
       "        cy.io.style.change( ele, [\"background-color\",\"line-color\"], ['#effdef','#effdef']  )\n",
       "    }\n",
       "    "
      ],
      "text/plain": [
       "<IPython.core.display.Javascript object>"
      ]
     },
     "metadata": {},
     "output_type": "display_data"
    },
    {
     "data": {
      "application/javascript": [
       "\n",
       "    for(var i=0; i < cy.io.selection.length; i++ ){\n",
       "        var ele = cy.io.selection[i]\n",
       "        cy.io.style.change( ele, [\"background-color\",\"line-color\"], ['#f2fdf2','#f2fdf2']  )\n",
       "    }\n",
       "    "
      ],
      "text/plain": [
       "<IPython.core.display.Javascript object>"
      ]
     },
     "metadata": {},
     "output_type": "display_data"
    },
    {
     "data": {
      "application/javascript": [
       "\n",
       "    for(var i=0; i < cy.io.selection.length; i++ ){\n",
       "        var ele = cy.io.selection[i]\n",
       "        cy.io.style.change( ele, [\"background-color\",\"line-color\"], ['#f4fdf3','#f4fdf3']  )\n",
       "    }\n",
       "    "
      ],
      "text/plain": [
       "<IPython.core.display.Javascript object>"
      ]
     },
     "metadata": {},
     "output_type": "display_data"
    },
    {
     "data": {
      "application/javascript": [
       "\n",
       "    for(var i=0; i < cy.io.selection.length; i++ ){\n",
       "        var ele = cy.io.selection[i]\n",
       "        cy.io.style.change( ele, [\"background-color\",\"line-color\"], ['#f5fdf5','#f5fdf5']  )\n",
       "    }\n",
       "    "
      ],
      "text/plain": [
       "<IPython.core.display.Javascript object>"
      ]
     },
     "metadata": {},
     "output_type": "display_data"
    },
    {
     "data": {
      "application/javascript": [
       "\n",
       "    for(var i=0; i < cy.io.selection.length; i++ ){\n",
       "        var ele = cy.io.selection[i]\n",
       "        cy.io.style.change( ele, [\"background-color\",\"line-color\"], ['#f8fdf7','#f8fdf7']  )\n",
       "    }\n",
       "    "
      ],
      "text/plain": [
       "<IPython.core.display.Javascript object>"
      ]
     },
     "metadata": {},
     "output_type": "display_data"
    },
    {
     "data": {
      "application/javascript": [
       "\n",
       "    for(var i=0; i < cy.io.selection.length; i++ ){\n",
       "        var ele = cy.io.selection[i]\n",
       "        cy.io.style.change( ele, [\"background-color\",\"line-color\"], ['#f8fdf8','#f8fdf8']  )\n",
       "    }\n",
       "    "
      ],
      "text/plain": [
       "<IPython.core.display.Javascript object>"
      ]
     },
     "metadata": {},
     "output_type": "display_data"
    },
    {
     "data": {
      "application/javascript": [
       "\n",
       "    for(var i=0; i < cy.io.selection.length; i++ ){\n",
       "        var ele = cy.io.selection[i]\n",
       "        cy.io.style.change( ele, [\"background-color\",\"line-color\"], ['#f9fdf8','#f9fdf8']  )\n",
       "    }\n",
       "    "
      ],
      "text/plain": [
       "<IPython.core.display.Javascript object>"
      ]
     },
     "metadata": {},
     "output_type": "display_data"
    },
    {
     "data": {
      "application/javascript": [
       "\n",
       "    for(var i=0; i < cy.io.selection.length; i++ ){\n",
       "        var ele = cy.io.selection[i]\n",
       "        cy.io.style.change( ele, [\"background-color\",\"line-color\"], ['#fafdfa','#fafdfa']  )\n",
       "    }\n",
       "    "
      ],
      "text/plain": [
       "<IPython.core.display.Javascript object>"
      ]
     },
     "metadata": {},
     "output_type": "display_data"
    },
    {
     "data": {
      "application/javascript": [
       "\n",
       "    for(var i=0; i < cy.io.selection.length; i++ ){\n",
       "        var ele = cy.io.selection[i]\n",
       "        cy.io.style.change( ele, [\"background-color\",\"line-color\"], ['#fcfdfb','#fcfdfb']  )\n",
       "    }\n",
       "    "
      ],
      "text/plain": [
       "<IPython.core.display.Javascript object>"
      ]
     },
     "metadata": {},
     "output_type": "display_data"
    },
    {
     "data": {
      "application/javascript": [
       "\n",
       "    for(var i=0; i < cy.io.selection.length; i++ ){\n",
       "        var ele = cy.io.selection[i]\n",
       "        cy.io.style.change( ele, [\"background-color\",\"line-color\"], ['#fdfcfc','#fdfcfc']  )\n",
       "    }\n",
       "    "
      ],
      "text/plain": [
       "<IPython.core.display.Javascript object>"
      ]
     },
     "metadata": {},
     "output_type": "display_data"
    },
    {
     "data": {
      "application/javascript": [
       "\n",
       "    for(var i=0; i < cy.io.selection.length; i++ ){\n",
       "        var ele = cy.io.selection[i]\n",
       "        cy.io.style.change( ele, [\"background-color\",\"line-color\"], ['#fdfafa','#fdfafa']  )\n",
       "    }\n",
       "    "
      ],
      "text/plain": [
       "<IPython.core.display.Javascript object>"
      ]
     },
     "metadata": {},
     "output_type": "display_data"
    },
    {
     "data": {
      "application/javascript": [
       "\n",
       "    for(var i=0; i < cy.io.selection.length; i++ ){\n",
       "        var ele = cy.io.selection[i]\n",
       "        cy.io.style.change( ele, [\"background-color\",\"line-color\"], ['#fdf9fb','#fdf9fb']  )\n",
       "    }\n",
       "    "
      ],
      "text/plain": [
       "<IPython.core.display.Javascript object>"
      ]
     },
     "metadata": {},
     "output_type": "display_data"
    },
    {
     "data": {
      "application/javascript": [
       "\n",
       "    for(var i=0; i < cy.io.selection.length; i++ ){\n",
       "        var ele = cy.io.selection[i]\n",
       "        cy.io.style.change( ele, [\"background-color\",\"line-color\"], ['#fdf7fb','#fdf7fb']  )\n",
       "    }\n",
       "    "
      ],
      "text/plain": [
       "<IPython.core.display.Javascript object>"
      ]
     },
     "metadata": {},
     "output_type": "display_data"
    },
    {
     "data": {
      "application/javascript": [
       "\n",
       "    for(var i=0; i < cy.io.selection.length; i++ ){\n",
       "        var ele = cy.io.selection[i]\n",
       "        cy.io.style.change( ele, [\"background-color\",\"line-color\"], ['#fdf5fa','#fdf5fa']  )\n",
       "    }\n",
       "    "
      ],
      "text/plain": [
       "<IPython.core.display.Javascript object>"
      ]
     },
     "metadata": {},
     "output_type": "display_data"
    },
    {
     "data": {
      "application/javascript": [
       "\n",
       "    for(var i=0; i < cy.io.selection.length; i++ ){\n",
       "        var ele = cy.io.selection[i]\n",
       "        cy.io.style.change( ele, [\"background-color\",\"line-color\"], ['#fdf2fa','#fdf2fa']  )\n",
       "    }\n",
       "    "
      ],
      "text/plain": [
       "<IPython.core.display.Javascript object>"
      ]
     },
     "metadata": {},
     "output_type": "display_data"
    },
    {
     "data": {
      "application/javascript": [
       "\n",
       "    for(var i=0; i < cy.io.selection.length; i++ ){\n",
       "        var ele = cy.io.selection[i]\n",
       "        cy.io.style.change( ele, [\"background-color\",\"line-color\"], ['#fdeef9','#fdeef9']  )\n",
       "    }\n",
       "    "
      ],
      "text/plain": [
       "<IPython.core.display.Javascript object>"
      ]
     },
     "metadata": {},
     "output_type": "display_data"
    },
    {
     "data": {
      "application/javascript": [
       "\n",
       "    for(var i=0; i < cy.io.selection.length; i++ ){\n",
       "        var ele = cy.io.selection[i]\n",
       "        cy.io.style.change( ele, [\"background-color\",\"line-color\"], ['#fdedf9','#fdedf9']  )\n",
       "    }\n",
       "    "
      ],
      "text/plain": [
       "<IPython.core.display.Javascript object>"
      ]
     },
     "metadata": {},
     "output_type": "display_data"
    },
    {
     "data": {
      "application/javascript": [
       "\n",
       "    for(var i=0; i < cy.io.selection.length; i++ ){\n",
       "        var ele = cy.io.selection[i]\n",
       "        cy.io.style.change( ele, [\"background-color\",\"line-color\"], ['#fdebf9','#fdebf9']  )\n",
       "    }\n",
       "    "
      ],
      "text/plain": [
       "<IPython.core.display.Javascript object>"
      ]
     },
     "metadata": {},
     "output_type": "display_data"
    },
    {
     "data": {
      "application/javascript": [
       "\n",
       "    for(var i=0; i < cy.io.selection.length; i++ ){\n",
       "        var ele = cy.io.selection[i]\n",
       "        cy.io.style.change( ele, [\"background-color\",\"line-color\"], ['#fdeaf9','#fdeaf9']  )\n",
       "    }\n",
       "    "
      ],
      "text/plain": [
       "<IPython.core.display.Javascript object>"
      ]
     },
     "metadata": {},
     "output_type": "display_data"
    },
    {
     "data": {
      "application/javascript": [
       "\n",
       "    for(var i=0; i < cy.io.selection.length; i++ ){\n",
       "        var ele = cy.io.selection[i]\n",
       "        cy.io.style.change( ele, [\"background-color\",\"line-color\"], ['#fde9f8','#fde9f8']  )\n",
       "    }\n",
       "    "
      ],
      "text/plain": [
       "<IPython.core.display.Javascript object>"
      ]
     },
     "metadata": {},
     "output_type": "display_data"
    },
    {
     "data": {
      "application/javascript": [
       "\n",
       "    for(var i=0; i < cy.io.selection.length; i++ ){\n",
       "        var ele = cy.io.selection[i]\n",
       "        cy.io.style.change( ele, [\"background-color\",\"line-color\"], ['#fde7f9','#fde7f9']  )\n",
       "    }\n",
       "    "
      ],
      "text/plain": [
       "<IPython.core.display.Javascript object>"
      ]
     },
     "metadata": {},
     "output_type": "display_data"
    },
    {
     "data": {
      "application/javascript": [
       "\n",
       "    for(var i=0; i < cy.io.selection.length; i++ ){\n",
       "        var ele = cy.io.selection[i]\n",
       "        cy.io.style.change( ele, [\"background-color\",\"line-color\"], ['#fde6f9','#fde6f9']  )\n",
       "    }\n",
       "    "
      ],
      "text/plain": [
       "<IPython.core.display.Javascript object>"
      ]
     },
     "metadata": {},
     "output_type": "display_data"
    },
    {
     "data": {
      "application/javascript": [
       "\n",
       "    for(var i=0; i < cy.io.selection.length; i++ ){\n",
       "        var ele = cy.io.selection[i]\n",
       "        cy.io.style.change( ele, [\"background-color\",\"line-color\"], ['#fde5fa','#fde5fa']  )\n",
       "    }\n",
       "    "
      ],
      "text/plain": [
       "<IPython.core.display.Javascript object>"
      ]
     },
     "metadata": {},
     "output_type": "display_data"
    },
    {
     "data": {
      "application/javascript": [
       "\n",
       "    for(var i=0; i < cy.io.selection.length; i++ ){\n",
       "        var ele = cy.io.selection[i]\n",
       "        cy.io.style.change( ele, [\"background-color\",\"line-color\"], ['#fde4f9','#fde4f9']  )\n",
       "    }\n",
       "    "
      ],
      "text/plain": [
       "<IPython.core.display.Javascript object>"
      ]
     },
     "metadata": {},
     "output_type": "display_data"
    },
    {
     "data": {
      "application/javascript": [
       "\n",
       "    for(var i=0; i < cy.io.selection.length; i++ ){\n",
       "        var ele = cy.io.selection[i]\n",
       "        cy.io.style.change( ele, [\"background-color\",\"line-color\"], ['#fde3fa','#fde3fa']  )\n",
       "    }\n",
       "    "
      ],
      "text/plain": [
       "<IPython.core.display.Javascript object>"
      ]
     },
     "metadata": {},
     "output_type": "display_data"
    },
    {
     "data": {
      "application/javascript": [
       "\n",
       "    for(var i=0; i < cy.io.selection.length; i++ ){\n",
       "        var ele = cy.io.selection[i]\n",
       "        cy.io.style.change( ele, [\"background-color\",\"line-color\"], ['#fde2fb','#fde2fb']  )\n",
       "    }\n",
       "    "
      ],
      "text/plain": [
       "<IPython.core.display.Javascript object>"
      ]
     },
     "metadata": {},
     "output_type": "display_data"
    },
    {
     "data": {
      "application/javascript": [
       "\n",
       "    for(var i=0; i < cy.io.selection.length; i++ ){\n",
       "        var ele = cy.io.selection[i]\n",
       "        cy.io.style.change( ele, [\"background-color\",\"line-color\"], ['#fde1fb','#fde1fb']  )\n",
       "    }\n",
       "    "
      ],
      "text/plain": [
       "<IPython.core.display.Javascript object>"
      ]
     },
     "metadata": {},
     "output_type": "display_data"
    },
    {
     "data": {
      "application/javascript": [
       "\n",
       "    for(var i=0; i < cy.io.selection.length; i++ ){\n",
       "        var ele = cy.io.selection[i]\n",
       "        cy.io.style.change( ele, [\"background-color\",\"line-color\"], ['#fde0fc','#fde0fc']  )\n",
       "    }\n",
       "    "
      ],
      "text/plain": [
       "<IPython.core.display.Javascript object>"
      ]
     },
     "metadata": {},
     "output_type": "display_data"
    },
    {
     "data": {
      "application/javascript": [
       "\n",
       "    for(var i=0; i < cy.io.selection.length; i++ ){\n",
       "        var ele = cy.io.selection[i]\n",
       "        cy.io.style.change( ele, [\"background-color\",\"line-color\"], ['#fddffc','#fddffc']  )\n",
       "    }\n",
       "    "
      ],
      "text/plain": [
       "<IPython.core.display.Javascript object>"
      ]
     },
     "metadata": {},
     "output_type": "display_data"
    },
    {
     "data": {
      "application/javascript": [
       "\n",
       "    for(var i=0; i < cy.io.selection.length; i++ ){\n",
       "        var ele = cy.io.selection[i]\n",
       "        cy.io.style.change( ele, [\"background-color\",\"line-color\"], ['#fde0fd','#fde0fd']  )\n",
       "    }\n",
       "    "
      ],
      "text/plain": [
       "<IPython.core.display.Javascript object>"
      ]
     },
     "metadata": {},
     "output_type": "display_data"
    },
    {
     "data": {
      "application/javascript": [
       "\n",
       "    for(var i=0; i < cy.io.selection.length; i++ ){\n",
       "        var ele = cy.io.selection[i]\n",
       "        cy.io.style.change( ele, \"label\", 'D'  )\n",
       "    }\n",
       "    "
      ],
      "text/plain": [
       "<IPython.core.display.Javascript object>"
      ]
     },
     "metadata": {},
     "output_type": "display_data"
    },
    {
     "data": {
      "application/javascript": [
       "\n",
       "    for(var i=0; i < cy.io.selection.length; i++ ){\n",
       "        var ele = cy.io.selection[i]\n",
       "        cy.io.style.change( ele, \"label\", 'DH'  )\n",
       "    }\n",
       "    "
      ],
      "text/plain": [
       "<IPython.core.display.Javascript object>"
      ]
     },
     "metadata": {},
     "output_type": "display_data"
    },
    {
     "data": {
      "application/javascript": [
       "\n",
       "    for(var i=0; i < cy.io.selection.length; i++ ){\n",
       "        var ele = cy.io.selection[i]\n",
       "        cy.io.style.change( ele, \"label\", 'DHF'  )\n",
       "    }\n",
       "    "
      ],
      "text/plain": [
       "<IPython.core.display.Javascript object>"
      ]
     },
     "metadata": {},
     "output_type": "display_data"
    },
    {
     "data": {
      "application/javascript": [
       "\n",
       "    for(var i=0; i < cy.io.selection.length; i++ ){\n",
       "        var ele = cy.io.selection[i]\n",
       "        cy.io.style.change( ele, \"label\", 'DHFR'  )\n",
       "    }\n",
       "    "
      ],
      "text/plain": [
       "<IPython.core.display.Javascript object>"
      ]
     },
     "metadata": {},
     "output_type": "display_data"
    },
    {
     "data": {
      "application/javascript": [
       "\n",
       "    for(var i=0; i < cy.io.selection.length; i++ ){\n",
       "        var ele = cy.io.selection[i]\n",
       "        ele.data( 'protein', '' )\n",
       "    }\n",
       "    "
      ],
      "text/plain": [
       "<IPython.core.display.Javascript object>"
      ]
     },
     "metadata": {},
     "output_type": "display_data"
    },
    {
     "data": {
      "application/javascript": [
       "\n",
       "        for( var i=0; i < cy.io.selection.length; i++ ){\n",
       "            var ele = cy.io.selection[i]\n",
       "            ele.data('protein', 'M' )\n",
       "        }\n",
       "        "
      ],
      "text/plain": [
       "<IPython.core.display.Javascript object>"
      ]
     },
     "metadata": {},
     "output_type": "display_data"
    },
    {
     "data": {
      "application/javascript": [
       "\n",
       "        for( var i=0; i < cy.io.selection.length; i++ ){\n",
       "            var ele = cy.io.selection[i]\n",
       "            ele.data('protein', 'Me' )\n",
       "        }\n",
       "        "
      ],
      "text/plain": [
       "<IPython.core.display.Javascript object>"
      ]
     },
     "metadata": {},
     "output_type": "display_data"
    },
    {
     "data": {
      "application/javascript": [
       "\n",
       "        for( var i=0; i < cy.io.selection.length; i++ ){\n",
       "            var ele = cy.io.selection[i]\n",
       "            ele.data('protein', 'Met' )\n",
       "        }\n",
       "        "
      ],
      "text/plain": [
       "<IPython.core.display.Javascript object>"
      ]
     },
     "metadata": {},
     "output_type": "display_data"
    },
    {
     "data": {
      "application/javascript": [
       "\n",
       "        for( var i=0; i < cy.io.selection.length; i++ ){\n",
       "            var ele = cy.io.selection[i]\n",
       "            ele.data('protein', 'Meta' )\n",
       "        }\n",
       "        "
      ],
      "text/plain": [
       "<IPython.core.display.Javascript object>"
      ]
     },
     "metadata": {},
     "output_type": "display_data"
    },
    {
     "data": {
      "application/javascript": [
       "\n",
       "        for( var i=0; i < cy.io.selection.length; i++ ){\n",
       "            var ele = cy.io.selection[i]\n",
       "            ele.data('protein', 'Metab' )\n",
       "        }\n",
       "        "
      ],
      "text/plain": [
       "<IPython.core.display.Javascript object>"
      ]
     },
     "metadata": {},
     "output_type": "display_data"
    },
    {
     "data": {
      "application/javascript": [
       "\n",
       "        for( var i=0; i < cy.io.selection.length; i++ ){\n",
       "            var ele = cy.io.selection[i]\n",
       "            ele.data('protein', 'Metabo' )\n",
       "        }\n",
       "        "
      ],
      "text/plain": [
       "<IPython.core.display.Javascript object>"
      ]
     },
     "metadata": {},
     "output_type": "display_data"
    },
    {
     "data": {
      "application/javascript": [
       "\n",
       "        for( var i=0; i < cy.io.selection.length; i++ ){\n",
       "            var ele = cy.io.selection[i]\n",
       "            ele.data('protein', 'Metabol' )\n",
       "        }\n",
       "        "
      ],
      "text/plain": [
       "<IPython.core.display.Javascript object>"
      ]
     },
     "metadata": {},
     "output_type": "display_data"
    },
    {
     "data": {
      "application/javascript": [
       "\n",
       "        for( var i=0; i < cy.io.selection.length; i++ ){\n",
       "            var ele = cy.io.selection[i]\n",
       "            ele.data('protein', 'Metaboli' )\n",
       "        }\n",
       "        "
      ],
      "text/plain": [
       "<IPython.core.display.Javascript object>"
      ]
     },
     "metadata": {},
     "output_type": "display_data"
    },
    {
     "data": {
      "application/javascript": [
       "\n",
       "        for( var i=0; i < cy.io.selection.length; i++ ){\n",
       "            var ele = cy.io.selection[i]\n",
       "            ele.data('protein', 'Metabolic' )\n",
       "        }\n",
       "        "
      ],
      "text/plain": [
       "<IPython.core.display.Javascript object>"
      ]
     },
     "metadata": {},
     "output_type": "display_data"
    },
    {
     "data": {
      "application/javascript": [
       "\n",
       "    for(var i=0; i < cy.io.selection.length; i++ ){\n",
       "        var ele = cy.io.selection[i]\n",
       "        if( ele.isEdge() ){\n",
       "            ele.style( \"source-arrow-color\", ele.style(\"line-color\")  )\n",
       "            ele.style( \"source-arrow-shape\", 'vee' )\n",
       "        } \n",
       "    }\n",
       "    "
      ],
      "text/plain": [
       "<IPython.core.display.Javascript object>"
      ]
     },
     "metadata": {},
     "output_type": "display_data"
    },
    {
     "data": {
      "application/javascript": [
       "\n",
       "    for(var i=0; i < cy.io.selection.length; i++ ){\n",
       "        var ele = cy.io.selection[i]\n",
       "        if( ele.isEdge() ){\n",
       "            ele.style( \"source-arrow-color\", ele.style(\"line-color\")  )\n",
       "            ele.style( \"source-arrow-shape\", 'circle' )\n",
       "        } \n",
       "    }\n",
       "    "
      ],
      "text/plain": [
       "<IPython.core.display.Javascript object>"
      ]
     },
     "metadata": {},
     "output_type": "display_data"
    },
    {
     "data": {
      "application/javascript": [
       "\n",
       "    for( var i=0; i < cy.io.selection.length; i++ ){\n",
       "        var ele = cy.io.selection[i]\n",
       "        if( ele.isEdge() ){\n",
       "            ele.style( \"target-arrow-color\", ele.style(\"line-color\")  )\n",
       "            ele.style( \"target-arrow-shape\", 'diamond' )\n",
       "        } \n",
       "    }\n",
       "    "
      ],
      "text/plain": [
       "<IPython.core.display.Javascript object>"
      ]
     },
     "metadata": {},
     "output_type": "display_data"
    },
    {
     "data": {
      "application/javascript": [
       "\n",
       "    for( var i=0; i < cy.io.selection.length; i++ ){\n",
       "        var ele = cy.io.selection[i]\n",
       "        if( ele.isEdge() ){\n",
       "            ele.style( \"target-arrow-color\", ele.style(\"line-color\")  )\n",
       "            ele.style( \"target-arrow-shape\", 'triangle' )\n",
       "        } \n",
       "    }\n",
       "    "
      ],
      "text/plain": [
       "<IPython.core.display.Javascript object>"
      ]
     },
     "metadata": {},
     "output_type": "display_data"
    },
    {
     "data": {
      "application/javascript": [
       "\n",
       "    cy.io.selection.unselect()\n",
       "    cy.$('edge').select()\n",
       "    "
      ],
      "text/plain": [
       "<IPython.core.display.Javascript object>"
      ]
     },
     "metadata": {},
     "output_type": "display_data"
    },
    {
     "data": {
      "application/javascript": [
       "\n",
       "    for(var i=0; i < cy.io.selection.length; i++ ){\n",
       "        var ele = cy.io.selection[i]\n",
       "        if( ele.isEdge() ){\n",
       "            ele.style( \"source-arrow-color\", ele.style(\"line-color\")  )\n",
       "            ele.style( \"source-arrow-shape\", 'none' )\n",
       "        } \n",
       "    }\n",
       "    "
      ],
      "text/plain": [
       "<IPython.core.display.Javascript object>"
      ]
     },
     "metadata": {},
     "output_type": "display_data"
    }
   ],
   "source": [
    "display( Graph.box.editor ) "
   ]
  },
  {
   "cell_type": "code",
   "execution_count": 74,
   "metadata": {
    "cell_style": "split",
    "scrolled": false
   },
   "outputs": [
    {
     "data": {
      "text/html": [
       "\n",
       "<style>.cy{ \n",
       "    width: 100%; \n",
       "    height: 40vw;\n",
       "    border-style: solid;\n",
       "    border-width: 1px;\n",
       "}</style>\n",
       "<div id='cy' class='cy'></div>\n"
      ],
      "text/plain": [
       "<IPython.core.display.HTML object>"
      ]
     },
     "metadata": {},
     "output_type": "display_data"
    }
   ],
   "source": [
    "display( Graph.html.cy )"
   ]
  },
  {
   "cell_type": "code",
   "execution_count": 75,
   "metadata": {
    "cell_style": "split"
   },
   "outputs": [
    {
     "data": {
      "text/html": [
       "\n",
       "<table id=\"table\" class=\"table table-striped table-bordered\">\n",
       "    <thead><tr id=\"table_head\"></tr></thead>\n",
       "    <tbody id=\"table_body\"></tbody>    \n",
       "</table>\n"
      ],
      "text/plain": [
       "<IPython.core.display.HTML object>"
      ]
     },
     "metadata": {},
     "output_type": "display_data"
    }
   ],
   "source": [
    "display( Graph.html.table ) "
   ]
  },
  {
   "cell_type": "code",
   "execution_count": 76,
   "metadata": {
    "cell_style": "split"
   },
   "outputs": [
    {
     "data": {
      "application/vnd.jupyter.widget-view+json": {
       "model_id": "bb21f27ce4854a3db0e3684783c87c3d",
       "version_major": 2,
       "version_minor": 0
      },
      "text/plain": [
       "Accordion(children=(HTML(value=\"<h2 class='text-danger text-center'>Coming Soon! Wait for Update</h2>\"), VBox(…"
      ]
     },
     "metadata": {},
     "output_type": "display_data"
    },
    {
     "data": {
      "application/javascript": [
       "\n",
       "    //console.log(\"inside saveHtml\")\n",
       "    var toSend = {}\n",
       "    toSend[\"elements\"] = []; toSend[\"style\"] = []; \n",
       "    toSend[\"layout\"] = {name:'preset'}\n",
       "\n",
       "    \n",
       "    // Add default styles:\n",
       "    toSend[\"style\"].push({ selector: 'node', style: cy.io.default.node })\n",
       "    toSend[\"style\"].push({ selector: 'edge', style: cy.io.default.edge }) \n",
       "    \n",
       "    // Add Element data/style/position for all elements\n",
       "    var allEles = cy.elements()\n",
       "    for(var i=0; i < allEles.length; i++ ){\n",
       "        var ele = allEles[i]\n",
       "        \n",
       "        // Add element and node positions\n",
       "        if( ele.isNode() ){\n",
       "            toSend[\"elements\"].push({ data: ele.data() , position: ele.renderedPosition() })  //<-- Sends Node Info\n",
       "        } else {\n",
       "            toSend[\"elements\"].push({ data: ele.data()  })  //<-- Sends Node Info\n",
       "        }\n",
       "        \n",
       "        // Create node style\n",
       "        var eleStyle = {}\n",
       "        var template  =  ele.isNode() ? cy.io.default.node : cy.io.default.edge\n",
       "        for( var property in ele.style() ){ \n",
       "            if( !/[A-Z]/.test(property) && !property.includes(\"pie\") &&  ele.style(property) != \"NaNpx\" && !property.includes(\"overlay\") &&\n",
       "                                            template[property] != ele.style(property)  ){   //  remove errors, check that style different from default\n",
       "                eleStyle[property] = ele.style( property ) \n",
       "            }\n",
       "        }\n",
       "        toSend[\"style\"].push({ style: eleStyle , selector: '#'+ele.data('id') }) //<-- make sure to optimize this\n",
       "    }\n",
       "    \n",
       "    cy.io.saveHtml.send( toSend )\n",
       "    "
      ],
      "text/plain": [
       "<IPython.core.display.Javascript object>"
      ]
     },
     "metadata": {},
     "output_type": "display_data"
    }
   ],
   "source": [
    "display( Graph.box.loadSave) "
   ]
  },
  {
   "cell_type": "code",
   "execution_count": 77,
   "metadata": {
    "cell_style": "split"
   },
   "outputs": [
    {
     "data": {
      "text/html": [
       "<script>\n",
       "var cy;\n",
       "require(['cytoscape'], function(cytoscape){ \n",
       "    cy = cytoscape({ container: document.getElementById('cy') });\n",
       "\n",
       "cy.io = {}       // <-- where we store all the parameters/variables we create        \n",
       "cy.maxZoom(14)   // <-- Determine how much window zooms in and out\n",
       "cy.minZoom(.4)\n",
       "\n",
       "// Create default style for nodes and edges\n",
       "cy.io.style = {}\n",
       "cy.io.style.node = { 'overlay-color': 'gray', 'overlay-padding': '2px', 'background-color': 'gray', 'text-background-color':'white',\n",
       "                        'text-border-width':'2px', 'text-background-padding':'4px', 'z-index-compare':'manual' }\n",
       "cy.io.style.edge = { 'overlay-color': 'gray', 'overlay-padding': '8px', 'line-color': 'gray', 'curve-style': 'bezier', 'text-background-color':'white',\n",
       "                        'text-border-width':'2px', 'text-background-padding':'4px', 'z-index-compare':'manual' }\n",
       "\n",
       "cy.on(\"select\", 'node, edge' , function(){     //<-- highlight node when selected\n",
       "    this.style( 'overlay-opacity', .4 );\n",
       "});\n",
       "cy.on(\"unselect\", 'node, edge' , function(){   //<-- unhighlight when not selected\n",
       "    this.style( 'overlay-opacity', 0 );\n",
       "});\n",
       "\n",
       "cy.io.style.set = function(ele, self=false){\n",
       "    var style = (ele.isNode() ) ? cy.io.style.node : cy.io.style.edge ;\n",
       "    \n",
       "    for( var property in ele.style() ){ \n",
       "        if(  !/[A-Z]/.test(property) && !property.includes(\"pie\") && ele.style(property) != \"NaNpx\" && !property.includes(\"overlay\") &&\n",
       "                                        style[property] != ele.style(property)  ){   //<--  remove cytoscape.js errors and repitition\n",
       "           if( self == false ){                  //<-- set properties of element\n",
       "                ele.style( property, style[property] )\n",
       "            }else{                               //<-- set properties of style *using* element\n",
       "                style[ property ] = ele.style( property ) \n",
       "            }    \n",
       "       }\n",
       "    }\n",
       "};\n",
       "\n",
       "cy.io.addNode = function(event){\n",
       "  if( event.target === cy ){                                                          // <-- If we tapped on the background\n",
       "      var ele = cy.add([ {  group: \"nodes\", position: event.position  } ]);          //<-- add node    \n",
       "      cy.io.style.set( ele )\n",
       "  }; \n",
       "};\n",
       "cy.on('tap', cy.io.addNode );\n",
       "\n",
       "cy.io.click_hist = [\"1\", \"2\", \"3\", \"4\"];\n",
       "cy.io.click_time = [8, 6, 4, 2];\n",
       "\n",
       "cy.io.addEdge = function(event){                                    // <-- on \"tapping\" canvas\n",
       "    cy.io.click_hist.shift();     //<-- Remove oldest click\n",
       "    \n",
       "    //Update Click times\n",
       "    var d = new Date()\n",
       "    cy.io.click_time.shift()\n",
       "    cy.io.click_time.push( d.getTime()/1000 )\n",
       "    \n",
       "    if( event.target !== cy && event.target.isNode() ){               // <-- If we tapped a Node\n",
       "      cy.io.click_hist.push( event.target.id() );                   // <-- Add node id to click history\n",
       "\n",
       "      if( cy.io.click_hist[0]==cy.io.click_hist[1] && cy.io.click_hist[2]==cy.io.click_hist[3] &&           cy.io.click_time[1] - cy.io.click_time[0] < 1 && cy.io.click_time[3] - cy.io.click_time[2] < 1  ){ //<-- If 2 double clicks\n",
       "          \n",
       "          var ele= cy.add([ {  data: { source: cy.io.click_hist[0], target: cy.io.click_hist[2] }  } ]);    //<-- add edge\n",
       "          cy.io.style.set( ele )                                                                            //<-- add style of new edge\n",
       "      };\n",
       "\n",
       "    }else{                                                 //<-- if we didn't click a node\n",
       "      cy.io.click_hist.push( String(Math.random()) );   //<-- Add random string to click history (repeats unlikely)\n",
       "    }; \n",
       "};\n",
       "cy.on( 'tap' , cy.io.addEdge );\n",
       "\n",
       "cy.io.style.change = function(ele, property, value ){\n",
       "    cy.io.style.set( ele, self=true )                                     // Make style same as node type\n",
       "    var style = (ele.isNode() ) ? cy.io.style.node : cy.io.style.edge ;   // get style type\n",
       "    \n",
       "    typeof(property)\n",
       "    if( typeof(property)==\"string\" ){                                     // handle changing a single style property\n",
       "        style[ property ] = value                                             // change style value\n",
       "        ele.style( property, value )                                          // change element's value\n",
       "    }else{                                                                // Multiple properties\n",
       "        for(var i=0; i<property.length; i++){\n",
       "            style[ property[i] ] = value[i]\n",
       "            ele.style( property[i], value[i] )  \n",
       "        }\n",
       "    }\n",
       "};\n",
       "\n",
       "var eles = cy.add([  {data: { id: 'a' }},  {data: { id: 'b' }},  {data: { id: 'ab', source: 'a', target: 'b'}}  ])\n",
       "cy.io.style.set( eles[0] ) \n",
       "cy.io.style.set( eles[2] )\n",
       "cy.io.style.set(eles[0], self=true )\n",
       "cy.io.style.set(eles[2], self=true )\n",
       "cy.io.default = {}\n",
       "cy.io.default.node = jQuery.extend(true, {}, cy.io.style.node );\n",
       "cy.io.default.edge = jQuery.extend(true, {}, cy.io.style.edge );\n",
       "cy.remove(eles)\n",
       "cy.io.saveHtml = Jupyter.notebook.kernel.comm_manager.new_comm('save_html')\n",
       "cy.on('select unselect', 'node, edge', function(event){ \n",
       "cy.io.selection= cy.$(':selected')  \n",
       "var selection = cy.io.selection\n",
       "py.execute(\"Graph.w.varBox.children = ()\")\n",
       "\n",
       "if( selection.length == 0 ){ py.execute('Graph.w.var_add_name.reset(True)'); return;} \n",
       "\n",
       "cy.io.vars = []\n",
       "cy.io.varTypes = []\n",
       "\n",
       "if( selection.length == 1 ){        \n",
       "    var data = selection[0].data()\n",
       "    var data_vars = Object.keys(data).slice(1,)\n",
       "    for( i in data){            \n",
       "        if( data[i] != undefined && i!='id' ){\n",
       "            cy.io.vars.push(i)\n",
       "            var val_js = ( typeof(data[i])==\"number\" ) ? String(data[i]) : '\"'+data[i]+'\"'\n",
       "            py.execute('Graph.w.varBox.add(\"'+i+'\",'+val_js+')')\n",
       "\n",
       "            var varType =  ( typeof(data[i])==\"number\" ) ? \"number\" : \"text\"\n",
       "            cy.io.varTypes.push( varType )\n",
       "        }\n",
       "    }\n",
       "}else{\n",
       "\n",
       "    for( var i=0; i < selection.length; i++ ){\n",
       "        var ele = selection[i]\n",
       "        var data = ele.data()\n",
       "        for( key in data ){\n",
       "            if( key!='id' && !cy.io.vars.includes(key) && data[key]!=undefined ){\n",
       "                cy.io.vars.push( key )\n",
       "\n",
       "                var varType =  ( typeof(data[key])==\"number\" ) ? \"number\" : \"text\"\n",
       "                cy.io.varTypes.push( varType )\n",
       "            }\n",
       "        }\n",
       "    }\n",
       "    for( show in cy.io.vars ){\n",
       "        py.execute('Graph.w.varBox.add(\"'+cy.io.vars[show]+'\")')\n",
       "    }\n",
       "}\n",
       "py.execute('Graph.w.var_add_name.reset()')\n",
       "\n",
       "var table_head = document.getElementById(\"table_head\")\n",
       "table_head.innerHTML = ''\n",
       "for( var i in cy.io.vars ){\n",
       "    table_head.innerHTML += '<th style=\"text-align: center\"><h3>'+cy.io.vars[i]+'</h3></th>'\n",
       "}\n",
       "\n",
       "    var table_body = document.getElementById(\"table_body\")\n",
       "    table_body.innerHTML = \"\"\n",
       "    \n",
       "    for( var i=0; i<cy.io.selection.length; i++ ){\n",
       "        var ele = cy.io.selection[i]\n",
       "        var data = ele.data()\n",
       "        var row = document.createElement(\"tr\");\n",
       "        \n",
       "        for( var j in cy.io.vars ){\n",
       "            var cell = document.createElement(\"td\");\n",
       "            val = ( cy.io.varTypes[j]==\"number\" ) ? \"Number(this.value)\" : \"this.value\"\n",
       "            addFunc = '\"' + \"cy.$id('\" +data['id']+ \"').data('\" +cy.io.vars[j]+ \"', \" +val+ \" )\" +'\"' \n",
       "            \n",
       "            if( data[cy.io.vars[j] ]!=undefined ){\n",
       "                cell.innerHTML = '<input type=\"'+cy.io.varTypes[j]+'\" class=\"form-control\" value=\"'+data[cy.io.vars[j]]+'\" onkeyup='+addFunc+'  >' \n",
       "            }else{\n",
       "                cell.innerHTML = '<input type=\"'+cy.io.varTypes[j]+'\" class=\"form-control\" onkeyup='+addFunc+'  >' \n",
       "            }\n",
       "            row.appendChild(cell)\n",
       "        }\n",
       "        table_body.appendChild(row)\n",
       "    }\n",
       "\n",
       "});});</script>"
      ],
      "text/plain": [
       "<IPython.core.display.HTML object>"
      ]
     },
     "metadata": {},
     "output_type": "display_data"
    }
   ],
   "source": [
    "Graph.js.load()"
   ]
  },
  {
   "cell_type": "code",
   "execution_count": null,
   "metadata": {},
   "outputs": [],
   "source": []
  },
  {
   "cell_type": "code",
   "execution_count": null,
   "metadata": {},
   "outputs": [],
   "source": []
  }
 ],
 "metadata": {
  "hide_input": false,
  "kernelspec": {
   "display_name": "Python 3",
   "language": "python",
   "name": "python3"
  },
  "language_info": {
   "codemirror_mode": {
    "name": "ipython",
    "version": 3
   },
   "file_extension": ".py",
   "mimetype": "text/x-python",
   "name": "python",
   "nbconvert_exporter": "python",
   "pygments_lexer": "ipython3",
   "version": "3.6.3"
  },
  "toc": {
   "base_numbering": 1,
   "nav_menu": {},
   "number_sections": true,
   "sideBar": true,
   "skip_h1_title": false,
   "title_cell": "Table of Contents",
   "title_sidebar": "Contents",
   "toc_cell": false,
   "toc_position": {},
   "toc_section_display": true,
   "toc_window_display": false
  },
  "varInspector": {
   "cols": {
    "lenName": 16,
    "lenType": 16,
    "lenVar": 40
   },
   "kernels_config": {
    "python": {
     "delete_cmd_postfix": "",
     "delete_cmd_prefix": "del ",
     "library": "var_list.py",
     "varRefreshCmd": "print(var_dic_list())"
    },
    "r": {
     "delete_cmd_postfix": ") ",
     "delete_cmd_prefix": "rm(",
     "library": "var_list.r",
     "varRefreshCmd": "cat(var_dic_list()) "
    }
   },
   "types_to_exclude": [
    "module",
    "function",
    "builtin_function_or_method",
    "instance",
    "_Feature"
   ],
   "window_display": false
  }
 },
 "nbformat": 4,
 "nbformat_minor": 2
}
